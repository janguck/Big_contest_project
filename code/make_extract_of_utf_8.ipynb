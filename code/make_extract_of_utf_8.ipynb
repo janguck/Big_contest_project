{
 "cells": [
  {
   "cell_type": "code",
   "execution_count": 1,
   "metadata": {
    "collapsed": false
   },
   "outputs": [],
   "source": [
    "real_data = []\n",
    "with open(\"../data_utf_8/plus_y_data_CLAIM_DATA_utf_8\", \"r\") as sion:  \n",
    "    datas = sion.readlines()\n",
    "    for data in datas:\n",
    "        data = data.split(\",\")\n",
    "        if data[1] == \"\":\n",
    "            continue\n",
    "        else:\n",
    "            real_data.append(data)"
   ]
  },
  {
   "cell_type": "code",
   "execution_count": 4,
   "metadata": {
    "collapsed": false
   },
   "outputs": [
    {
     "name": "stdout",
     "output_type": "stream",
     "text": [
      ",SIU_CUST_YN,CUST_ID,POLY_NO,ACCI_OCCP_GRP1,ACCI_OCCP_GRP2,CHANG_FP_YN,CNTT_RECP_SQNO,RECP_DATE,ORIG_RESN_DATE,RESN_DATE,CRNT_PROG_DVSN,ACCI_DVSN,CAUS_CODE,CAUS_CODE_DTAL,DSAS_NAME,DMND_RESN_CODE,DMND_RSCD_SQNO,HOSP_OTPA_STDT,HOSP_OTPA_ENDT,RESL_CD1,RESL_NM1,VLID_HOSP_OTDA,HOUSE_HOSP_DIST,HOSP_CODE,ACCI_HOSP_ADDR,HOSP_SPEC_DVSN,CHME_LICE_NO,PAYM_DATE,DMND_AMT,PAYM_AMT,PMMI_DLNG_YN,SELF_CHAM,NON_PAY,TAMT_SFCA,PATT_CHRG_TOTA,DSCT_AMT,COUNT_TRMT_ITEM,DCAF_CMPS_XCPA,NON_PAY_RATIO,HEED_HOSP_YN\n",
      "\n",
      "0,N,5936,1365,8.기타,학생,Y,2006011200001,20060112,20060109,20060109,11,1,W21,#,하악부표재성손상,3,2,20060109.0,20060111.0,S00,머리의 얕은(표재성)손상,2,,12537.0,,95.0,11606,20060112.0,20000,20000,N,,,,,,,,0.0,N\n",
      "\n",
      "1,N,5936,6151,8.기타,학생,Y,2006011200002,20060112,20060109,20060109,11,1,W21,#,하악부표재성손상,3,2,20060109.0,20060111.0,S00,머리의 얕은(표재성)손상,2,,12537.0,,95.0,11606,20060112.0,30000,30000,N,,,,,,,,0.0,N\n",
      "\n",
      "2,N,5936,10364,8.기타,학생,Y,2006011200003,20060112,20060109,20060109,11,1,W21,#,하악부표재성손상,3,2,20060109.0,20060111.0,S00,머리의 얕은(표재성)손상,2,,12537.0,,95.0,11606,20060112.0,40000,40000,N,,,,,,,,0.0,N\n",
      "\n",
      "3,N,1043,1247,1.주부,주부,N,2006011200004,20060112,20060105,20060105,23,3,A09,#,기타세균성창자감염|손목및손의2도화상|피부염,2,1,20060105.0,20060110.0,A09,감염성 및 상세불명 기원의 기타위장염 및 결장염,6,,12537.0,,95.0,17647,20060113.0,60000,60000,N,,,,,,,,0.0,N\n",
      "\n",
      "4,N,8545,11236,1.주부,주부,Y,2006011200005,20060112,20060110,20060110,11,3,I83,#,좌측하지정맥류혈관발거술|레이저소작술,5,1,,,I83,다리(하지)의 정맥류,0,4.88,2305.0,경기,30.0,25697,20060112.0,200000,200000,N,,,,,,,,0.0,N\n",
      "\n",
      "5,N,4734,95991,8.기타,학생,Y,2006011200006,20060112,20060103,20060103,11,3,A08,0,로타바이러스창자염|급성기관지염,2,1,20060103.0,20060106.0,A08,바이러스 및 기타 명시된 장 감염,4,2.85,1853.0,인천,10.0,5503,20060112.0,30000,30000,N,,,,,,,,0.0,N\n",
      "\n",
      "6,N,9416,75504,2.자영업,자영업,N,2006012600001,20060126,20051223,20060101,11,1,W01,0,우측 원위 척골 간부 골절,5,1,,,S52,아래팔의 골절(척골.요골),0,,12537.0,,95.0,12126,20060126.0,300000,300000,N,,,,,,,,0.0,N\n",
      "\n",
      "7,Y,20267,78879,1.주부,주부,Y,2006012600002,20060126,20060103,20060103,23,3,I25,1,죽상경화성심장병 불안정성협심증위식도역류,2,1,20060103.0,20060125.0,I25,만성 허혈성 심장병,23,,12537.0,,95.0,25700,20060127.0,1600000,1600000,N,,,,,,,,0.0,N\n",
      "\n",
      "8,N,2778,81980,5.서비스,2차산업 종사자,N,2006021500001,20060215,20030320,20060116,11,1,W23,#,좌상완골외상과염 좌5수지측부인대부분파열,2,1,20060116.0,20060213.0,S49,어깨 및 위팥의 기타 및 상세불명의 손상,29,1.48,1368.0,부산,20.0,12423,20060215.0,260000,260000,N,,,,,,,,0.0,N\n",
      "\n"
     ]
    }
   ],
   "source": [
    "with open(\"plus_y_data_CLAIM_DATA_utf_8_extract\", \"w\") as sion: \n",
    "    for data in real_data[:10]:\n",
    "        data = \",\".join(data)\n",
    "        print(data)\n",
    "        sion.write(data)\n",
    "    sion.close()"
   ]
  }
 ],
 "metadata": {
  "anaconda-cloud": {},
  "kernelspec": {
   "display_name": "Python [conda env:ml_python]",
   "language": "python",
   "name": "conda-env-ml_python-py"
  },
  "language_info": {
   "codemirror_mode": {
    "name": "ipython",
    "version": 3
   },
   "file_extension": ".py",
   "mimetype": "text/x-python",
   "name": "python",
   "nbconvert_exporter": "python",
   "pygments_lexer": "ipython3",
   "version": "3.5.2"
  }
 },
 "nbformat": 4,
 "nbformat_minor": 1
}
