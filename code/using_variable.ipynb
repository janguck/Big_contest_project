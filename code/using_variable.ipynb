{
 "cells": [
  {
   "cell_type": "code",
   "execution_count": null,
   "metadata": {
    "collapsed": true
   },
   "outputs": [],
   "source": [
    "data = pd.read_csv('plus_y_data_CNT_DATA_utf_8_sungchul', index_col = 0)\n",
    "# data = data.dropna()\n",
    "len(data)"
   ]
  },
  {
   "cell_type": "code",
   "execution_count": null,
   "metadata": {
    "collapsed": true
   },
   "outputs": [],
   "source": [
    "data['POLY_NO'].fillna((data['POLY_NO'].mean()), inplace=True)\n",
    "data['IRKD_CODE_DTAL'].fillna((data['IRKD_CODE_DTAL'].mean()), inplace=True)\n",
    "data['IRKD_CODE_ITEM'].fillna((data['IRKD_CODE_ITEM'].mean()), inplace=True)\n",
    "data['CLLT_FP_PRNO'].fillna((data['CLLT_FP_PRNO'].mean()), inplace=True)\n",
    "data['REAL_PAYM_TERM'].fillna((data['REAL_PAYM_TERM'].mean()), inplace=True)\n",
    "data['EXPR_YM'].fillna((data['EXPR_YM'].mean()), inplace=True)\n",
    "data['EXTN_YM'].fillna((data['EXTN_YM'].mean()), inplace=True)\n",
    "data['LAPS_YM'].fillna((data['LAPS_YM'].mean()), inplace=True)\n",
    "data['MAIN_INSR_AMT'].fillna((data['MAIN_INSR_AMT'].mean()), inplace=True)\n",
    "data['SUM_ORIG_PREM'].fillna((data['SUM_ORIG_PREM'].mean()), inplace=True)\n",
    "data['RECP_PUBL'].fillna((data['RECP_PUBL'].mean()), inplace=True)\n",
    "data['CNTT_RECP'].fillna((data['CNTT_RECP'].mean()), inplace=True)\n",
    "data['MNTH_INCM_AMT'].fillna((data['MNTH_INCM_AMT'].mean()), inplace=True)\n",
    "data['DISTANCE'].fillna((data['DISTANCE'].mean()), inplace=True)"
   ]
  },
  {
   "cell_type": "code",
   "execution_count": null,
   "metadata": {
    "collapsed": true
   },
   "outputs": [],
   "source": [
    "df = data.drop('POLY_NO', axis = 1)\n",
    "df = df.drop('CUST_ID', axis = 1)\n",
    "df = df.drop('CLLT_FP_PRNO', axis = 1)\n",
    "df = df.drop('IRKD_CODE_DTAL', axis = 1)\n",
    "df.head()"
   ]
  },
  {
   "cell_type": "code",
   "execution_count": null,
   "metadata": {
    "collapsed": true
   },
   "outputs": [],
   "source": [
    "names = ['SIU_CUST_YN', 'CUST_ROLE', 'IRKD_CODE_ITEM', 'GOOD_CLSF_CDNM',\n",
    "       'CNTT_YM', 'REAL_PAYM_TERM', 'SALE_CHNL_CODE', 'CNTT_STAT_CODE',\n",
    "       'EXPR_YM', 'EXTN_YM', 'LAPS_YM', 'PAYM_CYCL_CODE', 'MAIN_INSR_AMT',\n",
    "       'SUM_ORIG_PREM', 'RECP_PUBL', 'CNTT_RECP', 'MNTH_INCM_AMT', 'DISTANCE']\n",
    "for column in range(0, 18):\n",
    "    if column in [0, 3, 7]:\n",
    "        df[names[column]] = df[names[column]].astype(\"category\")\n",
    "\n",
    "df.dtypes"
   ]
  },
  {
   "cell_type": "code",
   "execution_count": null,
   "metadata": {
    "collapsed": true
   },
   "outputs": [],
   "source": [
    "df1 = pd.get_dummies(df, columns=['SIU_CUST_YN', 'GOOD_CLSF_CDNM', 'CNTT_STAT_CODE'], drop_first = True)"
   ]
  },
  {
   "cell_type": "code",
   "execution_count": null,
   "metadata": {
    "collapsed": true
   },
   "outputs": [],
   "source": [
    "grouped = df1['SIU_CUST_YN_Y'].groupby(df['SALE_CHNL_CODE'])\n",
    "grouped.mean()"
   ]
  },
  {
   "cell_type": "code",
   "execution_count": null,
   "metadata": {
    "collapsed": true
   },
   "outputs": [],
   "source": [
    "df['SALE_CHNL_CODE']=df['SALE_CHNL_CODE'].map(lambda x: 70 if  x == 1 else x)\n",
    "df['SALE_CHNL_CODE']=df['SALE_CHNL_CODE'].map(lambda x: 30 if  x == 2 else x)\n",
    "df['SALE_CHNL_CODE']=df['SALE_CHNL_CODE'].map(lambda x: 130 if  x == 3 else x)\n",
    "df['SALE_CHNL_CODE']=df['SALE_CHNL_CODE'].map(lambda x: 90 if  x == 4 else x)\n",
    "df['SALE_CHNL_CODE']=df['SALE_CHNL_CODE'].map(lambda x: 10 if  x == 5 else x)\n",
    "df['SALE_CHNL_CODE']=df['SALE_CHNL_CODE'].map(lambda x: 50 if  x == 6 else x)\n",
    "df['SALE_CHNL_CODE']=df['SALE_CHNL_CODE'].map(lambda x: 110 if  x == 7 else x)"
   ]
  },
  {
   "cell_type": "code",
   "execution_count": null,
   "metadata": {
    "collapsed": true
   },
   "outputs": [],
   "source": [
    "x_data = df['SALE_CHNL_CODE']\n",
    "y_data = df1['SIU_CUST_YN_Y']"
   ]
  },
  {
   "cell_type": "code",
   "execution_count": null,
   "metadata": {
    "collapsed": true
   },
   "outputs": [],
   "source": [
    "np.corrcoef(x_data, y_data)\n",
    "# 0.06683771"
   ]
  },
  {
   "cell_type": "code",
   "execution_count": null,
   "metadata": {
    "collapsed": true
   },
   "outputs": [],
   "source": [
    "grouped = df1['SIU_CUST_YN_Y'].groupby(df['CNTT_STAT_CODE'])\n",
    "grouped.mean()"
   ]
  },
  {
   "cell_type": "code",
   "execution_count": null,
   "metadata": {
    "collapsed": true
   },
   "outputs": [],
   "source": [
    "df['CNTT_STAT_CODE']=df['CNTT_STAT_CODE'].map(lambda x: 0 if x == 1 or x == 2 or x == 9 or x == 'A' or x == 'C' or x == 'H' or x == 'I' or x == 'L' else x)\n",
    "df['CNTT_STAT_CODE']=df['CNTT_STAT_CODE'].map(lambda x: 2 if x == 3 or x == 'B' or x == 'E' or x == 'J' else 4)"
   ]
  },
  {
   "cell_type": "code",
   "execution_count": null,
   "metadata": {
    "collapsed": true
   },
   "outputs": [],
   "source": [
    "x_data = df['CNTT_STAT_CODE']\n",
    "y_data = df1['SIU_CUST_YN_Y']"
   ]
  },
  {
   "cell_type": "code",
   "execution_count": null,
   "metadata": {
    "collapsed": true
   },
   "outputs": [],
   "source": [
    "np.corrcoef(x_data, y_data)\n",
    "# 0.08125739"
   ]
  },
  {
   "cell_type": "code",
   "execution_count": null,
   "metadata": {
    "collapsed": true
   },
   "outputs": [],
   "source": []
  },
  {
   "cell_type": "code",
   "execution_count": null,
   "metadata": {
    "collapsed": true
   },
   "outputs": [],
   "source": []
  },
  {
   "cell_type": "code",
   "execution_count": null,
   "metadata": {
    "collapsed": true
   },
   "outputs": [],
   "source": []
  },
  {
   "cell_type": "code",
   "execution_count": null,
   "metadata": {
    "collapsed": true
   },
   "outputs": [],
   "source": []
  },
  {
   "cell_type": "code",
   "execution_count": null,
   "metadata": {
    "collapsed": true
   },
   "outputs": [],
   "source": []
  }
 ],
 "metadata": {
  "anaconda-cloud": {},
  "kernelspec": {
   "display_name": "Python [default]",
   "language": "python",
   "name": "python3"
  },
  "language_info": {
   "codemirror_mode": {
    "name": "ipython",
    "version": 3
   },
   "file_extension": ".py",
   "mimetype": "text/x-python",
   "name": "python",
   "nbconvert_exporter": "python",
   "pygments_lexer": "ipython3",
   "version": "3.5.2"
  }
 },
 "nbformat": 4,
 "nbformat_minor": 0
}
