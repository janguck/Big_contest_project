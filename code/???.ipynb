{
 "cells": [
  {
   "cell_type": "code",
   "execution_count": 1,
   "metadata": {
    "collapsed": true
   },
   "outputs": [],
   "source": [
    "real_data = []\n",
    "with open(\"../data_utf_8/plus_y_data_CLAIM_DATA_utf_8\", \"r\") as sion:  \n",
    "    datas = sion.readlines()\n",
    "    for data in datas:\n",
    "        data = data.split(\",\")\n",
    "        real_data.append(data[1:])"
   ]
  },
  {
   "cell_type": "code",
   "execution_count": 3,
   "metadata": {
    "collapsed": true
   },
   "outputs": [],
   "source": [
    "with open(\"plus_y_data_CLAIM_DATA_utf_8_extract_sion\", \"w\") as sion: \n",
    "    for data in real_data:\n",
    "        data = \",\".join(data)\n",
    "        sion.write(data)\n",
    "    sion.close()"
   ]
  }
 ],
 "metadata": {
  "anaconda-cloud": {},
  "kernelspec": {
   "display_name": "Python [conda env:ml_python]",
   "language": "python",
   "name": "conda-env-ml_python-py"
  },
  "language_info": {
   "codemirror_mode": {
    "name": "ipython",
    "version": 3
   },
   "file_extension": ".py",
   "mimetype": "text/x-python",
   "name": "python",
   "nbconvert_exporter": "python",
   "pygments_lexer": "ipython3",
   "version": "3.5.2"
  }
 },
 "nbformat": 4,
 "nbformat_minor": 1
}
