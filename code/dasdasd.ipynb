{
 "cells": [
  {
   "cell_type": "code",
   "execution_count": 34,
   "metadata": {
    "collapsed": false
   },
   "outputs": [],
   "source": [
    "import matplotlib as plt\n",
    "import pandas as pd\n",
    "import numpy as np\n",
    "from math import sqrt\n",
    "from statistics import mean\n",
    "from numpy import array\n",
    "import numpy as np"
   ]
  },
  {
   "cell_type": "code",
   "execution_count": 35,
   "metadata": {
    "collapsed": true
   },
   "outputs": [],
   "source": [
    "merge_table = pd.read_csv('merge_table_test')"
   ]
  },
  {
   "cell_type": "code",
   "execution_count": 36,
   "metadata": {
    "collapsed": true
   },
   "outputs": [],
   "source": [
    "merge_table[\"SIU_CUST_YN\"] = None"
   ]
  },
  {
   "cell_type": "code",
   "execution_count": 37,
   "metadata": {
    "collapsed": false
   },
   "outputs": [],
   "source": [
    "merge_table['AGE'].fillna((merge_table['AGE'].mean()), inplace=True)\n",
    "\n",
    "merge_table['AGE'] = merge_table['AGE'].map(lambda x:0 if x < 11 else x)\n",
    "merge_table['AGE'] = merge_table['AGE'].map(lambda x:10 if x >10 and x<21 else x)\n",
    "merge_table['AGE'] = merge_table['AGE'].map(lambda x:20 if x >20 and x<31 else x)\n",
    "merge_table['AGE'] = merge_table['AGE'].map(lambda x:30 if x >30 and x<41 else x)\n",
    "merge_table['AGE'] = merge_table['AGE'].map(lambda x:40 if x >40 and x<51 else x)\n",
    "merge_table['AGE'] = merge_table['AGE'].map(lambda x:50 if x >50 and x<61 else x)\n",
    "merge_table['AGE'] = merge_table['AGE'].map(lambda x:60 if x >60 and x<71 else x)\n",
    "merge_table['AGE'] = merge_table['AGE'].map(lambda x:70 if x >70 and x<81 else x)\n",
    "merge_table['AGE'] = merge_table['AGE'].map(lambda x:80 if x >80  else x)\n",
    "\n",
    "\n",
    "merge_table['AGE'] = merge_table['AGE'].map(lambda x:100 if x == 50 else x) \n",
    "merge_table['AGE'] = merge_table['AGE'].map(lambda x:70 if x == 30 or x == 40 or x == 60else x) \n",
    "merge_table['AGE'] = merge_table['AGE'].map(lambda x:40 if x == 20 else x) \n",
    "merge_table['AGE'] = merge_table['AGE'].map(lambda x:0 if  x != 100 and x!=70 and x!=40  else x)"
   ]
  },
  {
   "cell_type": "code",
   "execution_count": 38,
   "metadata": {
    "collapsed": true
   },
   "outputs": [],
   "source": [
    "merge_table['MAXCRDT']= merge_table['MAXCRDT'].map(lambda x:80 if x<=6 else x)\n",
    "merge_table['MAXCRDT']= merge_table['MAXCRDT'].map(lambda x:50 if x<50 and x>7 else x)\n",
    "merge_table['MAXCRDT'] = merge_table['MAXCRDT'].map(lambda x:0 if x!= 80 and x!=50  else x)"
   ]
  },
  {
   "cell_type": "code",
   "execution_count": 39,
   "metadata": {
    "collapsed": true
   },
   "outputs": [],
   "source": [
    "merge_table['CTPR'] = merge_table['CTPR'].map(lambda x:50 if x == '강원' or x == '광주' or x == '부산' or x == '인천' or x == '전북' else x) \n",
    "merge_table['CTPR'] = merge_table['CTPR'].map(lambda x:30 if x == '경기' or x=='경남' or x=='경북'  or x=='대구'or x=='대전' or x=='서울' or x=='전남' else x)\n",
    "merge_table['CTPR'] = merge_table['CTPR'].map(lambda x:0 if  x != 30 and x!=50  else x)\n"
   ]
  },
  {
   "cell_type": "code",
   "execution_count": 40,
   "metadata": {
    "collapsed": true
   },
   "outputs": [],
   "source": [
    "merge_table[\"ACCI_OCCP_GRP1\"] = merge_table[\"ACCI_OCCP_GRP1\"].map(lambda x : 4 if x == '2.자영업' else x)   \n",
    "merge_table[\"ACCI_OCCP_GRP1\"] = merge_table[\"ACCI_OCCP_GRP1\"].map(lambda x : 3 if x == '1.주부' or x == '5.서비스' else x)    \n",
    "merge_table[\"ACCI_OCCP_GRP1\"] = merge_table[\"ACCI_OCCP_GRP1\"].map(lambda x : 2 if x == '3.사무직' or x == '8.기타' else x)   \n",
    "merge_table[\"ACCI_OCCP_GRP1\"] = merge_table[\"ACCI_OCCP_GRP1\"].map(lambda x : 1 if x == '4.전문직' or x == '6.제조업' or x == '7.1차산업' else x)    \n",
    "merge_table[\"ACCI_OCCP_GRP1\"].fillna((merge_table[\"ACCI_OCCP_GRP1\"].mean()), inplace=True)"
   ]
  },
  {
   "cell_type": "code",
   "execution_count": 41,
   "metadata": {
    "collapsed": true
   },
   "outputs": [],
   "source": [
    "merge_table[\"CRNT_PROG_DVSN\"] = merge_table[\"CRNT_PROG_DVSN\"].map(lambda x : 10 if x == 33 else x)   \n",
    "merge_table[\"CRNT_PROG_DVSN\"] = merge_table[\"CRNT_PROG_DVSN\"].map(lambda x : 6 if x == 23 else x)   \n",
    "merge_table[\"CRNT_PROG_DVSN\"] = merge_table[\"CRNT_PROG_DVSN\"].map(lambda x : 3 if x == 11 else x)   \n",
    "merge_table[\"CRNT_PROG_DVSN\"] = merge_table[\"CRNT_PROG_DVSN\"].map(lambda x : 1 if x != 10 and x != 6 and x != 3 else x)   \n",
    "merge_table[\"CRNT_PROG_DVSN\"].fillna((merge_table[\"CRNT_PROG_DVSN\"].mean()), inplace=True)"
   ]
  },
  {
   "cell_type": "code",
   "execution_count": 42,
   "metadata": {
    "collapsed": true
   },
   "outputs": [],
   "source": [
    "merge_table[\"DMND_RESN_CODE\"] = merge_table[\"DMND_RESN_CODE\"].map(lambda x : 100 if x == 2 or x == 4 else x)   \n",
    "merge_table[\"DMND_RESN_CODE\"] = merge_table[\"DMND_RESN_CODE\"].map(lambda x : 40 if x == 5 else x)   \n",
    "merge_table[\"DMND_RESN_CODE\"] = merge_table[\"DMND_RESN_CODE\"].map(lambda x : 10 if x == 1 or x == 3 or x == 6 else x)   \n",
    "merge_table[\"DMND_RESN_CODE\"] = merge_table[\"DMND_RESN_CODE\"].map(lambda x : 5 if x == 7 else x)   \n",
    "merge_table[\"DMND_RESN_CODE\"] = merge_table[\"DMND_RESN_CODE\"].map(lambda x : 1 if x == 9 else x)   \n",
    "merge_table[\"DMND_RESN_CODE\"].fillna((merge_table[\"DMND_RESN_CODE\"].mean()), inplace=True)"
   ]
  },
  {
   "cell_type": "code",
   "execution_count": 43,
   "metadata": {
    "collapsed": true
   },
   "outputs": [],
   "source": [
    "merge_table['SALE_CHNL_CODE']=merge_table['SALE_CHNL_CODE'].map(lambda x: 70 if  x == 1 else x)\n",
    "merge_table['SALE_CHNL_CODE']=merge_table['SALE_CHNL_CODE'].map(lambda x: 30 if  x == 2 else x)\n",
    "merge_table['SALE_CHNL_CODE']=merge_table['SALE_CHNL_CODE'].map(lambda x: 130 if  x == 3 else x)\n",
    "merge_table['SALE_CHNL_CODE']=merge_table['SALE_CHNL_CODE'].map(lambda x: 90 if  x == 4 else x)\n",
    "merge_table['SALE_CHNL_CODE']=merge_table['SALE_CHNL_CODE'].map(lambda x: 10 if  x == 5 else x)\n",
    "merge_table['SALE_CHNL_CODE']=merge_table['SALE_CHNL_CODE'].map(lambda x: 50 if  x == 6 else x)\n",
    "merge_table['SALE_CHNL_CODE']=merge_table['SALE_CHNL_CODE'].map(lambda x: 110 if  x == 7 else x)"
   ]
  },
  {
   "cell_type": "code",
   "execution_count": 44,
   "metadata": {
    "collapsed": true
   },
   "outputs": [],
   "source": [
    "merge_table['CNTT_STAT_CODE']=merge_table['CNTT_STAT_CODE'].map(lambda x: 0 if x == 1 or x == 2 or x == 9 or x == 'A' or x == 'C' or x == 'H' or x == 'I' or x == 'L' else x)\n",
    "merge_table['CNTT_STAT_CODE']=merge_table['CNTT_STAT_CODE'].map(lambda x: 2 if x == 3 or x == 'B' or x == 'E' or x == 'J' else 4)"
   ]
  },
  {
   "cell_type": "code",
   "execution_count": 62,
   "metadata": {
    "collapsed": false
   },
   "outputs": [],
   "source": [
    "result = []\n",
    "for i in merge_table[\"CUST_ID\"]:\n",
    "    result.append(i)"
   ]
  },
  {
   "cell_type": "code",
   "execution_count": 63,
   "metadata": {
    "collapsed": false
   },
   "outputs": [],
   "source": [
    "result = list(set(result))"
   ]
  },
  {
   "cell_type": "code",
   "execution_count": 65,
   "metadata": {
    "collapsed": false
   },
   "outputs": [],
   "source": [
    "result =sorted(result)"
   ]
  },
  {
   "cell_type": "code",
   "execution_count": null,
   "metadata": {
    "collapsed": true
   },
   "outputs": [],
   "source": [
    "version_3 = set([tuple(line) for line in merge_table.values.tolist()])\n",
    "version_3 = list(version_3)"
   ]
  },
  {
   "cell_type": "code",
   "execution_count": 82,
   "metadata": {
    "collapsed": false
   },
   "outputs": [],
   "source": [
    "sex = []\n",
    "for i in result:\n",
    "    for j in version_3:\n",
    "        if i==j[0]:\n",
    "            sex.append(version_3.index(j))\n",
    "            break\n",
    "    "
   ]
  },
  {
   "cell_type": "code",
   "execution_count": 90,
   "metadata": {
    "collapsed": false
   },
   "outputs": [],
   "source": [
    "realzz = []\n",
    "for i in sex:\n",
    "    realzz.append(version_3[i])"
   ]
  },
  {
   "cell_type": "code",
   "execution_count": 94,
   "metadata": {
    "collapsed": true
   },
   "outputs": [],
   "source": [
    "columns = []\n",
    "for i in merge_table.columns:\n",
    "    columns.append(i)"
   ]
  },
  {
   "cell_type": "code",
   "execution_count": 95,
   "metadata": {
    "collapsed": true
   },
   "outputs": [],
   "source": [
    "result = [] \n",
    "result.append(columns)"
   ]
  },
  {
   "cell_type": "code",
   "execution_count": 96,
   "metadata": {
    "collapsed": true
   },
   "outputs": [],
   "source": [
    "for i in realzz:\n",
    "    result.append(list(i))"
   ]
  },
  {
   "cell_type": "code",
   "execution_count": 97,
   "metadata": {
    "collapsed": true
   },
   "outputs": [],
   "source": [
    "for i in range(len(result)):\n",
    "    for j in range(len(result[i])):\n",
    "        result[i][j] = str(result[i][j])"
   ]
  },
  {
   "cell_type": "code",
   "execution_count": 98,
   "metadata": {
    "collapsed": true
   },
   "outputs": [],
   "source": [
    "result_2 = []\n",
    "for i in result:\n",
    "    i[-1] = i[-1]+\"\\n\"\n",
    "    result_2.append(i)"
   ]
  },
  {
   "cell_type": "code",
   "execution_count": 99,
   "metadata": {
    "collapsed": true
   },
   "outputs": [],
   "source": [
    "with open(\"merge_table_test_real_sort\", \"w\") as sion: \n",
    "    for data in result_2:\n",
    "        data = \",\".join(data)\n",
    "        sion.write(data)\n",
    "    sion.close()"
   ]
  },
  {
   "cell_type": "code",
   "execution_count": null,
   "metadata": {
    "collapsed": true
   },
   "outputs": [],
   "source": []
  }
 ],
 "metadata": {
  "anaconda-cloud": {},
  "kernelspec": {
   "display_name": "Python [conda env:ml_python]",
   "language": "python",
   "name": "conda-env-ml_python-py"
  },
  "language_info": {
   "codemirror_mode": {
    "name": "ipython",
    "version": 3
   },
   "file_extension": ".py",
   "mimetype": "text/x-python",
   "name": "python",
   "nbconvert_exporter": "python",
   "pygments_lexer": "ipython3",
   "version": "3.5.2"
  }
 },
 "nbformat": 4,
 "nbformat_minor": 1
}
