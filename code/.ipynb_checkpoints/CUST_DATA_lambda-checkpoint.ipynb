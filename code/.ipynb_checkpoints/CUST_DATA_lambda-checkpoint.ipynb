{
 "cells": [
  {
   "cell_type": "code",
   "execution_count": 7,
   "metadata": {
    "collapsed": true
   },
   "outputs": [],
   "source": [
    "import matplotlib as plt\n",
    "import pandas as pd\n",
    "import numpy as np\n",
    "from math import sqrt\n",
    "from statistics import mean\n",
    "from numpy import array\n",
    "import numpy as np"
   ]
  },
  {
   "cell_type": "code",
   "execution_count": 8,
   "metadata": {
    "collapsed": true
   },
   "outputs": [],
   "source": [
    "df = pd.read_csv('../data_utf_8/BGCON_CUST_DATA_utf_8_extract.txt', index_col=0)"
   ]
  },
  {
   "cell_type": "code",
   "execution_count": 9,
   "metadata": {
    "collapsed": true
   },
   "outputs": [],
   "source": [
    "df['FP_CAREER'] = df['FP_CAREER'].map(lambda x: 0 if x == 'N' else 1)\n",
    "df['SIU_CUST_YN'] = df['SIU_CUST_YN'].map(lambda x: 0 if x == 'N' else 1)\n",
    "df['WEDD_YN'] = df['WEDD_YN'].map(lambda x: 0 if x == 'N' else 1)\n",
    "\n",
    "\n",
    "df_DIVIDED_SET = df[\"DIVIDED_SET\"] \n",
    "df_SEX = df[\"SEX\"]\n",
    "df_AGE = df[\"AGE\"]\n",
    "df_RESI_COST = df[\"RESI_COST\"]\n",
    "df_RESI_TYPE_CODE = df[\"RESI_TYPE_CODE\"]\n",
    "df_FP_CAREER = df[\"FP_CAREER\"]\n",
    "df_CUST_RGST = df[\"CUST_RGST\"]\n",
    "df_CTPR = df[\"CTPR\"]\n",
    "df_OCCP_GRP_1 = df[\"OCCP_GRP_1\"]\n",
    "df_OCCP_GRP_2 = df[\"OCCP_GRP_2\"]\n",
    "df_TOTALPREM = df[\"TOTALPREM\"]\n",
    "df_MINCRDT = df[\"MINCRDT\"]\n",
    "df_MAXCRDT = df[\"MAXCRDT\"]\n",
    "df_WEDD_YN = df[\"WEDD_YN\"]\n",
    "df_MATE_OCCP_GRP_1 = df[\"MATE_OCCP_GRP_1\"]\n",
    "df_MATE_OCCP_GRP_2 = df[\"MATE_OCCP_GRP_2\"]\n",
    "df_CHLD_CNT = df[\"CHLD_CNT\"]\n",
    "df_LTBN_CHLD_AGE = df[\"LTBN_CHLD_AGE\"]\n",
    "df_MAX_PAYM_YM = df[\"MAX_PAYM_YM\"]\n",
    "df_MAX_PRM = df[\"MAX_PRM\"]\n",
    "df_CUST_INCM = df[\"CUST_INCM\"]\n",
    "df_RCBASE_HSHD_INCM = df[\"RCBASE_HSHD_INCM\"]\n",
    "df_JPBASE_HSHD_INCM = df[\"JPBASE_HSHD_INCM\"]\n",
    "\n",
    "\n",
    "df_SIU_CUST_YN = df[\"SIU_CUST_YN\"]\n"
   ]
  },
  {
   "cell_type": "code",
   "execution_count": 10,
   "metadata": {
    "collapsed": true
   },
   "outputs": [],
   "source": [
    "df['DIVIDED_SET'].fillna((df['DIVIDED_SET'].mean()), inplace=True)\n",
    "df['SEX'].fillna((df['SEX'].mean()), inplace=True)\n",
    "df['AGE'].fillna((df['AGE'].mean()), inplace=True)\n",
    "df['RESI_COST'].fillna((df['RESI_COST'].mean()), inplace=True)\n",
    "df['RESI_TYPE_CODE'].fillna((df['RESI_TYPE_CODE'].mean()), inplace=True)\n",
    "df['FP_CAREER'].fillna((df['FP_CAREER'].mean()), inplace=True)\n",
    "df['CUST_RGST'].fillna((df['CUST_RGST'].mean()), inplace=True)\n",
    "df['TOTALPREM'].fillna((df['TOTALPREM'].mean()), inplace=True)\n",
    "df['MINCRDT'].fillna((df['MINCRDT'].mean()), inplace=True)\n",
    "df['MAXCRDT'].fillna((df['MAXCRDT'].mean()), inplace=True)\n",
    "df['CHLD_CNT'].fillna((df['CHLD_CNT'].mean()), inplace=True)\n",
    "df['LTBN_CHLD_AGE'].fillna((df['LTBN_CHLD_AGE'].mean()), inplace=True)\n",
    "df['MAX_PAYM_YM'].fillna((df['MAX_PAYM_YM'].mean()), inplace=True)\n",
    "df['MAX_PRM'].fillna((df['MAX_PRM'].mean()), inplace=True)\n",
    "df['CUST_INCM'].fillna((df['CUST_INCM'].mean()), inplace=True)\n",
    "df['RCBASE_HSHD_INCM'].fillna((df['RCBASE_HSHD_INCM'].mean()), inplace=True)\n",
    "df['JPBASE_HSHD_INCM'].fillna((df['JPBASE_HSHD_INCM'].mean()), inplace=True)"
   ]
  },
  {
   "cell_type": "code",
   "execution_count": 11,
   "metadata": {
    "collapsed": true
   },
   "outputs": [],
   "source": [
    "#AGE\n",
    "\n",
    "df['AGE'] = df['AGE'].map(lambda x:0 if x < 11 else x)\n",
    "df['AGE'] = df['AGE'].map(lambda x:10 if x >10 and x<21 else x)\n",
    "df['AGE'] = df['AGE'].map(lambda x:20 if x >20 and x<31 else x)\n",
    "df['AGE'] = df['AGE'].map(lambda x:30 if x >30 and x<41 else x)\n",
    "df['AGE'] = df['AGE'].map(lambda x:40 if x >40 and x<51 else x)\n",
    "df['AGE'] = df['AGE'].map(lambda x:50 if x >50 and x<61 else x)\n",
    "df['AGE'] = df['AGE'].map(lambda x:60 if x >60 and x<71 else x)\n",
    "df['AGE'] = df['AGE'].map(lambda x:70 if x >70 and x<81 else x)\n",
    "df['AGE'] = df['AGE'].map(lambda x:80 if x >80  else x)\n",
    "\n",
    "grouped = df['SIU_CUST_YN'].groupby(df['AGE'])\n",
    "grouped.mean()\n",
    "\n",
    "df['AGE'] = df['AGE'].map(lambda x:100 if x == 50 else x) \n",
    "df['AGE'] = df['AGE'].map(lambda x:70 if x == 30 or x == 40 or x == 60else x) \n",
    "df['AGE'] = df['AGE'].map(lambda x:40 if x == 20 else x) \n",
    "df['AGE'] = df['AGE'].map(lambda x:0 if  x != 100 and x!=70 and x!=40  else x)"
   ]
  },
  {
   "cell_type": "code",
   "execution_count": 12,
   "metadata": {
    "collapsed": false
   },
   "outputs": [
    {
     "data": {
      "text/plain": [
       "array([[ 1.        ,  0.08830201],\n",
       "       [ 0.08830201,  1.        ]])"
      ]
     },
     "execution_count": 12,
     "metadata": {},
     "output_type": "execute_result"
    }
   ],
   "source": [
    "x_data = df_AGE\n",
    "y_data = df['SIU_CUST_YN']\n",
    "\n",
    "np.corrcoef(x_data, y_data)"
   ]
  },
  {
   "cell_type": "code",
   "execution_count": 13,
   "metadata": {
    "collapsed": true
   },
   "outputs": [],
   "source": [
    "#MAXCRDT\n",
    "df['MAXCRDT']= df['MAXCRDT'].map(lambda x:80 if x==10.000000or x==9.000000else x)\n",
    "df['MAXCRDT']= df['MAXCRDT'].map(lambda x:50 if x==8.000000or x==7.000000or x==2.000000 or x==4.000000 or x==5.000000else x)\n",
    "df['MAXCRDT'] = df['MAXCRDT'].map(lambda x:0 if x!= 80 and x!=50  else x)"
   ]
  },
  {
   "cell_type": "code",
   "execution_count": 14,
   "metadata": {
    "collapsed": false
   },
   "outputs": [
    {
     "data": {
      "text/plain": [
       "array([[ 1.        ,  0.09121289],\n",
       "       [ 0.09121289,  1.        ]])"
      ]
     },
     "execution_count": 14,
     "metadata": {},
     "output_type": "execute_result"
    }
   ],
   "source": [
    "x_data = df_MAXCRDT\n",
    "y_data = df['SIU_CUST_YN']\n",
    "\n",
    "np.corrcoef(x_data, y_data)"
   ]
  },
  {
   "cell_type": "code",
   "execution_count": 17,
   "metadata": {
    "collapsed": false
   },
   "outputs": [],
   "source": [
    "#CTPR\n",
    "df['CTPR'] = df['CTPR'].astype(\"category\")\n",
    "\n",
    "grouped = df['SIU_CUST_YN'].groupby(df['CTPR'])\n",
    "grouped.mean()\n",
    "\n",
    "df['CTPR'] = df['CTPR'].map(lambda x:50 if x == '강원' or x == '광주' or x == '부산' or x == '인천' or x == '전북' else x) \n",
    "df['CTPR'] = df['CTPR'].map(lambda x:30 if x == '경기' or x=='경남' or x=='경북'  or x=='대구'or x=='대전' or x=='서울' or x=='전남' else x)\n",
    "df['CTPR'] = df['CTPR'].map(lambda x:0 if  x != 30 and x!=50  else x)\n"
   ]
  },
  {
   "cell_type": "code",
   "execution_count": 16,
   "metadata": {
    "collapsed": false
   },
   "outputs": [
    {
     "data": {
      "text/plain": [
       "array([[ 1.        ,  0.11247773],\n",
       "       [ 0.11247773,  1.        ]])"
      ]
     },
     "execution_count": 16,
     "metadata": {},
     "output_type": "execute_result"
    }
   ],
   "source": [
    "x_data = df['CTPR']\n",
    "y_data = df['SIU_CUST_YN']\n",
    "\n",
    "\n",
    "np.corrcoef(x_data, y_data)"
   ]
  },
  {
   "cell_type": "code",
   "execution_count": null,
   "metadata": {
    "collapsed": true
   },
   "outputs": [],
   "source": []
  }
 ],
 "metadata": {
  "anaconda-cloud": {},
  "kernelspec": {
   "display_name": "Python [default]",
   "language": "python",
   "name": "python3"
  },
  "language_info": {
   "codemirror_mode": {
    "name": "ipython",
    "version": 3
   },
   "file_extension": ".py",
   "mimetype": "text/x-python",
   "name": "python",
   "nbconvert_exporter": "python",
   "pygments_lexer": "ipython3",
   "version": "3.5.2"
  }
 },
 "nbformat": 4,
 "nbformat_minor": 0
}
