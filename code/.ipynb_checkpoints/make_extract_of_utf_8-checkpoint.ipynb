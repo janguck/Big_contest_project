{
 "cells": [
  {
   "cell_type": "code",
   "execution_count": 1,
   "metadata": {
    "collapsed": false
   },
   "outputs": [],
   "source": [
    "real_data = []\n",
    "with open(\"BGCON_CUST_DATA_utf_8.txt\", \"r\") as bcd:  \n",
    "    datas = bcd.readlines()\n",
    "    for data in datas:\n",
    "        data = data.split(\",\")\n",
    "        if data[2] == \"\":\n",
    "            continue\n",
    "        else:\n",
    "            real_data.append(data)"
   ]
  },
  {
   "cell_type": "code",
   "execution_count": 4,
   "metadata": {
    "collapsed": false
   },
   "outputs": [],
   "source": [
    "with open(\"BGCON_CUST_DATA_utf_8_extract.txt\", \"w\") as bcd: \n",
    "    for data in real_data:\n",
    "        data = \",\".join(data)\n",
    "        bcd.write(data)\n",
    "    bcd.close()\n"
   ]
  }
 ],
 "metadata": {
  "anaconda-cloud": {},
  "kernelspec": {
   "display_name": "Python [conda env:ml_python]",
   "language": "python",
   "name": "conda-env-ml_python-py"
  },
  "language_info": {
   "codemirror_mode": {
    "name": "ipython",
    "version": 3
   },
   "file_extension": ".py",
   "mimetype": "text/x-python",
   "name": "python",
   "nbconvert_exporter": "python",
   "pygments_lexer": "ipython3",
   "version": "3.5.2"
  }
 },
 "nbformat": 4,
 "nbformat_minor": 1
}
