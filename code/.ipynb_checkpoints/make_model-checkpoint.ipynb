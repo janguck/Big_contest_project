{
 "cells": [
  {
   "cell_type": "code",
   "execution_count": 60,
   "metadata": {
    "collapsed": true
   },
   "outputs": [],
   "source": [
    "import matplotlib as plt\n",
    "import pandas as pd\n",
    "import numpy as np\n",
    "from math import sqrt\n",
    "from statistics import mean\n",
    "from numpy import array\n",
    "import numpy as np"
   ]
  },
  {
   "cell_type": "code",
   "execution_count": 89,
   "metadata": {
    "collapsed": true
   },
   "outputs": [],
   "source": [
    "merge_table = pd.read_csv('merge_table_train')"
   ]
  },
  {
   "cell_type": "code",
   "execution_count": 90,
   "metadata": {
    "collapsed": true
   },
   "outputs": [],
   "source": [
    "merge_table['SIU_CUST_YN'] = merge_table['SIU_CUST_YN'].map(lambda x: 0 if x == 'N' else 1)"
   ]
  },
  {
   "cell_type": "code",
   "execution_count": 91,
   "metadata": {
    "collapsed": false
   },
   "outputs": [],
   "source": [
    "merge_table['AGE'].fillna((merge_table['AGE'].mean()), inplace=True)\n",
    "\n",
    "merge_table['AGE'] = merge_table['AGE'].map(lambda x:0 if x < 11 else x)\n",
    "merge_table['AGE'] = merge_table['AGE'].map(lambda x:10 if x >10 and x<21 else x)\n",
    "merge_table['AGE'] = merge_table['AGE'].map(lambda x:20 if x >20 and x<31 else x)\n",
    "merge_table['AGE'] = merge_table['AGE'].map(lambda x:30 if x >30 and x<41 else x)\n",
    "merge_table['AGE'] = merge_table['AGE'].map(lambda x:40 if x >40 and x<51 else x)\n",
    "merge_table['AGE'] = merge_table['AGE'].map(lambda x:50 if x >50 and x<61 else x)\n",
    "merge_table['AGE'] = merge_table['AGE'].map(lambda x:60 if x >60 and x<71 else x)\n",
    "merge_table['AGE'] = merge_table['AGE'].map(lambda x:70 if x >70 and x<81 else x)\n",
    "merge_table['AGE'] = merge_table['AGE'].map(lambda x:80 if x >80  else x)\n",
    "\n",
    "grouped = merge_table['SIU_CUST_YN'].groupby(merge_table['AGE'])\n",
    "grouped.mean()\n",
    "\n",
    "merge_table['AGE'] = merge_table['AGE'].map(lambda x:100 if x == 50 else x) \n",
    "merge_table['AGE'] = merge_table['AGE'].map(lambda x:70 if x == 30 or x == 40 or x == 60else x) \n",
    "merge_table['AGE'] = merge_table['AGE'].map(lambda x:40 if x == 20 else x) \n",
    "merge_table['AGE'] = merge_table['AGE'].map(lambda x:0 if  x != 100 and x!=70 and x!=40  else x)"
   ]
  },
  {
   "cell_type": "code",
   "execution_count": 92,
   "metadata": {
    "collapsed": true
   },
   "outputs": [],
   "source": [
    "merge_table['MAXCRDT']= merge_table['MAXCRDT'].map(lambda x:80 if x<=6 else x)\n",
    "merge_table['MAXCRDT']= merge_table['MAXCRDT'].map(lambda x:50 if x<50 and x>7 else x)\n",
    "merge_table['MAXCRDT'] = merge_table['MAXCRDT'].map(lambda x:0 if x!= 80 and x!=50  else x)"
   ]
  },
  {
   "cell_type": "code",
   "execution_count": 93,
   "metadata": {
    "collapsed": true
   },
   "outputs": [],
   "source": [
    "merge_table['CTPR'] = merge_table['CTPR'].map(lambda x:50 if x == '강원' or x == '광주' or x == '부산' or x == '인천' or x == '전북' else x) \n",
    "merge_table['CTPR'] = merge_table['CTPR'].map(lambda x:30 if x == '경기' or x=='경남' or x=='경북'  or x=='대구'or x=='대전' or x=='서울' or x=='전남' else x)\n",
    "merge_table['CTPR'] = merge_table['CTPR'].map(lambda x:0 if  x != 30 and x!=50  else x)\n"
   ]
  },
  {
   "cell_type": "code",
   "execution_count": 94,
   "metadata": {
    "collapsed": true
   },
   "outputs": [],
   "source": [
    "merge_table[\"ACCI_OCCP_GRP1\"] = merge_table[\"ACCI_OCCP_GRP1\"].map(lambda x : 4 if x == '2.자영업' else x)   \n",
    "merge_table[\"ACCI_OCCP_GRP1\"] = merge_table[\"ACCI_OCCP_GRP1\"].map(lambda x : 3 if x == '1.주부' or x == '5.서비스' else x)    \n",
    "merge_table[\"ACCI_OCCP_GRP1\"] = merge_table[\"ACCI_OCCP_GRP1\"].map(lambda x : 2 if x == '3.사무직' or x == '8.기타' else x)   \n",
    "merge_table[\"ACCI_OCCP_GRP1\"] = merge_table[\"ACCI_OCCP_GRP1\"].map(lambda x : 1 if x == '4.전문직' or x == '6.제조업' or x == '7.1차산업' else x)    \n",
    "merge_table[\"ACCI_OCCP_GRP1\"].fillna((merge_table[\"ACCI_OCCP_GRP1\"].mean()), inplace=True)"
   ]
  },
  {
   "cell_type": "code",
   "execution_count": 95,
   "metadata": {
    "collapsed": true
   },
   "outputs": [],
   "source": [
    "merge_table[\"CRNT_PROG_DVSN\"] = merge_table[\"CRNT_PROG_DVSN\"].map(lambda x : 10 if x == 33 else x)   \n",
    "merge_table[\"CRNT_PROG_DVSN\"] = merge_table[\"CRNT_PROG_DVSN\"].map(lambda x : 6 if x == 23 else x)   \n",
    "merge_table[\"CRNT_PROG_DVSN\"] = merge_table[\"CRNT_PROG_DVSN\"].map(lambda x : 3 if x == 11 else x)   \n",
    "merge_table[\"CRNT_PROG_DVSN\"] = merge_table[\"CRNT_PROG_DVSN\"].map(lambda x : 1 if x != 10 and x != 6 and x != 3 else x)   \n",
    "merge_table[\"CRNT_PROG_DVSN\"].fillna((merge_table[\"CRNT_PROG_DVSN\"].mean()), inplace=True)"
   ]
  },
  {
   "cell_type": "code",
   "execution_count": 96,
   "metadata": {
    "collapsed": true
   },
   "outputs": [],
   "source": [
    "merge_table[\"DMND_RESN_CODE\"] = merge_table[\"DMND_RESN_CODE\"].map(lambda x : 100 if x == 2 or x == 4 else x)   \n",
    "merge_table[\"DMND_RESN_CODE\"] = merge_table[\"DMND_RESN_CODE\"].map(lambda x : 40 if x == 5 else x)   \n",
    "merge_table[\"DMND_RESN_CODE\"] = merge_table[\"DMND_RESN_CODE\"].map(lambda x : 10 if x == 1 or x == 3 or x == 6 else x)   \n",
    "merge_table[\"DMND_RESN_CODE\"] = merge_table[\"DMND_RESN_CODE\"].map(lambda x : 5 if x == 7 else x)   \n",
    "merge_table[\"DMND_RESN_CODE\"] = merge_table[\"DMND_RESN_CODE\"].map(lambda x : 1 if x == 9 else x)   \n",
    "merge_table[\"DMND_RESN_CODE\"].fillna((merge_table[\"DMND_RESN_CODE\"].mean()), inplace=True)"
   ]
  },
  {
   "cell_type": "code",
   "execution_count": 97,
   "metadata": {
    "collapsed": true
   },
   "outputs": [],
   "source": [
    "merge_table['SALE_CHNL_CODE']=merge_table['SALE_CHNL_CODE'].map(lambda x: 70 if  x == 1 else x)\n",
    "merge_table['SALE_CHNL_CODE']=merge_table['SALE_CHNL_CODE'].map(lambda x: 30 if  x == 2 else x)\n",
    "merge_table['SALE_CHNL_CODE']=merge_table['SALE_CHNL_CODE'].map(lambda x: 130 if  x == 3 else x)\n",
    "merge_table['SALE_CHNL_CODE']=merge_table['SALE_CHNL_CODE'].map(lambda x: 90 if  x == 4 else x)\n",
    "merge_table['SALE_CHNL_CODE']=merge_table['SALE_CHNL_CODE'].map(lambda x: 10 if  x == 5 else x)\n",
    "merge_table['SALE_CHNL_CODE']=merge_table['SALE_CHNL_CODE'].map(lambda x: 50 if  x == 6 else x)\n",
    "merge_table['SALE_CHNL_CODE']=merge_table['SALE_CHNL_CODE'].map(lambda x: 110 if  x == 7 else x)"
   ]
  },
  {
   "cell_type": "code",
   "execution_count": 98,
   "metadata": {
    "collapsed": true
   },
   "outputs": [],
   "source": [
    "merge_table['CNTT_STAT_CODE']=merge_table['CNTT_STAT_CODE'].map(lambda x: 0 if x == 1 or x == 2 or x == 9 or x == 'A' or x == 'C' or x == 'H' or x == 'I' or x == 'L' else x)\n",
    "merge_table['CNTT_STAT_CODE']=merge_table['CNTT_STAT_CODE'].map(lambda x: 2 if x == 3 or x == 'B' or x == 'E' or x == 'J' else 4)"
   ]
  },
  {
   "cell_type": "code",
   "execution_count": 99,
   "metadata": {
    "collapsed": false
   },
   "outputs": [],
   "source": [
    "final_model = merge_table.drop('CUST_ID', axis = 1)\n",
    "X1 = np.array(final_model.drop('SIU_CUST_YN', axis = 1))\n",
    "\n",
    "\n",
    "y1 = np.array(final_model['SIU_CUST_YN'])"
   ]
  },
  {
   "cell_type": "code",
   "execution_count": 100,
   "metadata": {
    "collapsed": false
   },
   "outputs": [],
   "source": [
    "from pandas import DataFrame\n",
    "import pandas as pd\n",
    "import numpy as np\n",
    "import matplotlib.pyplot as plt\n",
    "from sklearn.cross_validation import KFold\n",
    "from sklearn.ensemble import RandomForestClassifier\n",
    "from sklearn.ensemble import VotingClassifier\n",
    "from sklearn.linear_model import LogisticRegression\n",
    "from sklearn.naive_bayes import GaussianNB\n",
    "from sklearn import metrics\n",
    "from sklearn.grid_search import GridSearchCV\n",
    "%matplotlib inline"
   ]
  },
  {
   "cell_type": "code",
   "execution_count": 101,
   "metadata": {
    "collapsed": true
   },
   "outputs": [],
   "source": [
    "import warnings\n",
    "warnings.filterwarnings(\"ignore\")"
   ]
  },
  {
   "cell_type": "code",
   "execution_count": 74,
   "metadata": {
    "collapsed": false
   },
   "outputs": [],
   "source": [
    "# rf_grid = GridSearchCV(\n",
    "#     estimator = GaussianNB(), param_grid= {},\n",
    "#     cv = 10,\n",
    "#     scoring = 'accuracy', \n",
    "#     n_jobs = -1)\n",
    "\n",
    "# rf_grid.fit(X1, y1)\n",
    "\n",
    "# print(rf_grid.best_score_)\n",
    "# print(rf_grid.best_params_)"
   ]
  },
  {
   "cell_type": "code",
   "execution_count": 78,
   "metadata": {
    "collapsed": false
   },
   "outputs": [
    {
     "name": "stdout",
     "output_type": "stream",
     "text": [
      "0.828153730766\n",
      "{'max_features': 'sqrt', 'n_estimators': 200}\n"
     ]
    }
   ],
   "source": [
    "rf_grid = GridSearchCV(\n",
    "   estimator = RandomForestClassifier(random_state=42),\n",
    "   param_grid = {\n",
    "       'n_estimators': [100, 200],\n",
    "       'max_features': ['sqrt', 'log2']\n",
    "    },\n",
    "   cv = 5,\n",
    "  scoring = 'accuracy', \n",
    "   n_jobs = -1)\n",
    "\n",
    "rf_grid.fit(X1, y1)\n",
    "\n",
    "print(rf_grid.best_score_)\n",
    "print(rf_grid.best_params_)"
   ]
  },
  {
   "cell_type": "code",
   "execution_count": 40,
   "metadata": {
    "collapsed": false
   },
   "outputs": [],
   "source": [
    "# lr_grid = GridSearchCV(estimator = LogisticRegression(), param_grid = {'penalty' : ['l1', 'l2'], 'C' : [0.01, 1, 10, 100]}, cv = 5, scoring = 'accuracy', n_jobs = -1)\n",
    "\n",
    "# lr_grid.fit(X1, y1)\n",
    "\n",
    "# print(lr_grid.best_score_)\n",
    "# print(lr_grid.best_params_)"
   ]
  },
  {
   "cell_type": "code",
   "execution_count": 111,
   "metadata": {
    "collapsed": false
   },
   "outputs": [],
   "source": [
    "# clf1 = LogisticRegression(penalty='l1',C=100, random_state=1, n_jobs=-1)\n",
    "# clf = RandomForestClassifier(random_state=42, n_jobs=-1, n_estimators=200, max_features = 'sqrt')\n",
    "# clf3 = GaussianNB()\n",
    "\n",
    "# kf = KFold(X1.shape[0], n_folds=10, random_state=42)\n",
    "\n",
    "# accuracy = []\n",
    "# for train_idx, test_idx in kf:\n",
    "#    X_train, X_test, y_train, y_test = X1[train_idx], X1[test_idx], y1[train_idx], y1[test_idx]\n",
    "#    eclf = VotingClassifier(estimators=[('rf', clf)], voting='soft')\n",
    "#    eclf.fit(X_train, y_train)\n",
    "#    accuracy_score = metrics.accuracy_score(y_test, eclf.predict(X_test))\n",
    "#    accuracy.append(accuracy_score)\n",
    "# print('accuracy_mean : %s, accuracy_std : %s' %(np.mean(accuracy), np.std(accuracy)))"
   ]
  },
  {
   "cell_type": "code",
   "execution_count": 103,
   "metadata": {
    "collapsed": true
   },
   "outputs": [],
   "source": [
    "classifying_model = VotingClassifier(estimators=[('rf', clf)], voting='soft')"
   ]
  },
  {
   "cell_type": "code",
   "execution_count": 104,
   "metadata": {
    "collapsed": false
   },
   "outputs": [
    {
     "data": {
      "text/plain": [
       "(330656, 10)"
      ]
     },
     "execution_count": 104,
     "metadata": {},
     "output_type": "execute_result"
    }
   ],
   "source": [
    "X1.shape"
   ]
  },
  {
   "cell_type": "code",
   "execution_count": 105,
   "metadata": {
    "collapsed": false
   },
   "outputs": [
    {
     "data": {
      "text/plain": [
       "VotingClassifier(estimators=[('rf', RandomForestClassifier(bootstrap=True, class_weight=None, criterion='gini',\n",
       "            max_depth=None, max_features='sqrt', max_leaf_nodes=None,\n",
       "            min_samples_leaf=1, min_samples_split=2,\n",
       "            min_weight_fraction_leaf=0.0, n_estimators=200, n_jobs=-1,\n",
       "            oob_score=False, random_state=42, verbose=0, warm_start=False))],\n",
       "         voting='soft', weights=None)"
      ]
     },
     "execution_count": 105,
     "metadata": {},
     "output_type": "execute_result"
    }
   ],
   "source": [
    "classifying_model.fit(X1, y1)"
   ]
  },
  {
   "cell_type": "code",
   "execution_count": 106,
   "metadata": {
    "collapsed": true
   },
   "outputs": [],
   "source": [
    "test_table = pd.read_csv('merge_table_test_real_sort')"
   ]
  },
  {
   "cell_type": "code",
   "execution_count": 107,
   "metadata": {
    "collapsed": true
   },
   "outputs": [],
   "source": [
    "final_model_2 = test_table.drop('CUST_ID', axis = 1)\n",
    "X1 = np.array(final_model_2.drop('SIU_CUST_YN', axis = 1))"
   ]
  },
  {
   "cell_type": "code",
   "execution_count": 108,
   "metadata": {
    "collapsed": false
   },
   "outputs": [
    {
     "data": {
      "text/plain": [
       "array([0, 0, 0, ..., 0, 0, 0])"
      ]
     },
     "execution_count": 108,
     "metadata": {},
     "output_type": "execute_result"
    }
   ],
   "source": [
    "classifying_model.predict(X1)"
   ]
  },
  {
   "cell_type": "code",
   "execution_count": 109,
   "metadata": {
    "collapsed": true
   },
   "outputs": [],
   "source": [
    "df_result = DataFrame()\n",
    "df_result['SIU_CUST_YN'] = rf_grid.predict(X1)"
   ]
  },
  {
   "cell_type": "code",
   "execution_count": 110,
   "metadata": {
    "collapsed": false
   },
   "outputs": [],
   "source": [
    "df_result.to_csv('bigcon_result.csv', index = False)"
   ]
  },
  {
   "cell_type": "code",
   "execution_count": null,
   "metadata": {
    "collapsed": true
   },
   "outputs": [],
   "source": []
  },
  {
   "cell_type": "code",
   "execution_count": null,
   "metadata": {
    "collapsed": true
   },
   "outputs": [],
   "source": []
  },
  {
   "cell_type": "code",
   "execution_count": null,
   "metadata": {
    "collapsed": true
   },
   "outputs": [],
   "source": []
  },
  {
   "cell_type": "code",
   "execution_count": null,
   "metadata": {
    "collapsed": true
   },
   "outputs": [],
   "source": []
  },
  {
   "cell_type": "code",
   "execution_count": null,
   "metadata": {
    "collapsed": true
   },
   "outputs": [],
   "source": []
  },
  {
   "cell_type": "code",
   "execution_count": null,
   "metadata": {
    "collapsed": true
   },
   "outputs": [],
   "source": []
  },
  {
   "cell_type": "code",
   "execution_count": null,
   "metadata": {
    "collapsed": true
   },
   "outputs": [],
   "source": []
  },
  {
   "cell_type": "code",
   "execution_count": null,
   "metadata": {
    "collapsed": true
   },
   "outputs": [],
   "source": []
  },
  {
   "cell_type": "code",
   "execution_count": null,
   "metadata": {
    "collapsed": true
   },
   "outputs": [],
   "source": []
  },
  {
   "cell_type": "code",
   "execution_count": null,
   "metadata": {
    "collapsed": true
   },
   "outputs": [],
   "source": []
  },
  {
   "cell_type": "code",
   "execution_count": null,
   "metadata": {
    "collapsed": true
   },
   "outputs": [],
   "source": []
  },
  {
   "cell_type": "code",
   "execution_count": null,
   "metadata": {
    "collapsed": true
   },
   "outputs": [],
   "source": []
  },
  {
   "cell_type": "code",
   "execution_count": null,
   "metadata": {
    "collapsed": true
   },
   "outputs": [],
   "source": []
  }
 ],
 "metadata": {
  "anaconda-cloud": {},
  "kernelspec": {
   "display_name": "Python [conda env:ml_python]",
   "language": "python",
   "name": "conda-env-ml_python-py"
  },
  "language_info": {
   "codemirror_mode": {
    "name": "ipython",
    "version": 3
   },
   "file_extension": ".py",
   "mimetype": "text/x-python",
   "name": "python",
   "nbconvert_exporter": "python",
   "pygments_lexer": "ipython3",
   "version": "3.5.2"
  }
 },
 "nbformat": 4,
 "nbformat_minor": 1
}
