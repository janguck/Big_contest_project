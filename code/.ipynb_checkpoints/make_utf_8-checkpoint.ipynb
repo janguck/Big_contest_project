{
 "cells": [
  {
   "cell_type": "code",
   "execution_count": 1,
   "metadata": {
    "collapsed": true
   },
   "outputs": [],
   "source": [
    "with open(\"../data/BGCON_CLAIM_DATA.csv\", \"rb\") as input:  \n",
    "    data = input.read()\n",
    "data = data.decode(\"utf-16\")\n",
    "data = data.replace(u\"\\u000B\", u\"\")\n",
    "data = data.encode(\"utf-8\")\n",
    "with open(\"BGCON_CLAIM_DATA_utf_8.txt\", \"wb\") as output:  \n",
    "    output.write(data)"
   ]
  },
  {
   "cell_type": "code",
   "execution_count": 2,
   "metadata": {
    "collapsed": true
   },
   "outputs": [],
   "source": [
    "with open(\"../data/BGCON_CNTT_DATA.csv\", \"rb\") as input:  \n",
    "    data = input.read()\n",
    "data = data.decode(\"utf-16\")\n",
    "data = data.replace(u\"\\u000B\", u\"\")\n",
    "data = data.encode(\"utf-8\")\n",
    "with open(\"BGCON_CNTT_DATA_utf_8.txt\", \"wb\") as output:  \n",
    "    output.write(data)"
   ]
  },
  {
   "cell_type": "code",
   "execution_count": 3,
   "metadata": {
    "collapsed": false
   },
   "outputs": [
    {
     "name": "stdout",
     "output_type": "stream",
     "text": [
      "b'CUST_ID,DIVIDED_SET,SIU_CUST_YN,SEX,AGE,RESI_COST,RESI_TYPE_CODE,FP_CAREER,CUST_RGST,CTPR,OCCP_GRP_1'\n"
     ]
    }
   ],
   "source": [
    "with open(\"../data/BGCON_CUST_DATA.csv\", \"rb\") as input:  \n",
    "    data = input.read()\n",
    "data = data.decode(\"utf-16\")\n",
    "data = data.replace(u\"\\u000B\", u\"\")\n",
    "data = data.encode(\"utf-8\")\n",
    "with open(\"BGCON_CUST_DATA_utf_8.txt\", \"wb\") as output:  \n",
    "    output.write(data)"
   ]
  },
  {
   "cell_type": "code",
   "execution_count": 4,
   "metadata": {
    "collapsed": true
   },
   "outputs": [],
   "source": [
    "with open(\"../data/BGCON_FMLY_DATA.csv\", \"rb\") as input:  \n",
    "    data = input.read()\n",
    "data = data.decode(\"utf-16\")\n",
    "data = data.replace(u\"\\u000B\", u\"\")\n",
    "data = data.encode(\"utf-8\")\n",
    "with open(\"BGCON_FMLY_DATA_utf_8.txt\", \"wb\") as output:  \n",
    "    output.write(data)"
   ]
  },
  {
   "cell_type": "code",
   "execution_count": 5,
   "metadata": {
    "collapsed": true
   },
   "outputs": [],
   "source": [
    "with open(\"../data/BGCON_FPINFO_DATA.csv\", \"rb\") as input:  \n",
    "    data = input.read()\n",
    "data = data.decode(\"utf-16\")\n",
    "data = data.replace(u\"\\u000B\", u\"\")\n",
    "data = data.encode(\"utf-8\")\n",
    "with open(\"BGCON_FPINFO_DATA_utf_8.txt\", \"wb\") as output:  \n",
    "    output.write(data)"
   ]
  }
 ],
 "metadata": {
  "anaconda-cloud": {},
  "kernelspec": {
   "display_name": "Python [conda env:ml_python]",
   "language": "python",
   "name": "conda-env-ml_python-py"
  },
  "language_info": {
   "codemirror_mode": {
    "name": "ipython",
    "version": 3
   },
   "file_extension": ".py",
   "mimetype": "text/x-python",
   "name": "python",
   "nbconvert_exporter": "python",
   "pygments_lexer": "ipython3",
   "version": "3.5.2"
  }
 },
 "nbformat": 4,
 "nbformat_minor": 1
}
