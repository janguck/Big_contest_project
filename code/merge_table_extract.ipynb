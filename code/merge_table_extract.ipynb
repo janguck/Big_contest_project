{
 "cells": [
  {
   "cell_type": "code",
   "execution_count": 24,
   "metadata": {
    "collapsed": true
   },
   "outputs": [],
   "source": [
    "real_data = []\n",
    "test_data = []\n",
    "count = 0\n",
    "with open(\"merge_table\", \"r\") as sion:  \n",
    "    for data in datas:\n",
    "        data = data.split(\",\")\n",
    "        if count == 0:\n",
    "            real_data.append(data)\n",
    "            test_data.append(data)\n",
    "            count = 100\n",
    "            continue\n",
    "        if data[1] == \"N\" or data[1] == \"Y\":\n",
    "            real_data.append(data)\n",
    "        else:\n",
    "            test_data.append(data)"
   ]
  },
  {
   "cell_type": "code",
   "execution_count": 25,
   "metadata": {
    "collapsed": true
   },
   "outputs": [],
   "source": [
    "with open(\"merge_table_test\", \"w\") as sion: \n",
    "    for data in test_data:\n",
    "        data = \",\".join(data)\n",
    "        sion.write(data)\n",
    "    sion.close()"
   ]
  },
  {
   "cell_type": "code",
   "execution_count": 26,
   "metadata": {
    "collapsed": true
   },
   "outputs": [],
   "source": [
    "with open(\"merge_table_train\", \"w\") as sion: \n",
    "    for data in real_data:\n",
    "        data = \",\".join(data)\n",
    "        sion.write(data)\n",
    "    sion.close()"
   ]
  }
 ],
 "metadata": {
  "anaconda-cloud": {},
  "kernelspec": {
   "display_name": "Python [conda env:ml_python]",
   "language": "python",
   "name": "conda-env-ml_python-py"
  },
  "language_info": {
   "codemirror_mode": {
    "name": "ipython",
    "version": 3
   },
   "file_extension": ".py",
   "mimetype": "text/x-python",
   "name": "python",
   "nbconvert_exporter": "python",
   "pygments_lexer": "ipython3",
   "version": "3.5.2"
  }
 },
 "nbformat": 4,
 "nbformat_minor": 1
}
