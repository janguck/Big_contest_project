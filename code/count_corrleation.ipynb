{
 "cells": [
  {
   "cell_type": "code",
   "execution_count": 12,
   "metadata": {
    "collapsed": true
   },
   "outputs": [],
   "source": [
    "import matplotlib as plt\n",
    "import pandas as pd\n",
    "import numpy as np"
   ]
  },
  {
   "cell_type": "code",
   "execution_count": 13,
   "metadata": {
    "collapsed": false
   },
   "outputs": [],
   "source": [
    "df = pd.read_csv('../data_utf_8/BGCON_CUST_DATA_utf_8_extract.txt', index_col=0)"
   ]
  },
  {
   "cell_type": "code",
   "execution_count": 14,
   "metadata": {
    "collapsed": false
   },
   "outputs": [],
   "source": [
    "df_DIVIDED_SET = df[\"DIVIDED_SET\"] \n",
    "df_SEX = df[\"SEX\"]\n",
    "df_AGE = df[\"AGE\"]\n",
    "df_RESI_COST = df[\"RESI_COST\"]\n",
    "df_RESI_TYPE_CODE = df[\"RESI_TYPE_CODE\"]\n",
    "df_FP_CAREER = df[\"FP_CAREER\"]\n",
    "df_CUST_RGST = df[\"CUST_RGST\"]\n",
    "df_CTPR = df[\"CTPR\"]\n",
    "df_OCCP_GRP_1 = df[\"OCCP_GRP_1\"]\n",
    "df_OCCP_GRP_2 = df[\"OCCP_GRP_2\"]\n",
    "df_TOTALPREM = df[\"TOTALPREM\"]\n",
    "df_MINCRDT = df[\"MINCRDT\"]\n",
    "df_MAXCRDT = df[\"MAXCRDT\"]\n",
    "df_WEDD_YN = df[\"WEDD_YN\"]\n",
    "df_MATE_OCCP_GRP_1 = df[\"MATE_OCCP_GRP_1\"]\n",
    "df_MATE_OCCP_GRP_2 = df[\"MATE_OCCP_GRP_2\"]\n",
    "df_CHLD_CNT = df[\"CHLD_CNT\"]\n",
    "df_LTBN_CHLD_AGE = df[\"LTBN_CHLD_AGE\"]\n",
    "df_MAX_PAYM_YM = df[\"MAX_PAYM_YM\"]\n",
    "df_MAX_PRM = df[\"MAX_PRM\"]\n",
    "df_CUST_INCM = df[\"CUST_INCM\"]\n",
    "df_RCBASE_HSHD_INCM = df[\"RCBASE_HSHD_INCM\"]\n",
    "df_JPBASE_HSHD_INCM = df[\"JPBASE_HSHD_INCM\"]\n",
    "\n",
    "\n",
    "df_SIU_CUST_YN = df[\"SIU_CUST_YN\"]"
   ]
  },
  {
   "cell_type": "code",
   "execution_count": null,
   "metadata": {
    "collapsed": true
   },
   "outputs": [],
   "source": [
    "def variance(x):\n",
    "    n = len(x)\n",
    "    deviations = de_mean(x)\n",
    "    return sum_of_squares(deviations) / (n - 1)\n",
    "\n",
    "def standard_deviation(x):\n",
    "    return math.sqrt(variance(x))\n",
    "\n",
    "def de_mean(x):\n",
    "    x_bar = mean(x)\n",
    "    return [x_i - x_bar for x_i in x]\n",
    "\n",
    "def sum_of_squares(v):\n",
    "    return dot(v, v)"
   ]
  },
  {
   "cell_type": "code",
   "execution_count": null,
   "metadata": {
    "collapsed": true
   },
   "outputs": [],
   "source": [
    "def correlation(x, y):\n",
    "    stdev_x = standard_deviation(x)\n",
    "    stdev_y = standard_deviation(y)\n",
    "    if stdev_x > 0 and stdev_y > 0:\n",
    "        return covariance(x, y) / stdev_x / stdev_y\n",
    "    else:\n",
    "        return 0 \n",
    "    \n",
    "correlation(x_data, y_data)"
   ]
  },
  {
   "cell_type": "code",
   "execution_count": null,
   "metadata": {
    "collapsed": true
   },
   "outputs": [],
   "source": [
    "np.corrcoef(x_data, y_data)"
   ]
  },
  {
   "cell_type": "code",
   "execution_count": null,
   "metadata": {
    "collapsed": true
   },
   "outputs": [],
   "source": []
  }
 ],
 "metadata": {
  "anaconda-cloud": {},
  "kernelspec": {
   "display_name": "Python [conda env:ml_python]",
   "language": "python",
   "name": "conda-env-ml_python-py"
  },
  "language_info": {
   "codemirror_mode": {
    "name": "ipython",
    "version": 3
   },
   "file_extension": ".py",
   "mimetype": "text/x-python",
   "name": "python",
   "nbconvert_exporter": "python",
   "pygments_lexer": "ipython3",
   "version": "3.5.2"
  }
 },
 "nbformat": 4,
 "nbformat_minor": 1
}
