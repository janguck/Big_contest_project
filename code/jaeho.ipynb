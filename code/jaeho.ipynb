{
 "cells": [
  {
   "cell_type": "code",
   "execution_count": 223,
   "metadata": {
    "collapsed": false
   },
   "outputs": [],
   "source": [
    "import matplotlib as plt\n",
    "import pandas as pd\n",
    "import numpy as np\n",
    "from math import sqrt\n",
    "from statistics import mean\n",
    "from numpy import array\n",
    "import numpy as np"
   ]
  },
  {
   "cell_type": "code",
   "execution_count": 224,
   "metadata": {
    "collapsed": false,
    "scrolled": true
   },
   "outputs": [],
   "source": [
    "df = pd.read_csv('../data_utf_8/BGCON_CUST_DATA_utf_8_extract.txt', index_col=0)"
   ]
  },
  {
   "cell_type": "code",
   "execution_count": 225,
   "metadata": {
    "collapsed": false
   },
   "outputs": [],
   "source": [
    "#df = df.dropna()\n",
    "\n",
    "df['FP_CAREER'] = df['FP_CAREER'].map(lambda x: 0 if x == 'N' else 1)\n",
    "df['SIU_CUST_YN'] = df['SIU_CUST_YN'].map(lambda x: 0 if x == 'N' else 1)\n",
    "df['WEDD_YN'] = df['WEDD_YN'].map(lambda x: 0 if x == 'N' else 1)\n",
    "\n",
    "\n",
    "df_DIVIDED_SET = df[\"DIVIDED_SET\"] \n",
    "df_SEX = df[\"SEX\"]\n",
    "df_AGE = df[\"AGE\"]\n",
    "df_RESI_COST = df[\"RESI_COST\"]\n",
    "df_RESI_TYPE_CODE = df[\"RESI_TYPE_CODE\"]\n",
    "df_FP_CAREER = df[\"FP_CAREER\"]\n",
    "df_CUST_RGST = df[\"CUST_RGST\"]\n",
    "df_CTPR = df[\"CTPR\"]\n",
    "df_OCCP_GRP_1 = df[\"OCCP_GRP_1\"]\n",
    "df_OCCP_GRP_2 = df[\"OCCP_GRP_2\"]\n",
    "df_TOTALPREM = df[\"TOTALPREM\"]\n",
    "df_MINCRDT = df[\"MINCRDT\"]\n",
    "df_MAXCRDT = df[\"MAXCRDT\"]\n",
    "df_WEDD_YN = df[\"WEDD_YN\"]\n",
    "df_MATE_OCCP_GRP_1 = df[\"MATE_OCCP_GRP_1\"]\n",
    "df_MATE_OCCP_GRP_2 = df[\"MATE_OCCP_GRP_2\"]\n",
    "df_CHLD_CNT = df[\"CHLD_CNT\"]\n",
    "df_LTBN_CHLD_AGE = df[\"LTBN_CHLD_AGE\"]\n",
    "df_MAX_PAYM_YM = df[\"MAX_PAYM_YM\"]\n",
    "df_MAX_PRM = df[\"MAX_PRM\"]\n",
    "df_CUST_INCM = df[\"CUST_INCM\"]\n",
    "df_RCBASE_HSHD_INCM = df[\"RCBASE_HSHD_INCM\"]\n",
    "df_JPBASE_HSHD_INCM = df[\"JPBASE_HSHD_INCM\"]\n",
    "\n",
    "\n",
    "df_SIU_CUST_YN = df[\"SIU_CUST_YN\"]\n"
   ]
  },
  {
   "cell_type": "code",
   "execution_count": 226,
   "metadata": {
    "collapsed": false,
    "scrolled": true
   },
   "outputs": [],
   "source": [
    "#for column in range(0, 10):\n",
    "#    if column not in [6]:\n",
    "#        df[names[column]] = df[names[column]].astype(\"category\")"
   ]
  },
  {
   "cell_type": "code",
   "execution_count": 227,
   "metadata": {
    "collapsed": false
   },
   "outputs": [],
   "source": [
    "df['DIVIDED_SET'].fillna((df['DIVIDED_SET'].mean()), inplace=True)\n",
    "df['SEX'].fillna((df['SEX'].mean()), inplace=True)\n",
    "df['AGE'].fillna((df['AGE'].mean()), inplace=True)\n",
    "df['RESI_COST'].fillna((df['RESI_COST'].mean()), inplace=True)\n",
    "df['RESI_TYPE_CODE'].fillna((df['RESI_TYPE_CODE'].mean()), inplace=True)\n",
    "df['FP_CAREER'].fillna((df['FP_CAREER'].mean()), inplace=True)\n",
    "df['CUST_RGST'].fillna((df['CUST_RGST'].mean()), inplace=True)\n",
    "df['TOTALPREM'].fillna((df['TOTALPREM'].mean()), inplace=True)\n",
    "df['MINCRDT'].fillna((df['MINCRDT'].mean()), inplace=True)\n",
    "df['MAXCRDT'].fillna((df['MAXCRDT'].mean()), inplace=True)\n",
    "df['CHLD_CNT'].fillna((df['CHLD_CNT'].mean()), inplace=True)\n",
    "df['LTBN_CHLD_AGE'].fillna((df['LTBN_CHLD_AGE'].mean()), inplace=True)\n",
    "df['MAX_PAYM_YM'].fillna((df['MAX_PAYM_YM'].mean()), inplace=True)\n",
    "df['MAX_PRM'].fillna((df['MAX_PRM'].mean()), inplace=True)\n",
    "df['CUST_INCM'].fillna((df['CUST_INCM'].mean()), inplace=True)\n",
    "df['RCBASE_HSHD_INCM'].fillna((df['RCBASE_HSHD_INCM'].mean()), inplace=True)\n",
    "df['JPBASE_HSHD_INCM'].fillna((df['JPBASE_HSHD_INCM'].mean()), inplace=True)"
   ]
  },
  {
   "cell_type": "code",
   "execution_count": 228,
   "metadata": {
    "collapsed": true
   },
   "outputs": [],
   "source": [
    "# df['DIVIDED_SET']= df['DIVIDED_SET'].fillna((df['DIVIDED_SET'].mean()), inplace=True)\n",
    "# df['SEX']= df['SEX'].fillna((df['SEX'].mean()), inplace=True)\n",
    "# df['AGE']= df['AGE'].fillna((df['AGE'].mean()), inplace=True)\n",
    "# df['RESI_COST']= df['RESI_COST'].fillna((df['RESI_COST'].mean()), inplace=True)\n",
    "# df['RESI_TYPE_CODE']= df['RESI_TYPE_CODE'].fillna((df['RESI_TYPE_CODE'].mean()), inplace=True)\n",
    "# df['FP_CAREER']= df['FP_CAREER'].fillna((df['FP_CAREER'].mean()), inplace=True)\n",
    "# df['CUST_RGST']= df['CUST_RGST'].fillna((df['CUST_RGST'].mean()), inplace=True)\n",
    "# df['TOTALPREM']= df['TOTALPREM'].fillna((df['TOTALPREM'].mean()), inplace=True)\n",
    "# df['MINCRDT']= df['MINCRDT'].fillna((df['MINCRDT'].mean()), inplace=True)\n",
    "# df['MAXCRDT']= df['MAXCRDT'].fillna((df['MAXCRDT'].mean()), inplace=True)\n",
    "# df['CHLD_CNT']= df['CHLD_CNT'].fillna((df['CHLD_CNT'].mean()), inplace=True)\n",
    "# df['LTBN_CHLD_AGE']= df['LTBN_CHLD_AGE'].fillna((df['LTBN_CHLD_AGE'].mean()), inplace=True)\n",
    "# df['MAX_PAYM_YM']= df['MAX_PAYM_YM'].fillna((df['MAX_PAYM_YM'].mean()), inplace=True)\n",
    "# df['MAX_PRM']= df['MAX_PRM'].fillna((df['MAX_PRM'].mean()), inplace=True)\n",
    "# df['CUST_INCM']= df['CUST_INCM'].fillna((df['CUST_INCM'].mean()), inplace=True)\n",
    "# df['RCBASE_HSHD_INCM']= df['RCBASE_HSHD_INCM'].fillna((df['RCBASE_HSHD_INCM'].mean()), inplace=True)\n",
    "# df['JPBASE_HSHD_INCM']= df['JPBASE_HSHD_INCM'].fillna((df['JPBASE_HSHD_INCM'].mean()), inplace=True)"
   ]
  },
  {
   "cell_type": "code",
   "execution_count": 229,
   "metadata": {
    "collapsed": true
   },
   "outputs": [],
   "source": [
    "def variance(x):\n",
    "    n = len(x)\n",
    "    deviations = de_mean(x)\n",
    "    return sum_of_squares(deviations) / (n - 1)\n",
    "\n",
    "def standard_deviation(x):\n",
    "    return math.sqrt(variance(x))\n",
    "\n",
    "def de_mean(x):\n",
    "    x_bar = mean(x)\n",
    "    return [x_i - x_bar for x_i in x]\n",
    "\n",
    "def sum_of_squares(v):\n",
    "    return dot(v, v)"
   ]
  },
  {
   "cell_type": "code",
   "execution_count": 273,
   "metadata": {
    "collapsed": false
   },
   "outputs": [],
   "source": [
    "def correlation(x, y):\n",
    "    stdev_x = standard_deviation(x)\n",
    "    stdev_y = standard_deviation(y)\n",
    "    if stdev_x > 0 and stdev_y > 0:\n",
    "        return covariance(x, y) / stdev_x / stdev_y\n",
    "    else:\n",
    "        return 0 \n",
    "\n",
    "    #4가지 선택\n",
    "\n",
    "#x_data = df_SEX\n",
    "#x_data = df_AGE\n",
    "#x_data = df_DIVIDED_SET\n",
    "#x_data = df_RESI_COST\n",
    "\n",
    "\n",
    "x_data = df_JPBASE_HSHD_INCM\n",
    "y_data = df['SIU_CUST_YN']\n",
    "#correlation(x_data, y_data)"
   ]
  },
  {
   "cell_type": "code",
   "execution_count": 274,
   "metadata": {
    "collapsed": false
   },
   "outputs": [],
   "source": [
    "#names = [\"df_DIVIDED_SET\", \"df_SEX\", \"df_AGE\", \"df_RESI_COST\", \"df_RESI_TYPE_CODE\", \"df_FP_CAREER\", \"df_CUST_RGST\", \"df_CTPR\", \"df_OCCP_GRP_1\", \"df_OCCP_GRP_2\", \"df_TOTALPREM\", \"df_MINCRDT\", \"df_MAXCRDT\", \"df_WEDD_YN\", \"df_MATE_OCCP_GRP_1\", \"df_MATE_OCCP_GRP_2\", \"df_CHLD_CNT\", \"df_LTBN_CHLD_AGE\", \"df_MAX_PAYM_YM\", \"df_MAX_PRM\", \"df_CUST_INCM\", \"df_RCBASE_HSHD_INCM\", \"df_JPBASE_HSHD_INCM\"]\n",
    "#df[:5]\n",
    "#df.dtypes"
   ]
  },
  {
   "cell_type": "code",
   "execution_count": 275,
   "metadata": {
    "collapsed": false,
    "scrolled": true
   },
   "outputs": [
    {
     "data": {
      "text/plain": [
       "array([[ 1.        , -0.01126466],\n",
       "       [-0.01126466,  1.        ]])"
      ]
     },
     "execution_count": 275,
     "metadata": {},
     "output_type": "execute_result"
    }
   ],
   "source": [
    "np.corrcoef(x_data, y_data)"
   ]
  },
  {
   "cell_type": "code",
   "execution_count": 154,
   "metadata": {
    "collapsed": false
   },
   "outputs": [
    {
     "data": {
      "text/plain": [
       "DIVIDED_SET           object\n",
       "SIU_CUST_YN            int64\n",
       "SEX                   object\n",
       "AGE                   object\n",
       "RESI_COST             object\n",
       "RESI_TYPE_CODE        object\n",
       "FP_CAREER             object\n",
       "CUST_RGST             object\n",
       "CTPR                category\n",
       "OCCP_GRP_1          category\n",
       "OCCP_GRP_2          category\n",
       "TOTALPREM             object\n",
       "MINCRDT               object\n",
       "MAXCRDT               object\n",
       "WEDD_YN                int64\n",
       "MATE_OCCP_GRP_1     category\n",
       "MATE_OCCP_GRP_2     category\n",
       "CHLD_CNT              object\n",
       "LTBN_CHLD_AGE         object\n",
       "MAX_PAYM_YM           object\n",
       "MAX_PRM               object\n",
       "CUST_INCM             object\n",
       "RCBASE_HSHD_INCM      object\n",
       "JPBASE_HSHD_INCM      object\n",
       "dtype: object"
      ]
     },
     "execution_count": 154,
     "metadata": {},
     "output_type": "execute_result"
    }
   ],
   "source": [
    "df['CTPR'] = df['CTPR'].astype(\"category\")\n",
    "df['OCCP_GRP_1'] = df['OCCP_GRP_1'].astype(\"category\")\n",
    "df['OCCP_GRP_2'] = df['OCCP_GRP_2'].astype(\"category\")\n",
    "df['MATE_OCCP_GRP_1'] = df['MATE_OCCP_GRP_1'].astype(\"category\")\n",
    "df['MATE_OCCP_GRP_2'] = df['MATE_OCCP_GRP_2'].astype(\"category\")\n",
    "\n",
    "df.dtypes"
   ]
  },
  {
   "cell_type": "code",
   "execution_count": 155,
   "metadata": {
    "collapsed": false,
    "scrolled": true
   },
   "outputs": [
    {
     "data": {
      "text/html": [
       "<div>\n",
       "<table border=\"1\" class=\"dataframe\">\n",
       "  <thead>\n",
       "    <tr style=\"text-align: right;\">\n",
       "      <th></th>\n",
       "      <th>DIVIDED_SET</th>\n",
       "      <th>SIU_CUST_YN</th>\n",
       "      <th>SEX</th>\n",
       "      <th>AGE</th>\n",
       "      <th>RESI_COST</th>\n",
       "      <th>RESI_TYPE_CODE</th>\n",
       "      <th>FP_CAREER</th>\n",
       "      <th>CUST_RGST</th>\n",
       "      <th>TOTALPREM</th>\n",
       "      <th>MINCRDT</th>\n",
       "      <th>...</th>\n",
       "      <th>MATE_OCCP_GRP_2_사무직</th>\n",
       "      <th>MATE_OCCP_GRP_2_예체능계 종사자</th>\n",
       "      <th>MATE_OCCP_GRP_2_운전직</th>\n",
       "      <th>MATE_OCCP_GRP_2_의료직 종사자</th>\n",
       "      <th>MATE_OCCP_GRP_2_자영업</th>\n",
       "      <th>MATE_OCCP_GRP_2_전문직</th>\n",
       "      <th>MATE_OCCP_GRP_2_종교인/역술인</th>\n",
       "      <th>MATE_OCCP_GRP_2_주부</th>\n",
       "      <th>MATE_OCCP_GRP_2_학생</th>\n",
       "      <th>MATE_OCCP_GRP_2_학자/연구직</th>\n",
       "    </tr>\n",
       "    <tr>\n",
       "      <th>CUST_ID</th>\n",
       "      <th></th>\n",
       "      <th></th>\n",
       "      <th></th>\n",
       "      <th></th>\n",
       "      <th></th>\n",
       "      <th></th>\n",
       "      <th></th>\n",
       "      <th></th>\n",
       "      <th></th>\n",
       "      <th></th>\n",
       "      <th></th>\n",
       "      <th></th>\n",
       "      <th></th>\n",
       "      <th></th>\n",
       "      <th></th>\n",
       "      <th></th>\n",
       "      <th></th>\n",
       "      <th></th>\n",
       "      <th></th>\n",
       "      <th></th>\n",
       "      <th></th>\n",
       "    </tr>\n",
       "  </thead>\n",
       "  <tbody>\n",
       "    <tr>\n",
       "      <th>1</th>\n",
       "      <td>None</td>\n",
       "      <td>0</td>\n",
       "      <td>None</td>\n",
       "      <td>None</td>\n",
       "      <td>None</td>\n",
       "      <td>None</td>\n",
       "      <td>None</td>\n",
       "      <td>None</td>\n",
       "      <td>None</td>\n",
       "      <td>None</td>\n",
       "      <td>...</td>\n",
       "      <td>0.0</td>\n",
       "      <td>0.0</td>\n",
       "      <td>0.0</td>\n",
       "      <td>0.0</td>\n",
       "      <td>0.0</td>\n",
       "      <td>0.0</td>\n",
       "      <td>0.0</td>\n",
       "      <td>0.0</td>\n",
       "      <td>0.0</td>\n",
       "      <td>0.0</td>\n",
       "    </tr>\n",
       "    <tr>\n",
       "      <th>2</th>\n",
       "      <td>None</td>\n",
       "      <td>0</td>\n",
       "      <td>None</td>\n",
       "      <td>None</td>\n",
       "      <td>None</td>\n",
       "      <td>None</td>\n",
       "      <td>None</td>\n",
       "      <td>None</td>\n",
       "      <td>None</td>\n",
       "      <td>None</td>\n",
       "      <td>...</td>\n",
       "      <td>0.0</td>\n",
       "      <td>0.0</td>\n",
       "      <td>0.0</td>\n",
       "      <td>0.0</td>\n",
       "      <td>0.0</td>\n",
       "      <td>0.0</td>\n",
       "      <td>0.0</td>\n",
       "      <td>1.0</td>\n",
       "      <td>0.0</td>\n",
       "      <td>0.0</td>\n",
       "    </tr>\n",
       "    <tr>\n",
       "      <th>3</th>\n",
       "      <td>None</td>\n",
       "      <td>0</td>\n",
       "      <td>None</td>\n",
       "      <td>None</td>\n",
       "      <td>None</td>\n",
       "      <td>None</td>\n",
       "      <td>None</td>\n",
       "      <td>None</td>\n",
       "      <td>None</td>\n",
       "      <td>None</td>\n",
       "      <td>...</td>\n",
       "      <td>0.0</td>\n",
       "      <td>0.0</td>\n",
       "      <td>0.0</td>\n",
       "      <td>0.0</td>\n",
       "      <td>0.0</td>\n",
       "      <td>0.0</td>\n",
       "      <td>0.0</td>\n",
       "      <td>0.0</td>\n",
       "      <td>0.0</td>\n",
       "      <td>0.0</td>\n",
       "    </tr>\n",
       "    <tr>\n",
       "      <th>4</th>\n",
       "      <td>None</td>\n",
       "      <td>0</td>\n",
       "      <td>None</td>\n",
       "      <td>None</td>\n",
       "      <td>None</td>\n",
       "      <td>None</td>\n",
       "      <td>None</td>\n",
       "      <td>None</td>\n",
       "      <td>None</td>\n",
       "      <td>None</td>\n",
       "      <td>...</td>\n",
       "      <td>0.0</td>\n",
       "      <td>0.0</td>\n",
       "      <td>0.0</td>\n",
       "      <td>0.0</td>\n",
       "      <td>0.0</td>\n",
       "      <td>0.0</td>\n",
       "      <td>0.0</td>\n",
       "      <td>0.0</td>\n",
       "      <td>0.0</td>\n",
       "      <td>0.0</td>\n",
       "    </tr>\n",
       "    <tr>\n",
       "      <th>5</th>\n",
       "      <td>None</td>\n",
       "      <td>0</td>\n",
       "      <td>None</td>\n",
       "      <td>None</td>\n",
       "      <td>None</td>\n",
       "      <td>None</td>\n",
       "      <td>None</td>\n",
       "      <td>None</td>\n",
       "      <td>None</td>\n",
       "      <td>None</td>\n",
       "      <td>...</td>\n",
       "      <td>0.0</td>\n",
       "      <td>0.0</td>\n",
       "      <td>0.0</td>\n",
       "      <td>0.0</td>\n",
       "      <td>0.0</td>\n",
       "      <td>0.0</td>\n",
       "      <td>0.0</td>\n",
       "      <td>0.0</td>\n",
       "      <td>0.0</td>\n",
       "      <td>0.0</td>\n",
       "    </tr>\n",
       "  </tbody>\n",
       "</table>\n",
       "<p>5 rows × 96 columns</p>\n",
       "</div>"
      ],
      "text/plain": [
       "        DIVIDED_SET  SIU_CUST_YN   SEX   AGE RESI_COST RESI_TYPE_CODE  \\\n",
       "CUST_ID                                                                 \n",
       "1              None            0  None  None      None           None   \n",
       "2              None            0  None  None      None           None   \n",
       "3              None            0  None  None      None           None   \n",
       "4              None            0  None  None      None           None   \n",
       "5              None            0  None  None      None           None   \n",
       "\n",
       "        FP_CAREER CUST_RGST TOTALPREM MINCRDT           ...            \\\n",
       "CUST_ID                                                 ...             \n",
       "1            None      None      None    None           ...             \n",
       "2            None      None      None    None           ...             \n",
       "3            None      None      None    None           ...             \n",
       "4            None      None      None    None           ...             \n",
       "5            None      None      None    None           ...             \n",
       "\n",
       "        MATE_OCCP_GRP_2_사무직  MATE_OCCP_GRP_2_예체능계 종사자 MATE_OCCP_GRP_2_운전직  \\\n",
       "CUST_ID                                                                     \n",
       "1                       0.0                       0.0                 0.0   \n",
       "2                       0.0                       0.0                 0.0   \n",
       "3                       0.0                       0.0                 0.0   \n",
       "4                       0.0                       0.0                 0.0   \n",
       "5                       0.0                       0.0                 0.0   \n",
       "\n",
       "        MATE_OCCP_GRP_2_의료직 종사자 MATE_OCCP_GRP_2_자영업 MATE_OCCP_GRP_2_전문직  \\\n",
       "CUST_ID                                                                   \n",
       "1                           0.0                 0.0                 0.0   \n",
       "2                           0.0                 0.0                 0.0   \n",
       "3                           0.0                 0.0                 0.0   \n",
       "4                           0.0                 0.0                 0.0   \n",
       "5                           0.0                 0.0                 0.0   \n",
       "\n",
       "        MATE_OCCP_GRP_2_종교인/역술인 MATE_OCCP_GRP_2_주부 MATE_OCCP_GRP_2_학생  \\\n",
       "CUST_ID                                                                 \n",
       "1                           0.0                0.0                0.0   \n",
       "2                           0.0                1.0                0.0   \n",
       "3                           0.0                0.0                0.0   \n",
       "4                           0.0                0.0                0.0   \n",
       "5                           0.0                0.0                0.0   \n",
       "\n",
       "         MATE_OCCP_GRP_2_학자/연구직  \n",
       "CUST_ID                          \n",
       "1                           0.0  \n",
       "2                           0.0  \n",
       "3                           0.0  \n",
       "4                           0.0  \n",
       "5                           0.0  \n",
       "\n",
       "[5 rows x 96 columns]"
      ]
     },
     "execution_count": 155,
     "metadata": {},
     "output_type": "execute_result"
    }
   ],
   "source": [
    "df1 = pd.get_dummies(df, columns=[\"CTPR\",\"OCCP_GRP_1\",\"OCCP_GRP_2\",\"MATE_OCCP_GRP_1\",\"MATE_OCCP_GRP_2\"], drop_first = True)\n",
    "df1.describe()\n",
    "df1.head()"
   ]
  },
  {
   "cell_type": "code",
   "execution_count": 156,
   "metadata": {
    "collapsed": false,
    "scrolled": true
   },
   "outputs": [
    {
     "data": {
      "text/plain": [
       "Index(['DIVIDED_SET', 'SIU_CUST_YN', 'SEX', 'AGE', 'RESI_COST',\n",
       "       'RESI_TYPE_CODE', 'FP_CAREER', 'CUST_RGST', 'TOTALPREM', 'MINCRDT',\n",
       "       'MAXCRDT', 'WEDD_YN', 'CHLD_CNT', 'LTBN_CHLD_AGE', 'MAX_PAYM_YM',\n",
       "       'MAX_PRM', 'CUST_INCM', 'RCBASE_HSHD_INCM', 'JPBASE_HSHD_INCM',\n",
       "       'CTPR_경기', 'CTPR_경남', 'CTPR_경북', 'CTPR_광주', 'CTPR_대구', 'CTPR_대전',\n",
       "       'CTPR_부산', 'CTPR_서울', 'CTPR_세종', 'CTPR_울산', 'CTPR_인천', 'CTPR_전남',\n",
       "       'CTPR_전북', 'CTPR_제주', 'CTPR_충남', 'CTPR_충북', 'OCCP_GRP_1_2.자영업',\n",
       "       'OCCP_GRP_1_3.사무직', 'OCCP_GRP_1_4.전문직', 'OCCP_GRP_1_5.서비스',\n",
       "       'OCCP_GRP_1_6.제조업', 'OCCP_GRP_1_7.1차산업', 'OCCP_GRP_1_8.기타',\n",
       "       'OCCP_GRP_2_2차산업 종사자', 'OCCP_GRP_2_3차산업 종사자', 'OCCP_GRP_2_고소득 전문직',\n",
       "       'OCCP_GRP_2_고소득의료직', 'OCCP_GRP_2_고위 공무원', 'OCCP_GRP_2_공무원',\n",
       "       'OCCP_GRP_2_교사', 'OCCP_GRP_2_교육관련직', 'OCCP_GRP_2_기업/단체 임원',\n",
       "       'OCCP_GRP_2_기타', 'OCCP_GRP_2_단순 노무직', 'OCCP_GRP_2_단순 사무직',\n",
       "       'OCCP_GRP_2_대학교수/강사', 'OCCP_GRP_2_법무직 종사자', 'OCCP_GRP_2_사무직',\n",
       "       'OCCP_GRP_2_예체능계 종사자', 'OCCP_GRP_2_운전직', 'OCCP_GRP_2_의료직 종사자',\n",
       "       'OCCP_GRP_2_자영업', 'OCCP_GRP_2_전문직', 'OCCP_GRP_2_종교인/역술인',\n",
       "       'OCCP_GRP_2_주부', 'OCCP_GRP_2_학생', 'OCCP_GRP_2_학자/연구직',\n",
       "       'MATE_OCCP_GRP_1_2.자영업', 'MATE_OCCP_GRP_1_3.사무직',\n",
       "       'MATE_OCCP_GRP_1_4.전문직', 'MATE_OCCP_GRP_1_5.서비스',\n",
       "       'MATE_OCCP_GRP_1_6.제조업', 'MATE_OCCP_GRP_1_7.1차산업',\n",
       "       'MATE_OCCP_GRP_1_8.기타', 'MATE_OCCP_GRP_2_2차산업 종사자',\n",
       "       'MATE_OCCP_GRP_2_3차산업 종사자', 'MATE_OCCP_GRP_2_고소득 전문직',\n",
       "       'MATE_OCCP_GRP_2_고소득의료직', 'MATE_OCCP_GRP_2_고위 공무원',\n",
       "       'MATE_OCCP_GRP_2_공무원', 'MATE_OCCP_GRP_2_교사', 'MATE_OCCP_GRP_2_교육관련직',\n",
       "       'MATE_OCCP_GRP_2_기업/단체 임원', 'MATE_OCCP_GRP_2_기타',\n",
       "       'MATE_OCCP_GRP_2_단순 노무직', 'MATE_OCCP_GRP_2_단순 사무직',\n",
       "       'MATE_OCCP_GRP_2_대학교수/강사', 'MATE_OCCP_GRP_2_사무직',\n",
       "       'MATE_OCCP_GRP_2_예체능계 종사자', 'MATE_OCCP_GRP_2_운전직',\n",
       "       'MATE_OCCP_GRP_2_의료직 종사자', 'MATE_OCCP_GRP_2_자영업', 'MATE_OCCP_GRP_2_전문직',\n",
       "       'MATE_OCCP_GRP_2_종교인/역술인', 'MATE_OCCP_GRP_2_주부', 'MATE_OCCP_GRP_2_학생',\n",
       "       'MATE_OCCP_GRP_2_학자/연구직'],\n",
       "      dtype='object')"
      ]
     },
     "execution_count": 156,
     "metadata": {},
     "output_type": "execute_result"
    }
   ],
   "source": [
    "df1.columns"
   ]
  },
  {
   "cell_type": "code",
   "execution_count": 157,
   "metadata": {
    "collapsed": false
   },
   "outputs": [
    {
     "data": {
      "text/plain": [
       "CTPR\n",
       "강원    0.141221\n",
       "경기    0.072437\n",
       "경남    0.064295\n",
       "경북    0.050223\n",
       "광주    0.195734\n",
       "대구    0.061606\n",
       "대전    0.085837\n",
       "부산    0.142446\n",
       "서울    0.090292\n",
       "세종    0.054054\n",
       "울산    0.029457\n",
       "인천    0.135682\n",
       "전남    0.098456\n",
       "전북    0.114350\n",
       "제주    0.000000\n",
       "충남    0.056277\n",
       "충북    0.026316\n",
       "Name: SIU_CUST_YN, dtype: float64"
      ]
     },
     "execution_count": 157,
     "metadata": {},
     "output_type": "execute_result"
    }
   ],
   "source": [
    "grouped = df1['SIU_CUST_YN'].groupby(df['CTPR'])\n",
    "#print(grouped.describe())\n",
    "grouped.mean()"
   ]
  },
  {
   "cell_type": "code",
   "execution_count": null,
   "metadata": {
    "collapsed": true
   },
   "outputs": [],
   "source": [
    "df[\"DMND_RESN_CODE\"] = df[\"CRNT_PROG_DVSN\"].map(lambda x : 100 if x == 2 or x == 4 else x)   \n",
    "\n",
    "df[\"DMND_RESN_CODE\"].fillna((df[\"DMND_RESN_CODE\"].mean()), inplace=True)\n",
    "\n",
    "\n",
    "\n",
    "\n",
    "x_data_4 = df[\"DMND_RESN_CODE\"]\n",
    "\n",
    "np.corrcoef(x_data_4,y_data)\n",
    "\n",
    "\n",
    "\n"
   ]
  },
  {
   "cell_type": "code",
   "execution_count": null,
   "metadata": {
    "collapsed": true
   },
   "outputs": [],
   "source": [
    "Index(['SIU_CUST_YN', 'CUST_ID', 'POLY_NO', 'ACCI_OCCP_GRP1', 'ACCI_OCCP_GRP2',\n",
    "       'CHANG_FP_YN', 'CNTT_RECP_SQNO', 'RECP_DATE', 'ORIG_RESN_DATE',\n",
    "       'RESN_DATE', 'CRNT_PROG_DVSN', 'ACCI_DVSN', 'CAUS_CODE',\n",
    "       'CAUS_CODE_DTAL', 'DSAS_NAME', 'DMND_RESN_CODE', 'DMND_RSCD_SQNO',\n",
    "       'HOSP_OTPA_STDT', 'HOSP_OTPA_ENDT', 'RESL_CD1', 'RESL_NM1',\n",
    "       'VLID_HOSP_OTDA', 'HOUSE_HOSP_DIST', 'HOSP_CODE', 'ACCI_HOSP_ADDR',\n",
    "       'HOSP_SPEC_DVSN', 'CHME_LICE_NO', 'PAYM_DATE', 'DMND_AMT', 'PAYM_AMT',\n",
    "       'PMMI_DLNG_YN', 'SELF_CHAM', 'NON_PAY', 'TAMT_SFCA', 'PATT_CHRG_TOTA',\n",
    "       'DSCT_AMT', 'COUNT_TRMT_ITEM', 'DCAF_CMPS_XCPA', 'NON_PAY_RATIO',\n",
    "       'HEED_HOSP_YN'],\n",
    "      dtype='object')"
   ]
  },
  {
   "cell_type": "code",
   "execution_count": 158,
   "metadata": {
    "collapsed": false
   },
   "outputs": [
    {
     "data": {
      "text/plain": [
       "OCCP_GRP_1\n",
       "1.주부      0.113130\n",
       "2.자영업     0.142722\n",
       "3.사무직     0.083712\n",
       "4.전문직     0.053650\n",
       "5.서비스     0.102534\n",
       "6.제조업     0.042587\n",
       "7.1차산업    0.038462\n",
       "8.기타      0.063802\n",
       "Name: SIU_CUST_YN, dtype: float64"
      ]
     },
     "execution_count": 158,
     "metadata": {},
     "output_type": "execute_result"
    }
   ],
   "source": [
    "grouped = df1['SIU_CUST_YN'].groupby(df['OCCP_GRP_1'])\n",
    "#print(grouped.describe())\n",
    "grouped.mean()"
   ]
  },
  {
   "cell_type": "code",
   "execution_count": 159,
   "metadata": {
    "collapsed": false
   },
   "outputs": [
    {
     "data": {
      "text/plain": [
       "OCCP_GRP_2\n",
       "1차산업 종사자    0.047354\n",
       "2차산업 종사자    0.044816\n",
       "3차산업 종사자    0.134755\n",
       "고소득 전문직     0.000000\n",
       "고소득의료직      0.057143\n",
       "고위 공무원      0.023810\n",
       "공무원         0.054054\n",
       "교사          0.024691\n",
       "교육관련직       0.066838\n",
       "기업/단체 임원    0.084746\n",
       "기타          0.063232\n",
       "단순 노무직      0.095238\n",
       "단순 사무직      0.096346\n",
       "대학교수/강사     0.066667\n",
       "법무직 종사자     0.000000\n",
       "사무직         0.085444\n",
       "예체능계 종사자    0.105590\n",
       "운전직         0.065306\n",
       "의료직 종사자     0.055215\n",
       "자영업         0.133684\n",
       "전문직         0.055072\n",
       "종교인/역술인     0.151515\n",
       "주부          0.113250\n",
       "학생          0.059934\n",
       "학자/연구직      0.025641\n",
       "Name: SIU_CUST_YN, dtype: float64"
      ]
     },
     "execution_count": 159,
     "metadata": {},
     "output_type": "execute_result"
    }
   ],
   "source": [
    "grouped = df1['SIU_CUST_YN'].groupby(df['OCCP_GRP_2'])\n",
    "#print(grouped.describe())\n",
    "grouped.mean()"
   ]
  },
  {
   "cell_type": "code",
   "execution_count": 160,
   "metadata": {
    "collapsed": false
   },
   "outputs": [
    {
     "data": {
      "text/plain": [
       "MATE_OCCP_GRP_1\n",
       "1.주부      0.073990\n",
       "2.자영업     0.123351\n",
       "3.사무직     0.092691\n",
       "4.전문직     0.073887\n",
       "5.서비스     0.102113\n",
       "6.제조업     0.089251\n",
       "7.1차산업    0.089457\n",
       "8.기타      0.089810\n",
       "Name: SIU_CUST_YN, dtype: float64"
      ]
     },
     "execution_count": 160,
     "metadata": {},
     "output_type": "execute_result"
    }
   ],
   "source": [
    "grouped = df1['SIU_CUST_YN'].groupby(df['MATE_OCCP_GRP_1'])\n",
    "#print(grouped.describe())\n",
    "grouped.mean()"
   ]
  },
  {
   "cell_type": "code",
   "execution_count": 161,
   "metadata": {
    "collapsed": false
   },
   "outputs": [
    {
     "data": {
      "text/plain": [
       "MATE_OCCP_GRP_2\n",
       "1차산업 종사자    0.086835\n",
       "2차산업 종사자    0.095273\n",
       "3차산업 종사자    0.083237\n",
       "고소득 전문직     0.000000\n",
       "고소득의료직      0.034483\n",
       "고위 공무원      0.054054\n",
       "공무원         0.043860\n",
       "교사          0.049180\n",
       "교육관련직       0.075472\n",
       "기업/단체 임원    0.138211\n",
       "기타          0.108597\n",
       "단순 노무직      0.054795\n",
       "단순 사무직      0.060000\n",
       "대학교수/강사     0.000000\n",
       "사무직         0.099607\n",
       "예체능계 종사자    0.045455\n",
       "운전직         0.096654\n",
       "의료직 종사자     0.063158\n",
       "자영업         0.126351\n",
       "전문직         0.097959\n",
       "종교인/역술인     0.214286\n",
       "주부          0.074208\n",
       "학생          0.233333\n",
       "학자/연구직      0.095238\n",
       "Name: SIU_CUST_YN, dtype: float64"
      ]
     },
     "execution_count": 161,
     "metadata": {},
     "output_type": "execute_result"
    }
   ],
   "source": [
    "grouped = df1['SIU_CUST_YN'].groupby(df['MATE_OCCP_GRP_2'])\n",
    "#print(grouped.describe())\n",
    "grouped.mean()"
   ]
  }
 ],
 "metadata": {
  "anaconda-cloud": {},
  "kernelspec": {
   "display_name": "Python [default]",
   "language": "python",
   "name": "python3"
  },
  "language_info": {
   "codemirror_mode": {
    "name": "ipython",
    "version": 3
   },
   "file_extension": ".py",
   "mimetype": "text/x-python",
   "name": "python",
   "nbconvert_exporter": "python",
   "pygments_lexer": "ipython3",
   "version": "3.5.2"
  }
 },
 "nbformat": 4,
 "nbformat_minor": 1
}
