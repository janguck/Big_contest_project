{
 "cells": [
  {
   "cell_type": "code",
   "execution_count": 1,
   "metadata": {
    "collapsed": true
   },
   "outputs": [],
   "source": [
    "import matplotlib as plt\n",
    "import pandas as pd\n",
    "import numpy as np"
   ]
  },
  {
   "cell_type": "code",
   "execution_count": 2,
   "metadata": {
    "collapsed": true
   },
   "outputs": [],
   "source": [
    "df = pd.read_csv('../data_utf_8/plus_y_data_CLAIM_DATA_utf_8_extract', index_col=0)"
   ]
  },
  {
   "cell_type": "code",
   "execution_count": 3,
   "metadata": {
    "collapsed": false
   },
   "outputs": [
    {
     "data": {
      "text/plain": [
       "Index(['SIU_CUST_YN', 'CUST_ID', 'POLY_NO', 'ACCI_OCCP_GRP1', 'ACCI_OCCP_GRP2',\n",
       "       'CHANG_FP_YN', 'CNTT_RECP_SQNO', 'RECP_DATE', 'ORIG_RESN_DATE',\n",
       "       'RESN_DATE', 'CRNT_PROG_DVSN', 'ACCI_DVSN', 'CAUS_CODE',\n",
       "       'CAUS_CODE_DTAL', 'DSAS_NAME', 'DMND_RESN_CODE', 'DMND_RSCD_SQNO',\n",
       "       'HOSP_OTPA_STDT', 'HOSP_OTPA_ENDT', 'RESL_CD1', 'RESL_NM1',\n",
       "       'VLID_HOSP_OTDA', 'HOUSE_HOSP_DIST', 'HOSP_CODE', 'ACCI_HOSP_ADDR',\n",
       "       'HOSP_SPEC_DVSN', 'CHME_LICE_NO', 'PAYM_DATE', 'DMND_AMT', 'PAYM_AMT',\n",
       "       'PMMI_DLNG_YN', 'SELF_CHAM', 'NON_PAY', 'TAMT_SFCA', 'PATT_CHRG_TOTA',\n",
       "       'DSCT_AMT', 'COUNT_TRMT_ITEM', 'DCAF_CMPS_XCPA', 'NON_PAY_RATIO',\n",
       "       'HEED_HOSP_YN'],\n",
       "      dtype='object')"
      ]
     },
     "execution_count": 3,
     "metadata": {},
     "output_type": "execute_result"
    }
   ],
   "source": [
    "df.columns"
   ]
  },
  {
   "cell_type": "code",
   "execution_count": 4,
   "metadata": {
    "collapsed": true
   },
   "outputs": [],
   "source": [
    "# 결과값 수치화하는 변수입니다.\n",
    "df[\"SIU_CUST_YN\"] = df[\"SIU_CUST_YN\"].map(lambda x : 1 if x == 'Y' else 0)    #N은 0,Y는 1"
   ]
  },
  {
   "cell_type": "code",
   "execution_count": 5,
   "metadata": {
    "collapsed": true
   },
   "outputs": [],
   "source": [
    "y_data = df[\"SIU_CUST_YN\"]"
   ]
  },
  {
   "cell_type": "code",
   "execution_count": 6,
   "metadata": {
    "collapsed": false
   },
   "outputs": [
    {
     "data": {
      "text/plain": [
       "ACCI_OCCP_GRP1\n",
       "1.주부      0.270792\n",
       "2.자영업     0.320294\n",
       "3.사무직     0.212187\n",
       "4.전문직     0.144129\n",
       "5.서비스     0.250013\n",
       "6.제조업     0.149673\n",
       "7.1차산업    0.135987\n",
       "8.기타      0.177953\n",
       "Name: SIU_CUST_YN, dtype: float64"
      ]
     },
     "execution_count": 6,
     "metadata": {},
     "output_type": "execute_result"
    }
   ],
   "source": [
    "sion = df[\"SIU_CUST_YN\"].groupby(df[\"ACCI_OCCP_GRP1\"])\n",
    "sion.mean()"
   ]
  },
  {
   "cell_type": "code",
   "execution_count": 7,
   "metadata": {
    "collapsed": false
   },
   "outputs": [],
   "source": [
    "df[\"ACCI_OCCP_GRP1\"] = df[\"ACCI_OCCP_GRP1\"].map(lambda x : 4 if x == '2.자영업' else x)   "
   ]
  },
  {
   "cell_type": "code",
   "execution_count": 8,
   "metadata": {
    "collapsed": false
   },
   "outputs": [],
   "source": [
    "df[\"ACCI_OCCP_GRP1\"] = df[\"ACCI_OCCP_GRP1\"].map(lambda x : 3 if x == '1.주부' or x == '5.서비스' else x)    "
   ]
  },
  {
   "cell_type": "code",
   "execution_count": 9,
   "metadata": {
    "collapsed": true
   },
   "outputs": [],
   "source": [
    "df[\"ACCI_OCCP_GRP1\"] = df[\"ACCI_OCCP_GRP1\"].map(lambda x : 2 if x == '3.사무직' or x == '8.기타' else x)   "
   ]
  },
  {
   "cell_type": "code",
   "execution_count": 10,
   "metadata": {
    "collapsed": true
   },
   "outputs": [],
   "source": [
    "df[\"ACCI_OCCP_GRP1\"] = df[\"ACCI_OCCP_GRP1\"].map(lambda x : 1 if x == '4.전문직' or x == '6.제조업' or x == '7.1차산업' else x)    "
   ]
  },
  {
   "cell_type": "code",
   "execution_count": 11,
   "metadata": {
    "collapsed": true
   },
   "outputs": [],
   "source": [
    "df[\"ACCI_OCCP_GRP1\"].fillna((df[\"ACCI_OCCP_GRP1\"].mean()), inplace=True)"
   ]
  },
  {
   "cell_type": "code",
   "execution_count": 12,
   "metadata": {
    "collapsed": true
   },
   "outputs": [],
   "source": [
    "x_data_1 = df[\"ACCI_OCCP_GRP1\"]"
   ]
  },
  {
   "cell_type": "code",
   "execution_count": 13,
   "metadata": {
    "collapsed": false
   },
   "outputs": [
    {
     "data": {
      "text/plain": [
       "array([[ 1.        ,  0.12744665],\n",
       "       [ 0.12744665,  1.        ]])"
      ]
     },
     "execution_count": 13,
     "metadata": {},
     "output_type": "execute_result"
    }
   ],
   "source": [
    "np.corrcoef(x_data_1,y_data)"
   ]
  },
  {
   "cell_type": "code",
   "execution_count": 14,
   "metadata": {
    "collapsed": false
   },
   "outputs": [
    {
     "data": {
      "text/plain": [
       "ACCI_OCCP_GRP2\n",
       "1차산업 종사자    0.141960\n",
       "2차산업 종사자    0.160143\n",
       "3차산업 종사자    0.275085\n",
       "고소득 전문직     0.000000\n",
       "고소득의료직      0.074627\n",
       "고위 공무원      0.088949\n",
       "공무원         0.160391\n",
       "교사          0.076923\n",
       "교육관련직       0.188889\n",
       "기업/단체 임원    0.172316\n",
       "기타          0.058252\n",
       "단순 노무직      0.071594\n",
       "단순 사무직      0.285470\n",
       "대학교수/강사     0.351064\n",
       "법무직 종사자     0.000000\n",
       "사무직         0.214146\n",
       "예체능계 종사자    0.281669\n",
       "운전직         0.173880\n",
       "의료직 종사자     0.068638\n",
       "자영업         0.319606\n",
       "전문직         0.130687\n",
       "종교인/역술인     0.240909\n",
       "주부          0.269979\n",
       "학생          0.186105\n",
       "학자/연구직      0.092105\n",
       "Name: SIU_CUST_YN, dtype: float64"
      ]
     },
     "execution_count": 14,
     "metadata": {},
     "output_type": "execute_result"
    }
   ],
   "source": [
    "sion_version_2 = df[\"SIU_CUST_YN\"].groupby(df[\"ACCI_OCCP_GRP2\"])\n",
    "sion_version_2.mean()"
   ]
  },
  {
   "cell_type": "code",
   "execution_count": 15,
   "metadata": {
    "collapsed": true
   },
   "outputs": [],
   "source": [
    "df[\"ACCI_OCCP_GRP2\"] = df[\"ACCI_OCCP_GRP2\"].map(lambda x : 10 if x == '대학교수/강사' or x == '자영업' else 1)   "
   ]
  },
  {
   "cell_type": "code",
   "execution_count": 16,
   "metadata": {
    "collapsed": true
   },
   "outputs": [],
   "source": [
    "df[\"ACCI_OCCP_GRP2\"] = df[\"ACCI_OCCP_GRP2\"].map(lambda x : 5 if x == '단순 사무직'or x == '3차산업 종사자' or x == '사무직' or x == '종교인/역술인' or x == '주부' else x)   "
   ]
  },
  {
   "cell_type": "code",
   "execution_count": 17,
   "metadata": {
    "collapsed": true
   },
   "outputs": [],
   "source": [
    "df[\"ACCI_OCCP_GRP2\"] = df[\"ACCI_OCCP_GRP2\"].map(lambda x : 2 if x == '교육관련직' or x == '기업/단체 임원' or x == '1차산업 종사자' or x == '2차산업 종사자' or x == '전문직' or x == '학생' else x)   "
   ]
  },
  {
   "cell_type": "code",
   "execution_count": 18,
   "metadata": {
    "collapsed": true
   },
   "outputs": [],
   "source": [
    "df[\"ACCI_OCCP_GRP2\"].fillna((df[\"ACCI_OCCP_GRP2\"].mean()), inplace=True)"
   ]
  },
  {
   "cell_type": "code",
   "execution_count": 19,
   "metadata": {
    "collapsed": true
   },
   "outputs": [],
   "source": [
    "x_data_2 = df[\"ACCI_OCCP_GRP2\"]"
   ]
  },
  {
   "cell_type": "code",
   "execution_count": 20,
   "metadata": {
    "collapsed": false
   },
   "outputs": [
    {
     "data": {
      "text/plain": [
       "array([[ 1.        ,  0.07675078],\n",
       "       [ 0.07675078,  1.        ]])"
      ]
     },
     "execution_count": 20,
     "metadata": {},
     "output_type": "execute_result"
    }
   ],
   "source": [
    "np.corrcoef(x_data_2,y_data)"
   ]
  },
  {
   "cell_type": "code",
   "execution_count": 21,
   "metadata": {
    "collapsed": false
   },
   "outputs": [
    {
     "data": {
      "text/plain": [
       "CNTT_RECP_SQNO\n",
       "2006010600001    0\n",
       "2006010600002    0\n",
       "2006010600003    0\n",
       "2006010600004    0\n",
       "2006010900001    0\n",
       "2006010900002    0\n",
       "2006010900003    0\n",
       "2006011000001    0\n",
       "2006011000002    1\n",
       "2006011000003    1\n",
       "2006011000004    0\n",
       "2006011000005    0\n",
       "2006011000006    1\n",
       "2006011000007    1\n",
       "2006011000008    0\n",
       "2006011100001    0\n",
       "2006011100002    0\n",
       "2006011100003    0\n",
       "2006011100006    0\n",
       "2006011200001    0\n",
       "2006011200002    0\n",
       "2006011200003    0\n",
       "2006011200004    0\n",
       "2006011200005    0\n",
       "2006011200006    0\n",
       "2006011300001    0\n",
       "2006011300003    0\n",
       "2006011300004    0\n",
       "2006011300005    1\n",
       "2006011300006    0\n",
       "                ..\n",
       "2215051200001    0\n",
       "2215051300001    0\n",
       "2215051900001    0\n",
       "2215051900002    0\n",
       "2215052000001    0\n",
       "2215052600001    0\n",
       "2215061000001    0\n",
       "2215061500001    0\n",
       "2215061800001    0\n",
       "2215061800002    0\n",
       "2215061900001    0\n",
       "2215061900002    0\n",
       "2215062500001    0\n",
       "2215062900001    0\n",
       "2215063000001    0\n",
       "2215070200001    0\n",
       "2215070300001    0\n",
       "2215070900001    0\n",
       "2215071300001    0\n",
       "2215072100001    1\n",
       "2215072100002    1\n",
       "2215081000001    0\n",
       "2215081000002    0\n",
       "2215081100001    0\n",
       "2215081200001    0\n",
       "2215081200002    0\n",
       "2215081300001    0\n",
       "2215081800001    0\n",
       "2215081900001    0\n",
       "2215082100001    0\n",
       "Name: SIU_CUST_YN, dtype: int64"
      ]
     },
     "execution_count": 21,
     "metadata": {},
     "output_type": "execute_result"
    }
   ],
   "source": [
    "sion_version_3 = df[\"SIU_CUST_YN\"].groupby(df[\"CNTT_RECP_SQNO\"])\n",
    "sion_version_3.mean()"
   ]
  },
  {
   "cell_type": "code",
   "execution_count": 22,
   "metadata": {
    "collapsed": false
   },
   "outputs": [
    {
     "data": {
      "text/plain": [
       "RECP_DATE\n",
       "20060106    0.000000\n",
       "20060109    0.000000\n",
       "20060110    0.500000\n",
       "20060111    0.000000\n",
       "20060112    0.000000\n",
       "20060113    0.166667\n",
       "20060116    0.666667\n",
       "20060117    0.111111\n",
       "20060118    0.222222\n",
       "20060119    0.666667\n",
       "20060120    0.000000\n",
       "20060123    0.500000\n",
       "20060124    0.100000\n",
       "20060125    0.750000\n",
       "20060126    0.500000\n",
       "20060127    0.363636\n",
       "20060131    0.125000\n",
       "20060201    0.714286\n",
       "20060202    0.750000\n",
       "20060203    0.500000\n",
       "20060206    0.333333\n",
       "20060207    0.500000\n",
       "20060208    0.000000\n",
       "20060209    0.444444\n",
       "20060210    0.000000\n",
       "20060213    0.153846\n",
       "20060214    0.166667\n",
       "20060215    0.125000\n",
       "20060216    0.200000\n",
       "20060217    0.250000\n",
       "              ...   \n",
       "20160520    0.107143\n",
       "20160523    0.092593\n",
       "20160524    0.047619\n",
       "20160525    0.120000\n",
       "20160526    0.020000\n",
       "20160527    0.107692\n",
       "20160530    0.065574\n",
       "20160531    0.185185\n",
       "20160601    0.017241\n",
       "20160602    0.049180\n",
       "20160603    0.115385\n",
       "20160607    0.211538\n",
       "20160608    0.080645\n",
       "20160609    0.087912\n",
       "20160610    0.046512\n",
       "20160613    0.064516\n",
       "20160614    0.107692\n",
       "20160615    0.111111\n",
       "20160616    0.074074\n",
       "20160617    0.050000\n",
       "20160620    0.071429\n",
       "20160621    0.032258\n",
       "20160622    0.042254\n",
       "20160623    0.040816\n",
       "20160624    0.000000\n",
       "20160627    0.020833\n",
       "20160628    0.055556\n",
       "20160629    0.000000\n",
       "20160630    0.100000\n",
       "20160701    0.100000\n",
       "Name: SIU_CUST_YN, dtype: float64"
      ]
     },
     "execution_count": 22,
     "metadata": {},
     "output_type": "execute_result"
    }
   ],
   "source": [
    "sion_version_4 = df[\"SIU_CUST_YN\"].groupby(df[\"RECP_DATE\"])\n",
    "sion_version_4.mean()"
   ]
  },
  {
   "cell_type": "code",
   "execution_count": 23,
   "metadata": {
    "collapsed": false
   },
   "outputs": [
    {
     "data": {
      "text/plain": [
       "ORIG_RESN_DATE\n",
       "19990428    0.000000\n",
       "19990622    1.000000\n",
       "19991103    1.000000\n",
       "19991112    1.000000\n",
       "20000120    0.000000\n",
       "20000512    0.000000\n",
       "20000524    1.000000\n",
       "20001012    0.000000\n",
       "20001022    1.000000\n",
       "20001030    0.000000\n",
       "20010203    0.000000\n",
       "20010625    0.000000\n",
       "20010629    1.000000\n",
       "20010726    0.000000\n",
       "20010731    0.000000\n",
       "20010821    0.000000\n",
       "20011022    0.000000\n",
       "20011130    0.000000\n",
       "20020105    0.000000\n",
       "20020212    0.750000\n",
       "20020215    0.000000\n",
       "20020314    0.000000\n",
       "20020415    0.000000\n",
       "20020604    0.000000\n",
       "20020623    0.000000\n",
       "20020702    0.000000\n",
       "20020703    0.000000\n",
       "20020716    1.000000\n",
       "20020723    1.000000\n",
       "20020925    0.000000\n",
       "              ...   \n",
       "20160526    0.066667\n",
       "20160527    0.000000\n",
       "20160528    0.000000\n",
       "20160529    0.000000\n",
       "20160530    0.363636\n",
       "20160531    0.000000\n",
       "20160601    0.130435\n",
       "20160602    0.076923\n",
       "20160603    0.000000\n",
       "20160604    0.100000\n",
       "20160605    0.000000\n",
       "20160606    0.000000\n",
       "20160607    0.050000\n",
       "20160608    0.000000\n",
       "20160609    0.000000\n",
       "20160610    0.000000\n",
       "20160611    0.000000\n",
       "20160612    0.000000\n",
       "20160613    0.000000\n",
       "20160614    0.090909\n",
       "20160615    0.000000\n",
       "20160616    0.000000\n",
       "20160617    0.000000\n",
       "20160618    0.000000\n",
       "20160619    0.000000\n",
       "20160621    0.000000\n",
       "20160622    0.000000\n",
       "20160625    0.000000\n",
       "20160627    0.000000\n",
       "20160629    0.000000\n",
       "Name: SIU_CUST_YN, dtype: float64"
      ]
     },
     "execution_count": 23,
     "metadata": {},
     "output_type": "execute_result"
    }
   ],
   "source": [
    "sion_version_5 = df[\"SIU_CUST_YN\"].groupby(df[\"ORIG_RESN_DATE\"])\n",
    "sion_version_5.mean()"
   ]
  },
  {
   "cell_type": "code",
   "execution_count": 24,
   "metadata": {
    "collapsed": false
   },
   "outputs": [
    {
     "data": {
      "text/plain": [
       "RESN_DATE\n",
       "20060101    0.166667\n",
       "20060102    0.500000\n",
       "20060103    0.636364\n",
       "20060104    0.181818\n",
       "20060105    0.142857\n",
       "20060106    0.333333\n",
       "20060107    0.166667\n",
       "20060108    0.000000\n",
       "20060109    0.240000\n",
       "20060110    0.250000\n",
       "20060111    0.625000\n",
       "20060112    0.333333\n",
       "20060113    0.133333\n",
       "20060114    0.666667\n",
       "20060115    0.333333\n",
       "20060116    0.066667\n",
       "20060117    0.357143\n",
       "20060118    0.000000\n",
       "20060119    0.363636\n",
       "20060120    0.090909\n",
       "20060121    0.666667\n",
       "20060122    0.000000\n",
       "20060123    0.571429\n",
       "20060124    0.285714\n",
       "20060125    0.285714\n",
       "20060126    0.142857\n",
       "20060127    0.200000\n",
       "20060128    0.000000\n",
       "20060129    0.000000\n",
       "20060130    0.000000\n",
       "              ...   \n",
       "20160528    0.000000\n",
       "20160529    0.000000\n",
       "20160530    0.117647\n",
       "20160531    0.176471\n",
       "20160601    0.107143\n",
       "20160602    0.000000\n",
       "20160603    0.043478\n",
       "20160604    0.083333\n",
       "20160605    0.000000\n",
       "20160606    0.000000\n",
       "20160607    0.047619\n",
       "20160608    0.000000\n",
       "20160609    0.047619\n",
       "20160610    0.000000\n",
       "20160611    0.076923\n",
       "20160612    0.000000\n",
       "20160613    0.000000\n",
       "20160614    0.055556\n",
       "20160615    0.153846\n",
       "20160616    0.000000\n",
       "20160617    0.000000\n",
       "20160618    0.000000\n",
       "20160620    0.200000\n",
       "20160621    0.000000\n",
       "20160622    0.000000\n",
       "20160623    0.000000\n",
       "20160624    0.000000\n",
       "20160625    0.000000\n",
       "20160627    0.000000\n",
       "20160629    0.000000\n",
       "Name: SIU_CUST_YN, dtype: float64"
      ]
     },
     "execution_count": 24,
     "metadata": {},
     "output_type": "execute_result"
    }
   ],
   "source": [
    "sion_version_6 = df[\"SIU_CUST_YN\"].groupby(df[\"RESN_DATE\"])\n",
    "sion_version_6.mean()"
   ]
  },
  {
   "cell_type": "code",
   "execution_count": 25,
   "metadata": {
    "collapsed": false
   },
   "outputs": [
    {
     "data": {
      "text/plain": [
       "CRNT_PROG_DVSN\n",
       "11    0.178949\n",
       "21    0.000000\n",
       "22    0.000000\n",
       "23    0.218517\n",
       "33    0.373716\n",
       "Name: SIU_CUST_YN, dtype: float64"
      ]
     },
     "execution_count": 25,
     "metadata": {},
     "output_type": "execute_result"
    }
   ],
   "source": [
    "sion_version_7 = df[\"SIU_CUST_YN\"].groupby(df[\"CRNT_PROG_DVSN\"])\n",
    "sion_version_7.mean()"
   ]
  },
  {
   "cell_type": "code",
   "execution_count": 26,
   "metadata": {
    "collapsed": true
   },
   "outputs": [],
   "source": [
    "df[\"CRNT_PROG_DVSN\"] = df[\"CRNT_PROG_DVSN\"].map(lambda x : 10 if x == 33 else x)   "
   ]
  },
  {
   "cell_type": "code",
   "execution_count": 27,
   "metadata": {
    "collapsed": true
   },
   "outputs": [],
   "source": [
    "df[\"CRNT_PROG_DVSN\"] = df[\"CRNT_PROG_DVSN\"].map(lambda x : 6 if x == 23 else x)   "
   ]
  },
  {
   "cell_type": "code",
   "execution_count": 28,
   "metadata": {
    "collapsed": true
   },
   "outputs": [],
   "source": [
    "df[\"CRNT_PROG_DVSN\"] = df[\"CRNT_PROG_DVSN\"].map(lambda x : 3 if x == 11 else x)   "
   ]
  },
  {
   "cell_type": "code",
   "execution_count": 29,
   "metadata": {
    "collapsed": true
   },
   "outputs": [],
   "source": [
    "df[\"CRNT_PROG_DVSN\"] = df[\"CRNT_PROG_DVSN\"].map(lambda x : 1 if x != 10 and x != 6 and x != 3 else x)   "
   ]
  },
  {
   "cell_type": "code",
   "execution_count": 30,
   "metadata": {
    "collapsed": false
   },
   "outputs": [],
   "source": [
    "df[\"CRNT_PROG_DVSN\"].fillna((df[\"CRNT_PROG_DVSN\"].mean()), inplace=True)"
   ]
  },
  {
   "cell_type": "code",
   "execution_count": 31,
   "metadata": {
    "collapsed": true
   },
   "outputs": [],
   "source": [
    "x_data_3 = df[\"CRNT_PROG_DVSN\"]"
   ]
  },
  {
   "cell_type": "code",
   "execution_count": 32,
   "metadata": {
    "collapsed": false
   },
   "outputs": [
    {
     "data": {
      "text/plain": [
       "array([[ 1.        ,  0.10382553],\n",
       "       [ 0.10382553,  1.        ]])"
      ]
     },
     "execution_count": 32,
     "metadata": {},
     "output_type": "execute_result"
    }
   ],
   "source": [
    "np.corrcoef(x_data_3,y_data)"
   ]
  },
  {
   "cell_type": "code",
   "execution_count": 33,
   "metadata": {
    "collapsed": false
   },
   "outputs": [
    {
     "data": {
      "text/plain": [
       "CAUS_CODE\n",
       "A02    0.250000\n",
       "A04    0.220779\n",
       "A05    0.517241\n",
       "A06    0.000000\n",
       "A07    0.000000\n",
       "A08    0.377049\n",
       "A09    0.303380\n",
       "A15    0.085106\n",
       "A16    0.018519\n",
       "A17    0.000000\n",
       "A18    0.031250\n",
       "A19    0.000000\n",
       "A31    0.000000\n",
       "A38    0.000000\n",
       "A41    0.166667\n",
       "A42    0.000000\n",
       "A49    0.142857\n",
       "A54    0.000000\n",
       "A56    0.000000\n",
       "A59    0.000000\n",
       "A60    0.000000\n",
       "A63    0.000000\n",
       "A75    0.000000\n",
       "A86    0.200000\n",
       "A87    0.027778\n",
       "A91    0.000000\n",
       "B00    0.133333\n",
       "B01    0.461538\n",
       "B02    0.214634\n",
       "B07    0.000000\n",
       "         ...   \n",
       "X30    0.500000\n",
       "X44    0.000000\n",
       "X47    1.000000\n",
       "X48    0.000000\n",
       "X49    0.000000\n",
       "X58    0.000000\n",
       "X67    0.000000\n",
       "X70    0.200000\n",
       "X71    0.750000\n",
       "X76    0.000000\n",
       "X78    0.000000\n",
       "X80    0.000000\n",
       "X83    0.000000\n",
       "X91    0.000000\n",
       "X92    0.000000\n",
       "X95    0.000000\n",
       "X99    0.000000\n",
       "Y00    0.000000\n",
       "Y04    0.000000\n",
       "Y14    0.000000\n",
       "Y21    0.000000\n",
       "Y27    1.000000\n",
       "Y28    0.000000\n",
       "Y29    0.000000\n",
       "Y30    0.190476\n",
       "Y45    0.000000\n",
       "Y83    0.400000\n",
       "Z01    0.000000\n",
       "Z03    0.000000\n",
       "Z11    0.000000\n",
       "Name: SIU_CUST_YN, dtype: float64"
      ]
     },
     "execution_count": 33,
     "metadata": {},
     "output_type": "execute_result"
    }
   ],
   "source": [
    "sion_version_8 = df[\"SIU_CUST_YN\"].groupby(df[\"CAUS_CODE\"])\n",
    "sion_version_8.mean()"
   ]
  },
  {
   "cell_type": "code",
   "execution_count": 34,
   "metadata": {
    "collapsed": false
   },
   "outputs": [
    {
     "data": {
      "text/plain": [
       "CAUS_CODE_DTAL\n",
       "#      0.216164\n",
       "0      0.239564\n",
       "00     0.118734\n",
       "01     0.236434\n",
       "02     0.228188\n",
       "021    1.000000\n",
       "03     0.000000\n",
       "04     0.576923\n",
       "05     0.000000\n",
       "06     0.183150\n",
       "07     0.219512\n",
       "08     0.000000\n",
       "09     0.066176\n",
       "1      0.233532\n",
       "10     0.134731\n",
       "100    0.058824\n",
       "108    0.166667\n",
       "11     0.114504\n",
       "110    0.303030\n",
       "118    0.454545\n",
       "12     0.357143\n",
       "13     0.285714\n",
       "138    0.000000\n",
       "14     0.111111\n",
       "15     0.523810\n",
       "150    1.000000\n",
       "158    0.666667\n",
       "16     0.404762\n",
       "17     0.239130\n",
       "173    0.000000\n",
       "         ...   \n",
       "79     0.000000\n",
       "8      0.246831\n",
       "80     0.184466\n",
       "81     0.107843\n",
       "82     0.126050\n",
       "83     0.000000\n",
       "84     0.090909\n",
       "85     0.192308\n",
       "86     0.262295\n",
       "87     0.680000\n",
       "88     0.257812\n",
       "889    0.000000\n",
       "89     0.090909\n",
       "9      0.228067\n",
       "90     0.057785\n",
       "900    1.000000\n",
       "91     0.286920\n",
       "910    0.000000\n",
       "92     0.105691\n",
       "93     0.095238\n",
       "930    0.000000\n",
       "94     0.239130\n",
       "95     0.187500\n",
       "96     0.371622\n",
       "969    0.000000\n",
       "97     0.663366\n",
       "970    0.000000\n",
       "98     0.153846\n",
       "980    1.000000\n",
       "99     0.114833\n",
       "Name: SIU_CUST_YN, dtype: float64"
      ]
     },
     "execution_count": 34,
     "metadata": {},
     "output_type": "execute_result"
    }
   ],
   "source": [
    "sion_version_9 = df[\"SIU_CUST_YN\"].groupby(df[\"CAUS_CODE_DTAL\"])\n",
    "sion_version_9.mean()"
   ]
  },
  {
   "cell_type": "code",
   "execution_count": 35,
   "metadata": {
    "collapsed": false
   },
   "outputs": [
    {
     "data": {
      "text/plain": [
       "DSAS_NAME\n",
       "# 11번치아치수침범이있는치관파절        0.0\n",
       "# 17 치관파절                 0.0\n",
       "#11 치관파절                  0.0\n",
       "#11 치수침범없는 치아파절           0.0\n",
       "#11 치수침범이있는치관파절           0.0\n",
       "#11 치아파절                  0.0\n",
       "#11.21 절단면 치아파절           0.0\n",
       "#11.21번 치관치근파절            0.0\n",
       "#11|#21 치관파절              0.0\n",
       "#11|#21 치아파절              0.0\n",
       "#11|12 법랑질만의파절            1.0\n",
       "#11|12 치관파절               0.0\n",
       "#11|12 치아파절               0.0\n",
       "#11|12치관파절                0.0\n",
       "#11|21 치관-치근파절            0.0\n",
       "#11|21 치수침범이없는 치관파절       0.0\n",
       "#11|21 치수침범이없는치관파절        0.0\n",
       "#11|21 치조골이식술             0.0\n",
       "#11|21-개방성치아의파절           0.0\n",
       "#11|21-치관파절               1.0\n",
       "#11|21|13|14 치조골 이식술      0.0\n",
       "#11|21|22 치아파절            0.0\n",
       "#11|21치관파절법랑질             0.0\n",
       "#11법랑질만의 파절               0.0\n",
       "#11법랑질파절                  0.0\n",
       "#11치수침범이없는치관파절            0.0\n",
       "#12 레진                    0.0\n",
       "#12 치아파절                  0.0\n",
       "#12 치조골이식                 0.0\n",
       "#12 치조골이식술                0.0\n",
       "                         ... \n",
       "흉통                        0.0\n",
       "흉통(갈비뼈의염증)                0.0\n",
       "흉통/두통/협심증의증               1.0\n",
       "흉통|갈비뼈및복장뼈의염좌및긴장          1.0\n",
       "흉통|고지질혈증                  1.0\n",
       "흉통|당뇨|고혈압                 1.0\n",
       "흉통|식도염동반위-식도역류병|기타급성위염    1.0\n",
       "흉통|심전도이상                  0.0\n",
       "흉통|알레르기비염                 0.0\n",
       "흉통|요통                     1.0\n",
       "흉통|위식도역류병|급성위염            0.0\n",
       "흉통|전립선장애|위장염및결장염|손발톱백선    1.0\n",
       "흑색변                       1.0\n",
       "흑색변|위장염 및 결장염             0.0\n",
       "흡수성판 삽입 동반한 관혈적정복술        1.0\n",
       "흡인성폐렴                     0.0\n",
       "흡인성폐렴|익사및비치명적물에빠짐|당뇨병     0.0\n",
       "흡인폐렴                      0.0\n",
       "흡인폐렴(추정)                  0.0\n",
       "흡인폐렴|기타및상세불명의약물|약제        0.0\n",
       "흡입성페렴                     0.0\n",
       "흡입소파술                     1.0\n",
       "희발월경                      0.0\n",
       "희소돌기 아교세포종                0.0\n",
       "희소돌기아교세포종                 0.0\n",
       "희소돌이아교세포종                 0.0\n",
       "히크만도관삽입술                  0.0\n",
       "힘줄봉합술                     0.0\n",
       "힘줄의자연파열|아래팔|외측상과염         0.0\n",
       "힘줄재연결수술                   0.0\n",
       "Name: SIU_CUST_YN, dtype: float64"
      ]
     },
     "execution_count": 35,
     "metadata": {},
     "output_type": "execute_result"
    }
   ],
   "source": [
    "sion_version_10 = df[\"SIU_CUST_YN\"].groupby(df[\"DSAS_NAME\"])\n",
    "sion_version_10.mean()"
   ]
  },
  {
   "cell_type": "code",
   "execution_count": 36,
   "metadata": {
    "collapsed": false
   },
   "outputs": [
    {
     "data": {
      "text/plain": [
       "DMND_RESN_CODE\n",
       "1    0.065574\n",
       "2    0.332205\n",
       "3    0.080641\n",
       "4    0.333729\n",
       "5    0.129745\n",
       "6    0.098380\n",
       "7    0.025974\n",
       "9    0.000000\n",
       "Name: SIU_CUST_YN, dtype: float64"
      ]
     },
     "execution_count": 36,
     "metadata": {},
     "output_type": "execute_result"
    }
   ],
   "source": [
    "sion_version_11 = df[\"SIU_CUST_YN\"].groupby(df[\"DMND_RESN_CODE\"])\n",
    "sion_version_11.mean()"
   ]
  },
  {
   "cell_type": "code",
   "execution_count": 37,
   "metadata": {
    "collapsed": true
   },
   "outputs": [],
   "source": [
    "df[\"DMND_RESN_CODE\"] = df[\"DMND_RESN_CODE\"].map(lambda x : 100 if x == 2 or x == 4 else x)   "
   ]
  },
  {
   "cell_type": "code",
   "execution_count": 38,
   "metadata": {
    "collapsed": true
   },
   "outputs": [],
   "source": [
    "df[\"DMND_RESN_CODE\"] = df[\"DMND_RESN_CODE\"].map(lambda x : 40 if x == 5 else x)   "
   ]
  },
  {
   "cell_type": "code",
   "execution_count": 39,
   "metadata": {
    "collapsed": true
   },
   "outputs": [],
   "source": [
    "df[\"DMND_RESN_CODE\"] = df[\"DMND_RESN_CODE\"].map(lambda x : 10 if x == 1 or x == 3 or x == 6 else x)   "
   ]
  },
  {
   "cell_type": "code",
   "execution_count": 40,
   "metadata": {
    "collapsed": true
   },
   "outputs": [],
   "source": [
    "df[\"DMND_RESN_CODE\"] = df[\"DMND_RESN_CODE\"].map(lambda x : 5 if x == 7 else x)   "
   ]
  },
  {
   "cell_type": "code",
   "execution_count": 41,
   "metadata": {
    "collapsed": true
   },
   "outputs": [],
   "source": [
    "df[\"DMND_RESN_CODE\"] = df[\"DMND_RESN_CODE\"].map(lambda x : 1 if x == 9 else x)   "
   ]
  },
  {
   "cell_type": "code",
   "execution_count": 42,
   "metadata": {
    "collapsed": true
   },
   "outputs": [],
   "source": [
    "df[\"DMND_RESN_CODE\"].fillna((df[\"DMND_RESN_CODE\"].mean()), inplace=True)"
   ]
  },
  {
   "cell_type": "code",
   "execution_count": 43,
   "metadata": {
    "collapsed": true
   },
   "outputs": [],
   "source": [
    "x_data_4 = df[\"DMND_RESN_CODE\"]"
   ]
  },
  {
   "cell_type": "code",
   "execution_count": 44,
   "metadata": {
    "collapsed": false
   },
   "outputs": [
    {
     "data": {
      "text/plain": [
       "array([[ 1.        ,  0.27636991],\n",
       "       [ 0.27636991,  1.        ]])"
      ]
     },
     "execution_count": 44,
     "metadata": {},
     "output_type": "execute_result"
    }
   ],
   "source": [
    "np.corrcoef(x_data_4,y_data)"
   ]
  },
  {
   "cell_type": "code",
   "execution_count": 45,
   "metadata": {
    "collapsed": false
   },
   "outputs": [
    {
     "data": {
      "text/plain": [
       "HOSP_OTPA_STDT\n",
       "20060101.0    0.333333\n",
       "20060102.0    0.625000\n",
       "20060103.0    0.600000\n",
       "20060104.0    0.333333\n",
       "20060105.0    0.200000\n",
       "20060106.0    0.500000\n",
       "20060107.0    0.181818\n",
       "20060108.0    0.000000\n",
       "20060109.0    0.277778\n",
       "20060110.0    0.428571\n",
       "20060111.0    0.666667\n",
       "20060112.0    0.500000\n",
       "20060113.0    0.100000\n",
       "20060114.0    0.666667\n",
       "20060115.0    0.333333\n",
       "20060116.0    0.142857\n",
       "20060117.0    0.555556\n",
       "20060118.0    0.000000\n",
       "20060119.0    0.400000\n",
       "20060120.0    0.000000\n",
       "20060121.0    0.666667\n",
       "20060122.0    0.000000\n",
       "20060123.0    0.600000\n",
       "20060124.0    0.200000\n",
       "20060125.0    0.400000\n",
       "20060126.0    0.000000\n",
       "20060127.0    0.250000\n",
       "20060128.0    0.000000\n",
       "20060129.0    0.000000\n",
       "20060130.0    0.000000\n",
       "                ...   \n",
       "20160526.0    0.000000\n",
       "20160527.0    0.045455\n",
       "20160528.0    0.000000\n",
       "20160529.0    0.000000\n",
       "20160530.0    0.120000\n",
       "20160531.0    0.153846\n",
       "20160601.0    0.083333\n",
       "20160602.0    0.000000\n",
       "20160603.0    0.050000\n",
       "20160604.0    0.100000\n",
       "20160605.0    0.000000\n",
       "20160606.0    0.000000\n",
       "20160607.0    0.055556\n",
       "20160608.0    0.000000\n",
       "20160609.0    0.066667\n",
       "20160610.0    0.000000\n",
       "20160611.0    0.100000\n",
       "20160612.0    0.000000\n",
       "20160613.0    0.000000\n",
       "20160614.0    0.071429\n",
       "20160615.0    0.181818\n",
       "20160616.0    0.000000\n",
       "20160617.0    0.000000\n",
       "20160618.0    0.000000\n",
       "20160620.0    0.200000\n",
       "20160621.0    0.000000\n",
       "20160622.0    0.000000\n",
       "20160624.0    0.000000\n",
       "20160625.0    0.000000\n",
       "20160629.0    0.000000\n",
       "Name: SIU_CUST_YN, dtype: float64"
      ]
     },
     "execution_count": 45,
     "metadata": {},
     "output_type": "execute_result"
    }
   ],
   "source": [
    "sion_version_12 = df[\"SIU_CUST_YN\"].groupby(df[\"HOSP_OTPA_STDT\"])\n",
    "sion_version_12.mean()"
   ]
  },
  {
   "cell_type": "code",
   "execution_count": 46,
   "metadata": {
    "collapsed": false
   },
   "outputs": [
    {
     "data": {
      "text/plain": [
       "HOSP_OTPA_ENDT\n",
       "20060105.0    0.800000\n",
       "20060106.0    0.250000\n",
       "20060107.0    0.000000\n",
       "20060109.0    0.000000\n",
       "20060110.0    0.000000\n",
       "20060111.0    0.000000\n",
       "20060112.0    0.400000\n",
       "20060113.0    0.250000\n",
       "20060114.0    0.285714\n",
       "20060116.0    0.222222\n",
       "20060117.0    0.000000\n",
       "20060118.0    0.333333\n",
       "20060119.0    0.500000\n",
       "20060120.0    0.000000\n",
       "20060121.0    0.333333\n",
       "20060122.0    1.000000\n",
       "20060123.0    0.181818\n",
       "20060124.0    0.000000\n",
       "20060125.0    1.000000\n",
       "20060126.0    0.500000\n",
       "20060127.0    0.400000\n",
       "20060128.0    1.000000\n",
       "20060129.0    0.000000\n",
       "20060131.0    0.750000\n",
       "20060201.0    0.428571\n",
       "20060202.0    0.500000\n",
       "20060203.0    0.000000\n",
       "20060204.0    0.666667\n",
       "20060205.0    0.000000\n",
       "20060206.0    0.500000\n",
       "                ...   \n",
       "20160531.0    0.173913\n",
       "20160601.0    0.000000\n",
       "20160602.0    0.125000\n",
       "20160603.0    0.000000\n",
       "20160604.0    0.043478\n",
       "20160605.0    0.000000\n",
       "20160606.0    0.285714\n",
       "20160607.0    0.173913\n",
       "20160608.0    0.115385\n",
       "20160609.0    0.066667\n",
       "20160610.0    0.000000\n",
       "20160611.0    0.100000\n",
       "20160612.0    0.000000\n",
       "20160613.0    0.125000\n",
       "20160614.0    0.000000\n",
       "20160615.0    0.076923\n",
       "20160616.0    0.250000\n",
       "20160617.0    0.058824\n",
       "20160618.0    0.153846\n",
       "20160619.0    0.000000\n",
       "20160620.0    0.153846\n",
       "20160621.0    0.000000\n",
       "20160622.0    0.000000\n",
       "20160623.0    0.000000\n",
       "20160624.0    0.000000\n",
       "20160625.0    0.000000\n",
       "20160627.0    0.000000\n",
       "20160628.0    0.000000\n",
       "20160629.0    0.500000\n",
       "20160630.0    0.000000\n",
       "Name: SIU_CUST_YN, dtype: float64"
      ]
     },
     "execution_count": 46,
     "metadata": {},
     "output_type": "execute_result"
    }
   ],
   "source": [
    "sion_version_13 = df[\"SIU_CUST_YN\"].groupby(df[\"HOSP_OTPA_ENDT\"])\n",
    "sion_version_13.mean()"
   ]
  },
  {
   "cell_type": "code",
   "execution_count": 47,
   "metadata": {
    "collapsed": false
   },
   "outputs": [
    {
     "data": {
      "text/plain": [
       "RESL_CD1\n",
       "A02    0.250000\n",
       "A04    0.220779\n",
       "A05    0.517241\n",
       "A06    0.000000\n",
       "A07    0.000000\n",
       "A08    0.377049\n",
       "A09    0.303380\n",
       "A15    0.085106\n",
       "A16    0.018519\n",
       "A17    0.000000\n",
       "A18    0.031250\n",
       "A19    0.000000\n",
       "A31    0.000000\n",
       "A38    0.000000\n",
       "A41    0.166667\n",
       "A42    0.000000\n",
       "A49    0.142857\n",
       "A54    0.000000\n",
       "A56    0.000000\n",
       "A59    0.000000\n",
       "A60    0.000000\n",
       "A63    0.000000\n",
       "A75    0.000000\n",
       "A86    0.200000\n",
       "A87    0.027778\n",
       "A91    0.000000\n",
       "B00    0.133333\n",
       "B01    0.461538\n",
       "B02    0.214634\n",
       "B07    0.000000\n",
       "         ...   \n",
       "T58    1.000000\n",
       "T60    0.000000\n",
       "T61    0.000000\n",
       "T62    0.000000\n",
       "T63    0.000000\n",
       "T65    0.000000\n",
       "T67    0.000000\n",
       "T69    0.000000\n",
       "T71    0.000000\n",
       "T75    0.000000\n",
       "T78    0.083333\n",
       "T79    0.000000\n",
       "T81    0.000000\n",
       "T84    0.000000\n",
       "T88    0.000000\n",
       "T90    0.000000\n",
       "T93    0.000000\n",
       "T96    0.000000\n",
       "T98    0.000000\n",
       "V43    0.000000\n",
       "X67    0.000000\n",
       "X70    0.200000\n",
       "X71    0.750000\n",
       "X76    0.000000\n",
       "X78    0.000000\n",
       "X80    0.000000\n",
       "X83    0.000000\n",
       "Z01    0.000000\n",
       "Z03    0.000000\n",
       "Z11    0.000000\n",
       "Name: SIU_CUST_YN, dtype: float64"
      ]
     },
     "execution_count": 47,
     "metadata": {},
     "output_type": "execute_result"
    }
   ],
   "source": [
    "sion_version_14 = df[\"SIU_CUST_YN\"].groupby(df[\"RESL_CD1\"])\n",
    "sion_version_14.mean()"
   ]
  },
  {
   "cell_type": "code",
   "execution_count": 48,
   "metadata": {
    "collapsed": false
   },
   "outputs": [
    {
     "data": {
      "text/plain": [
       "RESL_NM1\n",
       "T/NK-세포 림프종의 기타 명시된 형태           0.000000\n",
       "가려움                              0.000000\n",
       "가로막(횡격막)헤르니아                     0.666667\n",
       "가슴(흉곽) 얕은(표재성)손상                 0.391304\n",
       "가슴(흉곽)부위에서의 신경 및 척수의 손상          0.000000\n",
       "가슴(흉곽)의 관절 및 인대의 탈구|염좌 및 긴장      0.335404\n",
       "가슴(흉곽)의 기타 및 상세불명의 손상            0.333333\n",
       "가슴(흉곽)의 열린(개방성)상처                0.000000\n",
       "가운데귀(중이) 및 꼭지돌기(유양돌기)의 기타장애      0.500000\n",
       "가운데귀(중이)의 진주종                    0.150000\n",
       "가진통                              0.000000\n",
       "각막 흉터 및 혼탁                       0.000000\n",
       "각막염                              0.071429\n",
       "각막의 기타장애                         0.000000\n",
       "간및간내 담관의 악성신생물(암)                0.045852\n",
       "간의 기타질환(지방간)                     0.522727\n",
       "간의 섬유증 및 경화증                     0.508772\n",
       "간질                               0.073171\n",
       "간질 지속상태                          0.000000\n",
       "감염성 단핵구증                         1.000000\n",
       "감염성 및 기생충성질환에 대한 특수선별검사          0.000000\n",
       "감염성 및 상세불명 기원의 기타위장염 및 결장염       0.303380\n",
       "갑상선독증[갑상선기능항진증]                  0.092308\n",
       "갑상선염                             0.073171\n",
       "갑상선의 기타 장애                       0.104167\n",
       "갑상선의 악성신생물(암)                    0.077447\n",
       "갑상선의 양성신생물                       0.047244\n",
       "강직성척추염                           0.000000\n",
       "건선                               0.733333\n",
       "건선성 및 장병성 관절병증                   0.333333\n",
       "                                   ...   \n",
       "해산물 속의 유해물질의 독작용                 0.000000\n",
       "허리뼈(요추) 및 골반의 골절                 0.176526\n",
       "허리뼈(요추)및골반의 관절 및 인대의탈구|염좌및긴장     0.495375\n",
       "헌팅톤병                             1.000000\n",
       "헤르페스바이러스[단순헤르페스] 감염              0.133333\n",
       "혀| 입 및 인두의 기타 선천 기형              0.000000\n",
       "혀의 기타 및 상세불명 부분의 악성신생물(암)        0.000000\n",
       "혀의 질환                            0.000000\n",
       "혈관성 치매                           0.000000\n",
       "혈관운동성 및 알레르기성비염                  0.032258\n",
       "혈당치 상승                           0.000000\n",
       "혈액 및 조혈기관의 기타 질환                 0.000000\n",
       "혈액화학의 기타이상소견                     0.000000\n",
       "혈청검사 양성 류마티스관절염                  0.271429\n",
       "협심증                              0.471086\n",
       "혓바닥의 악성신생물(암)                    0.000000\n",
       "호지킨림프종(세분류 참조| 암)                0.777778\n",
       "호흡 및 소화기관의 이차성 악성 신생물(암)         0.000000\n",
       "호흡의이상                            0.000000\n",
       "홍반루푸스                            0.000000\n",
       "홍채 및 섬모체의 기타 장애                  0.000000\n",
       "홍채섬모체염                           0.000000\n",
       "화농성 관절염                          0.012048\n",
       "화농성 및 상세불명의 중이염                  0.131206\n",
       "확인된계절성인플루엔자바이러스에의한인플루엔자          0.038462\n",
       "확인된동물매개또는범유행인플루엔자바이러스에의한인플루엔자    0.166667\n",
       "후두의 악성신생물(암)                     0.000000\n",
       "후복막 및 복막 연조직의 양성신생물              0.000000\n",
       "흉선의 악성신생물(암)                     0.000000\n",
       "흉선의 질환                           0.666667\n",
       "Name: SIU_CUST_YN, dtype: float64"
      ]
     },
     "execution_count": 48,
     "metadata": {},
     "output_type": "execute_result"
    }
   ],
   "source": [
    "sion_version_15 = df[\"SIU_CUST_YN\"].groupby(df[\"RESL_NM1\"])\n",
    "sion_version_15.mean()"
   ]
  },
  {
   "cell_type": "code",
   "execution_count": 49,
   "metadata": {
    "collapsed": false
   },
   "outputs": [
    {
     "data": {
      "text/plain": [
       "ACCI_HOSP_ADDR\n",
       "강원    0.301153\n",
       "경기    0.152801\n",
       "경남    0.211361\n",
       "경북    0.084682\n",
       "광주    0.378514\n",
       "대구    0.170135\n",
       "대전    0.203577\n",
       "부산    0.289071\n",
       "서울    0.173838\n",
       "세종    0.024390\n",
       "울산    0.087677\n",
       "인천    0.260595\n",
       "전남    0.263982\n",
       "전북    0.377941\n",
       "제주    0.025478\n",
       "충남    0.114426\n",
       "충북    0.067681\n",
       "Name: SIU_CUST_YN, dtype: float64"
      ]
     },
     "execution_count": 49,
     "metadata": {},
     "output_type": "execute_result"
    }
   ],
   "source": [
    "sion_version_16 = df[\"SIU_CUST_YN\"].groupby(df[\"ACCI_HOSP_ADDR\"])\n",
    "sion_version_16.mean()"
   ]
  },
  {
   "cell_type": "code",
   "execution_count": 66,
   "metadata": {
    "collapsed": false
   },
   "outputs": [
    {
     "data": {
      "text/plain": [
       "VLID_HOSP_OTDA\n",
       "0      0.123752\n",
       "1      0.057765\n",
       "2      0.069263\n",
       "3      0.082794\n",
       "4      0.093307\n",
       "5      0.111155\n",
       "6      0.120605\n",
       "7      0.150772\n",
       "8      0.194220\n",
       "9      0.211426\n",
       "10     0.258523\n",
       "11     0.266766\n",
       "12     0.308575\n",
       "13     0.395680\n",
       "14     0.556329\n",
       "15     0.515931\n",
       "16     0.443024\n",
       "17     0.465986\n",
       "18     0.487681\n",
       "19     0.453802\n",
       "20     0.539906\n",
       "21     0.600100\n",
       "22     0.582451\n",
       "23     0.493936\n",
       "24     0.470073\n",
       "25     0.524169\n",
       "26     0.494774\n",
       "27     0.479212\n",
       "28     0.529851\n",
       "29     0.523109\n",
       "         ...   \n",
       "163    0.000000\n",
       "165    1.000000\n",
       "166    0.000000\n",
       "168    0.000000\n",
       "169    1.000000\n",
       "170    0.000000\n",
       "171    0.000000\n",
       "172    1.000000\n",
       "173    0.000000\n",
       "174    0.000000\n",
       "175    0.000000\n",
       "177    1.000000\n",
       "182    0.000000\n",
       "183    0.000000\n",
       "186    1.000000\n",
       "190    0.000000\n",
       "195    0.000000\n",
       "205    0.000000\n",
       "208    0.000000\n",
       "212    1.000000\n",
       "216    1.000000\n",
       "228    0.000000\n",
       "235    0.000000\n",
       "237    0.000000\n",
       "267    0.000000\n",
       "274    1.000000\n",
       "307    0.000000\n",
       "308    0.000000\n",
       "373    0.000000\n",
       "578    0.000000\n",
       "Name: SIU_CUST_YN, dtype: float64"
      ]
     },
     "execution_count": 66,
     "metadata": {},
     "output_type": "execute_result"
    }
   ],
   "source": [
    "sion_version_16 = df[\"SIU_CUST_YN\"].groupby(df[\"VLID_HOSP_OTDA\"])\n",
    "sion_version_16.mean()"
   ]
  },
  {
   "cell_type": "code",
   "execution_count": 59,
   "metadata": {
    "collapsed": true
   },
   "outputs": [],
   "source": [
    "df[\"DMND_RESN_CODE\"] = df[\"DMND_RESN_CODE\"].map(lambda x : 100 if x ==10 else x)   \n"
   ]
  },
  {
   "cell_type": "code",
   "execution_count": 60,
   "metadata": {
    "collapsed": true
   },
   "outputs": [],
   "source": [
    "df[\"DMND_RESN_CODE\"] = df[\"DMND_RESN_CODE\"].map(lambda x : 60 if x ==6 or x ==6 else x)   \n"
   ]
  },
  {
   "cell_type": "code",
   "execution_count": 61,
   "metadata": {
    "collapsed": true
   },
   "outputs": [],
   "source": [
    "df[\"DMND_RESN_CODE\"] = df[\"DMND_RESN_CODE\"].map(lambda x :0 if x !=100 or x ==60 else x)   \n"
   ]
  },
  {
   "cell_type": "code",
   "execution_count": 62,
   "metadata": {
    "collapsed": true
   },
   "outputs": [],
   "source": [
    "df[\"DMND_RESN_CODE\"].fillna((df[\"DMND_RESN_CODE\"].mean()), inplace=True)\n"
   ]
  },
  {
   "cell_type": "code",
   "execution_count": 63,
   "metadata": {
    "collapsed": true
   },
   "outputs": [],
   "source": [
    "x_data_4 = df[\"DMND_RESN_CODE\"]\n"
   ]
  },
  {
   "cell_type": "code",
   "execution_count": 64,
   "metadata": {
    "collapsed": false
   },
   "outputs": [
    {
     "data": {
      "text/plain": [
       "array([[ 1.       ,  0.1072323],\n",
       "       [ 0.1072323,  1.       ]])"
      ]
     },
     "execution_count": 64,
     "metadata": {},
     "output_type": "execute_result"
    }
   ],
   "source": [
    "np.corrcoef(x_data_4,y_data)\n"
   ]
  },
  {
   "cell_type": "code",
   "execution_count": 54,
   "metadata": {
    "collapsed": false
   },
   "outputs": [
    {
     "data": {
      "text/plain": [
       "HOSP_SPEC_DVSN\n",
       "10.0    0.118064\n",
       "20.0    0.236214\n",
       "25.0    0.504649\n",
       "30.0    0.237446\n",
       "40.0    0.062257\n",
       "45.0    0.117574\n",
       "60.0    0.148936\n",
       "70.0    0.118644\n",
       "80.0    0.623477\n",
       "85.0    0.442308\n",
       "90.0    0.109375\n",
       "95.0    0.381582\n",
       "Name: SIU_CUST_YN, dtype: float64"
      ]
     },
     "execution_count": 54,
     "metadata": {},
     "output_type": "execute_result"
    }
   ],
   "source": [
    "sion_version_17 = df[\"SIU_CUST_YN\"].groupby(df[\"HOSP_SPEC_DVSN\"])\n",
    "sion_version_17.mean()"
   ]
  },
  {
   "cell_type": "code",
   "execution_count": 55,
   "metadata": {
    "collapsed": false
   },
   "outputs": [
    {
     "data": {
      "text/plain": [
       "CHME_LICE_NO\n",
       "6           0.000000\n",
       "7           0.000000\n",
       "8           1.000000\n",
       "9           0.000000\n",
       "10          0.000000\n",
       "11          0.000000\n",
       "12          0.000000\n",
       "13          0.000000\n",
       "14          0.000000\n",
       "15          0.000000\n",
       "16          0.000000\n",
       "17          0.375000\n",
       "18          0.000000\n",
       "19          0.000000\n",
       "20          0.000000\n",
       "21          0.000000\n",
       "23          0.000000\n",
       "24          0.000000\n",
       "25          0.000000\n",
       "27          1.000000\n",
       "28          0.000000\n",
       "29          0.000000\n",
       "30          0.000000\n",
       "31          1.000000\n",
       "32          0.000000\n",
       "33          0.000000\n",
       "34          0.000000\n",
       "35          0.000000\n",
       "36          0.000000\n",
       "37          0.000000\n",
       "              ...   \n",
       "25674       0.000000\n",
       "25675       0.000000\n",
       "25676       0.000000\n",
       "25677       0.000000\n",
       "25679       0.000000\n",
       "25680       0.000000\n",
       "25681       0.000000\n",
       "25682       0.000000\n",
       "25683       0.000000\n",
       "25684       1.000000\n",
       "25685       0.000000\n",
       "25686       0.000000\n",
       "25688       1.000000\n",
       "25689       1.000000\n",
       "25690       1.000000\n",
       "25692       0.000000\n",
       "25693       0.000000\n",
       "25695       0.000000\n",
       "25696       0.000000\n",
       "25697       0.076183\n",
       "25698       0.000000\n",
       "25699       0.000000\n",
       "25700       0.109482\n",
       "25701       0.089552\n",
       "25702       0.046512\n",
       "25703       0.200000\n",
       "25704       0.000000\n",
       "25705       0.000000\n",
       "25706       0.000000\n",
       "99999999    0.083715\n",
       "Name: SIU_CUST_YN, dtype: float64"
      ]
     },
     "execution_count": 55,
     "metadata": {},
     "output_type": "execute_result"
    }
   ],
   "source": [
    "sion_version_18 = df[\"SIU_CUST_YN\"].groupby(df[\"CHME_LICE_NO\"])\n",
    "sion_version_18.mean()"
   ]
  },
  {
   "cell_type": "code",
   "execution_count": 56,
   "metadata": {
    "collapsed": false
   },
   "outputs": [
    {
     "data": {
      "text/plain": [
       "PAYM_DATE\n",
       "20060106.0    0.000000\n",
       "20060109.0    0.000000\n",
       "20060110.0    0.666667\n",
       "20060111.0    0.000000\n",
       "20060112.0    0.000000\n",
       "20060113.0    0.000000\n",
       "20060116.0    0.000000\n",
       "20060117.0    0.600000\n",
       "20060118.0    0.285714\n",
       "20060119.0    0.250000\n",
       "20060120.0    0.200000\n",
       "20060123.0    0.400000\n",
       "20060124.0    0.100000\n",
       "20060125.0    0.666667\n",
       "20060126.0    0.666667\n",
       "20060127.0    0.500000\n",
       "20060131.0    0.000000\n",
       "20060201.0    0.600000\n",
       "20060202.0    0.500000\n",
       "20060203.0    0.800000\n",
       "20060206.0    0.000000\n",
       "20060207.0    0.250000\n",
       "20060208.0    0.000000\n",
       "20060209.0    0.454545\n",
       "20060210.0    0.000000\n",
       "20060213.0    0.000000\n",
       "20060214.0    0.000000\n",
       "20060215.0    0.300000\n",
       "20060216.0    0.000000\n",
       "20060217.0    0.333333\n",
       "                ...   \n",
       "20160520.0    0.101449\n",
       "20160523.0    0.068966\n",
       "20160524.0    0.080460\n",
       "20160525.0    0.034483\n",
       "20160526.0    0.020408\n",
       "20160527.0    0.076923\n",
       "20160530.0    0.062500\n",
       "20160531.0    0.236842\n",
       "20160601.0    0.037037\n",
       "20160602.0    0.095238\n",
       "20160603.0    0.051948\n",
       "20160607.0    0.177778\n",
       "20160608.0    0.105263\n",
       "20160609.0    0.054054\n",
       "20160610.0    0.200000\n",
       "20160613.0    0.068966\n",
       "20160614.0    0.092308\n",
       "20160615.0    0.046512\n",
       "20160616.0    0.100000\n",
       "20160617.0    0.022727\n",
       "20160620.0    0.109091\n",
       "20160621.0    0.015625\n",
       "20160622.0    0.047619\n",
       "20160623.0    0.035088\n",
       "20160624.0    0.000000\n",
       "20160627.0    0.000000\n",
       "20160628.0    0.060000\n",
       "20160629.0    0.000000\n",
       "20160630.0    0.100000\n",
       "20160701.0    0.102564\n",
       "Name: SIU_CUST_YN, dtype: float64"
      ]
     },
     "execution_count": 56,
     "metadata": {},
     "output_type": "execute_result"
    }
   ],
   "source": [
    "sion_version_19 = df[\"SIU_CUST_YN\"].groupby(df[\"PAYM_DATE\"])\n",
    "sion_version_19.mean()"
   ]
  },
  {
   "cell_type": "code",
   "execution_count": 57,
   "metadata": {
    "collapsed": false
   },
   "outputs": [
    {
     "data": {
      "text/plain": [
       "PMMI_DLNG_YN\n",
       "N    0.256323\n",
       "Y    0.052979\n",
       "Name: SIU_CUST_YN, dtype: float64"
      ]
     },
     "execution_count": 57,
     "metadata": {},
     "output_type": "execute_result"
    }
   ],
   "source": [
    "sion_version_20 = df[\"SIU_CUST_YN\"].groupby(df[\"PMMI_DLNG_YN\"])\n",
    "sion_version_20.mean()"
   ]
  },
  {
   "cell_type": "code",
   "execution_count": null,
   "metadata": {
    "collapsed": true
   },
   "outputs": [],
   "source": [
    "sion_version_20 = df[\"SIU_CUST_YN\"].groupby(df[\"PMMI_DLNG_YN\"])\n",
    "sion_version_20.mean()"
   ]
  },
  {
   "cell_type": "code",
   "execution_count": null,
   "metadata": {
    "collapsed": true
   },
   "outputs": [],
   "source": []
  },
  {
   "cell_type": "code",
   "execution_count": null,
   "metadata": {
    "collapsed": true
   },
   "outputs": [],
   "source": []
  },
  {
   "cell_type": "code",
   "execution_count": null,
   "metadata": {
    "collapsed": true
   },
   "outputs": [],
   "source": []
  },
  {
   "cell_type": "code",
   "execution_count": null,
   "metadata": {
    "collapsed": true
   },
   "outputs": [],
   "source": []
  }
 ],
 "metadata": {
  "anaconda-cloud": {},
  "kernelspec": {
   "display_name": "Python [conda env:ml_python]",
   "language": "python",
   "name": "conda-env-ml_python-py"
  },
  "language_info": {
   "codemirror_mode": {
    "name": "ipython",
    "version": 3
   },
   "file_extension": ".py",
   "mimetype": "text/x-python",
   "name": "python",
   "nbconvert_exporter": "python",
   "pygments_lexer": "ipython3",
   "version": "3.5.2"
  }
 },
 "nbformat": 4,
 "nbformat_minor": 1
}
