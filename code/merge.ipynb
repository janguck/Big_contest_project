{
 "cells": [
  {
   "cell_type": "code",
   "execution_count": 1,
   "metadata": {
    "collapsed": true
   },
   "outputs": [],
   "source": [
    "import matplotlib as plt\n",
    "import pandas as pd\n",
    "import numpy as np\n",
    "from math import sqrt\n",
    "from statistics import mean\n",
    "from numpy import array\n",
    "import numpy as np"
   ]
  },
  {
   "cell_type": "code",
   "execution_count": 2,
   "metadata": {
    "collapsed": false
   },
   "outputs": [],
   "source": [
    "df_jaeho = pd.read_csv('../data_utf_8/BGCON_CUST_DATA_utf_8.txt')\n",
    "df_sion = pd.read_csv('../data_utf_8/plus_y_data_CLAIM_DATA_utf_8', index_col=0)\n",
    "df_sungchul = pd.read_csv('../data_utf_8/BGCON_CNTT_DATA_utf_8.txt')"
   ]
  },
  {
   "cell_type": "code",
   "execution_count": 3,
   "metadata": {
    "collapsed": false
   },
   "outputs": [
    {
     "data": {
      "text/plain": [
       "Index(['CUST_ID', 'DIVIDED_SET', 'SIU_CUST_YN', 'SEX', 'AGE', 'RESI_COST',\n",
       "       'RESI_TYPE_CODE', 'FP_CAREER', 'CUST_RGST', 'CTPR', 'OCCP_GRP_1',\n",
       "       'OCCP_GRP_2', 'TOTALPREM', 'MINCRDT', 'MAXCRDT', 'WEDD_YN',\n",
       "       'MATE_OCCP_GRP_1', 'MATE_OCCP_GRP_2', 'CHLD_CNT', 'LTBN_CHLD_AGE',\n",
       "       'MAX_PAYM_YM', 'MAX_PRM', 'CUST_INCM', 'RCBASE_HSHD_INCM',\n",
       "       'JPBASE_HSHD_INCM'],\n",
       "      dtype='object')"
      ]
     },
     "execution_count": 3,
     "metadata": {},
     "output_type": "execute_result"
    }
   ],
   "source": [
    "df_jaeho.columns"
   ]
  },
  {
   "cell_type": "code",
   "execution_count": 4,
   "metadata": {
    "collapsed": false
   },
   "outputs": [
    {
     "data": {
      "text/plain": [
       "Index(['SIU_CUST_YN', 'CUST_ID', 'POLY_NO', 'ACCI_OCCP_GRP1', 'ACCI_OCCP_GRP2',\n",
       "       'CHANG_FP_YN', 'CNTT_RECP_SQNO', 'RECP_DATE', 'ORIG_RESN_DATE',\n",
       "       'RESN_DATE', 'CRNT_PROG_DVSN', 'ACCI_DVSN', 'CAUS_CODE',\n",
       "       'CAUS_CODE_DTAL', 'DSAS_NAME', 'DMND_RESN_CODE', 'DMND_RSCD_SQNO',\n",
       "       'HOSP_OTPA_STDT', 'HOSP_OTPA_ENDT', 'RESL_CD1', 'RESL_NM1',\n",
       "       'VLID_HOSP_OTDA', 'HOUSE_HOSP_DIST', 'HOSP_CODE', 'ACCI_HOSP_ADDR',\n",
       "       'HOSP_SPEC_DVSN', 'CHME_LICE_NO', 'PAYM_DATE', 'DMND_AMT', 'PAYM_AMT',\n",
       "       'PMMI_DLNG_YN', 'SELF_CHAM', 'NON_PAY', 'TAMT_SFCA', 'PATT_CHRG_TOTA',\n",
       "       'DSCT_AMT', 'COUNT_TRMT_ITEM', 'DCAF_CMPS_XCPA', 'NON_PAY_RATIO',\n",
       "       'HEED_HOSP_YN'],\n",
       "      dtype='object')"
      ]
     },
     "execution_count": 4,
     "metadata": {},
     "output_type": "execute_result"
    }
   ],
   "source": [
    "df_sion.columns"
   ]
  },
  {
   "cell_type": "code",
   "execution_count": 5,
   "metadata": {
    "collapsed": false
   },
   "outputs": [
    {
     "data": {
      "text/plain": [
       "Index(['POLY_NO', 'CUST_ID', 'CUST_ROLE', 'IRKD_CODE_DTAL', 'IRKD_CODE_ITEM',\n",
       "       'GOOD_CLSF_CDNM', 'CNTT_YM', 'CLLT_FP_PRNO', 'REAL_PAYM_TERM',\n",
       "       'SALE_CHNL_CODE', 'CNTT_STAT_CODE', 'EXPR_YM', 'EXTN_YM', 'LAPS_YM',\n",
       "       'PAYM_CYCL_CODE', 'MAIN_INSR_AMT', 'SUM_ORIG_PREM', 'RECP_PUBL',\n",
       "       'CNTT_RECP', 'MNTH_INCM_AMT', 'DISTANCE'],\n",
       "      dtype='object')"
      ]
     },
     "execution_count": 5,
     "metadata": {},
     "output_type": "execute_result"
    }
   ],
   "source": [
    "df_sungchul.columns"
   ]
  },
  {
   "cell_type": "code",
   "execution_count": 6,
   "metadata": {
    "collapsed": false
   },
   "outputs": [],
   "source": [
    "df_sion.drop(\"POLY_NO\", axis=1, inplace=True)\n",
    "df_sion.drop(\"ACCI_OCCP_GRP2\", axis=1, inplace=True)\n",
    "df_sion.drop(\"CHANG_FP_YN\", axis=1, inplace=True)\n",
    "df_sion.drop(\"CNTT_RECP_SQNO\", axis=1, inplace=True)\n",
    "df_sion.drop(\"RECP_DATE\", axis=1, inplace=True)\n",
    "df_sion.drop(\"ORIG_RESN_DATE\", axis=1, inplace=True)\n",
    "df_sion.drop(\"RESN_DATE\", axis=1, inplace=True)\n",
    "df_sion.drop(\"ACCI_DVSN\", axis=1, inplace=True)\n",
    "df_sion.drop(\"CAUS_CODE\", axis=1, inplace=True)\n",
    "df_sion.drop(\"CAUS_CODE_DTAL\", axis=1, inplace=True)\n",
    "df_sion.drop(\"DSAS_NAME\", axis=1, inplace=True)\n",
    "df_sion.drop(\"DMND_RSCD_SQNO\", axis=1, inplace=True)\n",
    "df_sion.drop(\"HOSP_OTPA_STDT\", axis=1, inplace=True)\n",
    "df_sion.drop(\"HOSP_OTPA_ENDT\", axis=1, inplace=True)\n",
    "df_sion.drop(\"RESL_CD1\", axis=1, inplace=True)\n",
    "df_sion.drop(\"RESL_NM1\", axis=1, inplace=True)\n",
    "df_sion.drop(\"HOUSE_HOSP_DIST\", axis=1, inplace=True)\n",
    "df_sion.drop(\"HOSP_CODE\", axis=1, inplace=True)\n",
    "df_sion.drop(\"ACCI_HOSP_ADDR\", axis=1, inplace=True)\n",
    "df_sion.drop(\"HOSP_SPEC_DVSN\", axis=1, inplace=True)\n",
    "df_sion.drop(\"CHME_LICE_NO\", axis=1, inplace=True)\n",
    "df_sion.drop(\"PAYM_DATE\", axis=1, inplace=True)\n",
    "df_sion.drop(\"DMND_AMT\", axis=1, inplace=True)\n",
    "df_sion.drop(\"PAYM_AMT\", axis=1, inplace=True)\n",
    "df_sion.drop(\"PMMI_DLNG_YN\", axis=1, inplace=True)\n",
    "df_sion.drop(\"SELF_CHAM\", axis=1, inplace=True)\n",
    "df_sion.drop(\"NON_PAY\", axis=1, inplace=True)\n",
    "df_sion.drop(\"TAMT_SFCA\", axis=1, inplace=True)\n",
    "df_sion.drop(\"PATT_CHRG_TOTA\", axis=1, inplace=True)\n",
    "df_sion.drop(\"DSCT_AMT\", axis=1, inplace=True)\n",
    "df_sion.drop(\"COUNT_TRMT_ITEM\", axis=1, inplace=True)\n",
    "df_sion.drop(\"DCAF_CMPS_XCPA\", axis=1, inplace=True)\n",
    "df_sion.drop(\"SIU_CUST_YN\", axis=1, inplace=True)\n",
    "df_sion.drop(\"HEED_HOSP_YN\", axis=1, inplace=True)"
   ]
  },
  {
   "cell_type": "code",
   "execution_count": 7,
   "metadata": {
    "collapsed": false
   },
   "outputs": [],
   "source": [
    "df_jaeho.drop(\"DIVIDED_SET\", axis=1, inplace=True)\n",
    "df_jaeho.drop(\"RESI_COST\", axis=1, inplace=True)\n",
    "df_jaeho.drop(\"SEX\", axis=1, inplace=True)\n",
    "df_jaeho.drop(\"RESI_TYPE_CODE\", axis=1, inplace=True)\n",
    "df_jaeho.drop(\"FP_CAREER\", axis=1, inplace=True)\n",
    "df_jaeho.drop(\"CUST_RGST\", axis=1, inplace=True)\n",
    "df_jaeho.drop(\"OCCP_GRP_1\", axis=1, inplace=True)\n",
    "df_jaeho.drop(\"OCCP_GRP_2\", axis=1, inplace=True)\n",
    "df_jaeho.drop(\"TOTALPREM\", axis=1, inplace=True)\n",
    "df_jaeho.drop(\"MINCRDT\", axis=1, inplace=True)\n",
    "df_jaeho.drop(\"WEDD_YN\", axis=1, inplace=True)\n",
    "df_jaeho.drop(\"MATE_OCCP_GRP_1\", axis=1, inplace=True)\n",
    "df_jaeho.drop(\"MATE_OCCP_GRP_2\", axis=1, inplace=True)\n",
    "df_jaeho.drop(\"CHLD_CNT\", axis=1, inplace=True)\n",
    "df_jaeho.drop(\"LTBN_CHLD_AGE\", axis=1, inplace=True)\n",
    "df_jaeho.drop(\"MAX_PAYM_YM\", axis=1, inplace=True)\n",
    "df_jaeho.drop(\"MAX_PRM\", axis=1, inplace=True)\n",
    "df_jaeho.drop(\"CUST_INCM\", axis=1, inplace=True)\n",
    "df_jaeho.drop(\"RCBASE_HSHD_INCM\", axis=1, inplace=True)\n",
    "df_jaeho.drop(\"JPBASE_HSHD_INCM\", axis=1, inplace=True)"
   ]
  },
  {
   "cell_type": "code",
   "execution_count": 8,
   "metadata": {
    "collapsed": false
   },
   "outputs": [],
   "source": [
    "df_sungchul.drop(\"CUST_ROLE\", axis=1, inplace=True)\n",
    "df_sungchul.drop(\"IRKD_CODE_DTAL\", axis=1, inplace=True)\n",
    "df_sungchul.drop(\"IRKD_CODE_ITEM\", axis=1, inplace=True)\n",
    "df_sungchul.drop(\"GOOD_CLSF_CDNM\", axis=1, inplace=True)\n",
    "df_sungchul.drop(\"CNTT_YM\", axis=1, inplace=True)\n",
    "df_sungchul.drop(\"CLLT_FP_PRNO\", axis=1, inplace=True)\n",
    "df_sungchul.drop(\"REAL_PAYM_TERM\", axis=1, inplace=True)\n",
    "df_sungchul.drop(\"EXPR_YM\", axis=1, inplace=True)\n",
    "df_sungchul.drop(\"EXTN_YM\", axis=1, inplace=True)\n",
    "df_sungchul.drop(\"LAPS_YM\", axis=1, inplace=True)\n",
    "df_sungchul.drop(\"PAYM_CYCL_CODE\", axis=1, inplace=True)\n",
    "df_sungchul.drop(\"MAIN_INSR_AMT\", axis=1, inplace=True)\n",
    "df_sungchul.drop(\"SUM_ORIG_PREM\", axis=1, inplace=True)\n",
    "df_sungchul.drop(\"RECP_PUBL\", axis=1, inplace=True)\n",
    "df_sungchul.drop(\"CNTT_RECP\", axis=1, inplace=True)\n",
    "df_sungchul.drop(\"MNTH_INCM_AMT\", axis=1, inplace=True)\n",
    "df_sungchul.drop(\"DISTANCE\", axis=1, inplace=True)\n",
    "df_sungchul.drop(\"POLY_NO\", axis=1, inplace=True)"
   ]
  },
  {
   "cell_type": "code",
   "execution_count": 9,
   "metadata": {
    "collapsed": false
   },
   "outputs": [],
   "source": [
    "version_1 = pd.merge(df_jaeho, df_sion, on='CUST_ID', how='left')"
   ]
  },
  {
   "cell_type": "code",
   "execution_count": 10,
   "metadata": {
    "collapsed": false
   },
   "outputs": [],
   "source": [
    "version_2 = pd.merge(version_1, df_sungchul, on='CUST_ID', how='left')"
   ]
  },
  {
   "cell_type": "code",
   "execution_count": 11,
   "metadata": {
    "collapsed": false
   },
   "outputs": [],
   "source": [
    "version_3 = set([ tuple(line) for line in version_2.values.tolist()])"
   ]
  },
  {
   "cell_type": "code",
   "execution_count": 12,
   "metadata": {
    "collapsed": false
   },
   "outputs": [],
   "source": [
    "columns = []\n",
    "for i in version_2.columns:\n",
    "    columns.append(i)"
   ]
  },
  {
   "cell_type": "code",
   "execution_count": 13,
   "metadata": {
    "collapsed": false
   },
   "outputs": [],
   "source": [
    "result = [] \n",
    "result.append(columns)"
   ]
  },
  {
   "cell_type": "code",
   "execution_count": 14,
   "metadata": {
    "collapsed": false
   },
   "outputs": [],
   "source": [
    "for i in version_3:\n",
    "    result.append(list(i))"
   ]
  },
  {
   "cell_type": "code",
   "execution_count": 15,
   "metadata": {
    "collapsed": false
   },
   "outputs": [],
   "source": [
    "for i in range(len(result)):\n",
    "    for j in range(len(result[i])):\n",
    "        result[i][j] = str(result[i][j])"
   ]
  },
  {
   "cell_type": "code",
   "execution_count": 16,
   "metadata": {
    "collapsed": false
   },
   "outputs": [],
   "source": [
    "result_2 = []\n",
    "for i in result:\n",
    "    i[-1] = i[-1]+\"\\n\"\n",
    "    result_2.append(i)"
   ]
  },
  {
   "cell_type": "code",
   "execution_count": 18,
   "metadata": {
    "collapsed": false
   },
   "outputs": [],
   "source": [
    "with open(\"merge_table\", \"w\") as sion: \n",
    "    for data in result_2:\n",
    "        data = \",\".join(data)\n",
    "        sion.write(data)\n",
    "    sion.close()"
   ]
  },
  {
   "cell_type": "code",
   "execution_count": null,
   "metadata": {
    "collapsed": true
   },
   "outputs": [],
   "source": []
  }
 ],
 "metadata": {
  "anaconda-cloud": {},
  "kernelspec": {
   "display_name": "Python [conda env:ml_python]",
   "language": "python",
   "name": "conda-env-ml_python-py"
  },
  "language_info": {
   "codemirror_mode": {
    "name": "ipython",
    "version": 3
   },
   "file_extension": ".py",
   "mimetype": "text/x-python",
   "name": "python",
   "nbconvert_exporter": "python",
   "pygments_lexer": "ipython3",
   "version": "3.5.2"
  }
 },
 "nbformat": 4,
 "nbformat_minor": 1
}
