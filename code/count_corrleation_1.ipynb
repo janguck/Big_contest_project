{
 "cells": [
  {
   "cell_type": "code",
   "execution_count": 2,
   "metadata": {
    "collapsed": false
   },
   "outputs": [],
   "source": [
    "import matplotlib as plt\n",
    "import pandas as pd\n",
    "import numpy as np\n",
    "from math import sqrt\n",
    "from statistics import mean\n",
    "from numpy import array\n",
    "import numpy as np"
   ]
  },
  {
   "cell_type": "code",
   "execution_count": 3,
   "metadata": {
    "collapsed": false,
    "scrolled": true
   },
   "outputs": [
    {
     "data": {
      "text/plain": [
       "Index(['DIVIDED_SET', 'SIU_CUST_YN', 'SEX', 'AGE', 'RESI_COST',\n",
       "       'RESI_TYPE_CODE', 'FP_CAREER', 'CUST_RGST', 'CTPR', 'OCCP_GRP_1',\n",
       "       'OCCP_GRP_2', 'TOTALPREM', 'MINCRDT', 'MAXCRDT', 'WEDD_YN',\n",
       "       'MATE_OCCP_GRP_1', 'MATE_OCCP_GRP_2', 'CHLD_CNT', 'LTBN_CHLD_AGE',\n",
       "       'MAX_PAYM_YM', 'MAX_PRM', 'CUST_INCM', 'RCBASE_HSHD_INCM',\n",
       "       'JPBASE_HSHD_INCM'],\n",
       "      dtype='object')"
      ]
     },
     "execution_count": 3,
     "metadata": {},
     "output_type": "execute_result"
    }
   ],
   "source": [
    "df = pd.read_csv('../data_utf_8/BGCON_CUST_DATA_utf_8_extract.txt', index_col=0)\n",
    "df.columns"
   ]
  },
  {
   "cell_type": "code",
   "execution_count": 4,
   "metadata": {
    "collapsed": false
   },
   "outputs": [],
   "source": [
    "df_DIVIDED_SET = df[\"DIVIDED_SET\"] \n",
    "df_SEX = df[\"SEX\"]\n",
    "df_AGE = df[\"AGE\"]\n",
    "df_RESI_COST = df[\"RESI_COST\"]\n",
    "df_RESI_TYPE_CODE = df[\"RESI_TYPE_CODE\"]\n",
    "df_FP_CAREER = df[\"FP_CAREER\"]\n",
    "df_CUST_RGST = df[\"CUST_RGST\"]\n",
    "df_CTPR = df[\"CTPR\"]\n",
    "df_OCCP_GRP_1 = df[\"OCCP_GRP_1\"]\n",
    "df_OCCP_GRP_2 = df[\"OCCP_GRP_2\"]\n",
    "df_TOTALPREM = df[\"TOTALPREM\"]\n",
    "df_MINCRDT = df[\"MINCRDT\"]\n",
    "df_MAXCRDT = df[\"MAXCRDT\"]\n",
    "df_WEDD_YN = df[\"WEDD_YN\"]\n",
    "df_MATE_OCCP_GRP_1 = df[\"MATE_OCCP_GRP_1\"]\n",
    "df_MATE_OCCP_GRP_2 = df[\"MATE_OCCP_GRP_2\"]\n",
    "df_CHLD_CNT = df[\"CHLD_CNT\"]\n",
    "df_LTBN_CHLD_AGE = df[\"LTBN_CHLD_AGE\"]\n",
    "df_MAX_PAYM_YM = df[\"MAX_PAYM_YM\"]\n",
    "df_MAX_PRM = df[\"MAX_PRM\"]\n",
    "df_CUST_INCM = df[\"CUST_INCM\"]\n",
    "df_RCBASE_HSHD_INCM = df[\"RCBASE_HSHD_INCM\"]\n",
    "df_JPBASE_HSHD_INCM = df[\"JPBASE_HSHD_INCM\"]\n",
    "\n",
    "\n",
    "df_SIU_CUST_YN = df[\"SIU_CUST_YN\"]"
   ]
  },
  {
   "cell_type": "code",
   "execution_count": 32,
   "metadata": {
    "collapsed": false,
    "scrolled": true
   },
   "outputs": [],
   "source": [
    "#for column in range(0, 10):\n",
    "#    if column not in [6]:\n",
    "#        df[names[column]] = df[names[column]].astype(\"category\")"
   ]
  },
  {
   "cell_type": "code",
   "execution_count": 5,
   "metadata": {
    "collapsed": true
   },
   "outputs": [],
   "source": [
    "def variance(x):\n",
    "    n = len(x)\n",
    "    deviations = de_mean(x)\n",
    "    return sum_of_squares(deviations) / (n - 1)\n",
    "\n",
    "def standard_deviation(x):\n",
    "    return math.sqrt(variance(x))\n",
    "\n",
    "def de_mean(x):\n",
    "    x_bar = mean(x)\n",
    "    return [x_i - x_bar for x_i in x]\n",
    "\n",
    "def sum_of_squares(v):\n",
    "    return dot(v, v)"
   ]
  },
  {
   "cell_type": "code",
   "execution_count": 10,
   "metadata": {
    "collapsed": false
   },
   "outputs": [],
   "source": [
    "def correlation(x, y):\n",
    "    stdev_x = standard_deviation(x)\n",
    "    stdev_y = standard_deviation(y)\n",
    "    if stdev_x > 0 and stdev_y > 0:\n",
    "        return covariance(x, y) / stdev_x / stdev_y\n",
    "    else:\n",
    "        return 0 \n",
    "\n",
    "    #4가지 선택\n",
    "\n",
    "#x_data = df_SEX\n",
    "#x_data = df_AGE\n",
    "#x_data = df['FP_CAREER'].map(lambda x: 0 if x == 'N' else 1)\n",
    "x_data = df_RESI_COST\n",
    "df['SIU_CUST_YN'] = df['SIU_CUST_YN'].map(lambda x: 0 if x == 'N' else 1)\n",
    "#correlation(x_data, y_data)"
   ]
  },
  {
   "cell_type": "code",
   "execution_count": 11,
   "metadata": {
    "collapsed": false
   },
   "outputs": [
    {
     "data": {
      "text/plain": [
       "array([[ 1.        , -0.04417249],\n",
       "       [-0.04417249,  1.        ]])"
      ]
     },
     "execution_count": 11,
     "metadata": {},
     "output_type": "execute_result"
    }
   ],
   "source": [
    "np.corrcoef(x_data, y_data)"
   ]
  },
  {
   "cell_type": "code",
   "execution_count": 12,
   "metadata": {
    "collapsed": false
   },
   "outputs": [
    {
     "data": {
      "text/plain": [
       "DIVIDED_SET            int64\n",
       "SIU_CUST_YN            int64\n",
       "SEX                    int64\n",
       "AGE                    int64\n",
       "RESI_COST              int64\n",
       "RESI_TYPE_CODE       float64\n",
       "FP_CAREER             object\n",
       "CUST_RGST            float64\n",
       "CTPR                category\n",
       "OCCP_GRP_1          category\n",
       "OCCP_GRP_2          category\n",
       "TOTALPREM            float64\n",
       "MINCRDT              float64\n",
       "MAXCRDT              float64\n",
       "WEDD_YN               object\n",
       "MATE_OCCP_GRP_1     category\n",
       "MATE_OCCP_GRP_2     category\n",
       "CHLD_CNT             float64\n",
       "LTBN_CHLD_AGE        float64\n",
       "MAX_PAYM_YM          float64\n",
       "MAX_PRM              float64\n",
       "CUST_INCM            float64\n",
       "RCBASE_HSHD_INCM       int64\n",
       "JPBASE_HSHD_INCM     float64\n",
       "dtype: object"
      ]
     },
     "execution_count": 12,
     "metadata": {},
     "output_type": "execute_result"
    }
   ],
   "source": [
    "df['CTPR'] = df['CTPR'].astype(\"category\")\n",
    "df['OCCP_GRP_1'] = df['OCCP_GRP_1'].astype(\"category\")\n",
    "df['OCCP_GRP_2'] = df['OCCP_GRP_2'].astype(\"category\")\n",
    "df['MATE_OCCP_GRP_1'] = df['MATE_OCCP_GRP_1'].astype(\"category\")\n",
    "df['MATE_OCCP_GRP_2'] = df['MATE_OCCP_GRP_2'].astype(\"category\")\n",
    "\n",
    "df.dtypes"
   ]
  },
  {
   "cell_type": "code",
   "execution_count": 13,
   "metadata": {
    "collapsed": false,
    "scrolled": true
   },
   "outputs": [
    {
     "name": "stderr",
     "output_type": "stream",
     "text": [
      "/home/leejaeho/miniconda3/envs/ml_python/lib/python3.4/site-packages/numpy/lib/function_base.py:3834: RuntimeWarning: Invalid value encountered in percentile\n",
      "  RuntimeWarning)\n"
     ]
    },
    {
     "data": {
      "text/html": [
       "<div>\n",
       "<table border=\"1\" class=\"dataframe\">\n",
       "  <thead>\n",
       "    <tr style=\"text-align: right;\">\n",
       "      <th></th>\n",
       "      <th>DIVIDED_SET</th>\n",
       "      <th>SIU_CUST_YN</th>\n",
       "      <th>SEX</th>\n",
       "      <th>AGE</th>\n",
       "      <th>RESI_COST</th>\n",
       "      <th>RESI_TYPE_CODE</th>\n",
       "      <th>FP_CAREER</th>\n",
       "      <th>CUST_RGST</th>\n",
       "      <th>TOTALPREM</th>\n",
       "      <th>MINCRDT</th>\n",
       "      <th>...</th>\n",
       "      <th>MATE_OCCP_GRP_2_사무직</th>\n",
       "      <th>MATE_OCCP_GRP_2_예체능계 종사자</th>\n",
       "      <th>MATE_OCCP_GRP_2_운전직</th>\n",
       "      <th>MATE_OCCP_GRP_2_의료직 종사자</th>\n",
       "      <th>MATE_OCCP_GRP_2_자영업</th>\n",
       "      <th>MATE_OCCP_GRP_2_전문직</th>\n",
       "      <th>MATE_OCCP_GRP_2_종교인/역술인</th>\n",
       "      <th>MATE_OCCP_GRP_2_주부</th>\n",
       "      <th>MATE_OCCP_GRP_2_학생</th>\n",
       "      <th>MATE_OCCP_GRP_2_학자/연구직</th>\n",
       "    </tr>\n",
       "    <tr>\n",
       "      <th>CUST_ID</th>\n",
       "      <th></th>\n",
       "      <th></th>\n",
       "      <th></th>\n",
       "      <th></th>\n",
       "      <th></th>\n",
       "      <th></th>\n",
       "      <th></th>\n",
       "      <th></th>\n",
       "      <th></th>\n",
       "      <th></th>\n",
       "      <th></th>\n",
       "      <th></th>\n",
       "      <th></th>\n",
       "      <th></th>\n",
       "      <th></th>\n",
       "      <th></th>\n",
       "      <th></th>\n",
       "      <th></th>\n",
       "      <th></th>\n",
       "      <th></th>\n",
       "      <th></th>\n",
       "    </tr>\n",
       "  </thead>\n",
       "  <tbody>\n",
       "    <tr>\n",
       "      <th>1</th>\n",
       "      <td>1</td>\n",
       "      <td>0</td>\n",
       "      <td>2</td>\n",
       "      <td>47</td>\n",
       "      <td>21111</td>\n",
       "      <td>20.0</td>\n",
       "      <td>N</td>\n",
       "      <td>199910.0</td>\n",
       "      <td>146980441.0</td>\n",
       "      <td>NaN</td>\n",
       "      <td>...</td>\n",
       "      <td>0.0</td>\n",
       "      <td>0.0</td>\n",
       "      <td>0.0</td>\n",
       "      <td>0.0</td>\n",
       "      <td>0.0</td>\n",
       "      <td>0.0</td>\n",
       "      <td>0.0</td>\n",
       "      <td>0.0</td>\n",
       "      <td>0.0</td>\n",
       "      <td>0.0</td>\n",
       "    </tr>\n",
       "    <tr>\n",
       "      <th>2</th>\n",
       "      <td>1</td>\n",
       "      <td>0</td>\n",
       "      <td>1</td>\n",
       "      <td>53</td>\n",
       "      <td>40000</td>\n",
       "      <td>20.0</td>\n",
       "      <td>N</td>\n",
       "      <td>199910.0</td>\n",
       "      <td>94600109.0</td>\n",
       "      <td>1.0</td>\n",
       "      <td>...</td>\n",
       "      <td>0.0</td>\n",
       "      <td>0.0</td>\n",
       "      <td>0.0</td>\n",
       "      <td>0.0</td>\n",
       "      <td>0.0</td>\n",
       "      <td>0.0</td>\n",
       "      <td>0.0</td>\n",
       "      <td>1.0</td>\n",
       "      <td>0.0</td>\n",
       "      <td>0.0</td>\n",
       "    </tr>\n",
       "    <tr>\n",
       "      <th>3</th>\n",
       "      <td>1</td>\n",
       "      <td>0</td>\n",
       "      <td>1</td>\n",
       "      <td>60</td>\n",
       "      <td>0</td>\n",
       "      <td>NaN</td>\n",
       "      <td>N</td>\n",
       "      <td>199910.0</td>\n",
       "      <td>18501269.0</td>\n",
       "      <td>NaN</td>\n",
       "      <td>...</td>\n",
       "      <td>0.0</td>\n",
       "      <td>0.0</td>\n",
       "      <td>0.0</td>\n",
       "      <td>0.0</td>\n",
       "      <td>0.0</td>\n",
       "      <td>0.0</td>\n",
       "      <td>0.0</td>\n",
       "      <td>0.0</td>\n",
       "      <td>0.0</td>\n",
       "      <td>0.0</td>\n",
       "    </tr>\n",
       "    <tr>\n",
       "      <th>4</th>\n",
       "      <td>1</td>\n",
       "      <td>0</td>\n",
       "      <td>2</td>\n",
       "      <td>64</td>\n",
       "      <td>12861</td>\n",
       "      <td>40.0</td>\n",
       "      <td>Y</td>\n",
       "      <td>199910.0</td>\n",
       "      <td>317223657.0</td>\n",
       "      <td>2.0</td>\n",
       "      <td>...</td>\n",
       "      <td>0.0</td>\n",
       "      <td>0.0</td>\n",
       "      <td>0.0</td>\n",
       "      <td>0.0</td>\n",
       "      <td>0.0</td>\n",
       "      <td>0.0</td>\n",
       "      <td>0.0</td>\n",
       "      <td>0.0</td>\n",
       "      <td>0.0</td>\n",
       "      <td>0.0</td>\n",
       "    </tr>\n",
       "    <tr>\n",
       "      <th>5</th>\n",
       "      <td>1</td>\n",
       "      <td>0</td>\n",
       "      <td>2</td>\n",
       "      <td>54</td>\n",
       "      <td>0</td>\n",
       "      <td>NaN</td>\n",
       "      <td>Y</td>\n",
       "      <td>199910.0</td>\n",
       "      <td>10506072.0</td>\n",
       "      <td>8.0</td>\n",
       "      <td>...</td>\n",
       "      <td>0.0</td>\n",
       "      <td>0.0</td>\n",
       "      <td>0.0</td>\n",
       "      <td>0.0</td>\n",
       "      <td>0.0</td>\n",
       "      <td>0.0</td>\n",
       "      <td>0.0</td>\n",
       "      <td>0.0</td>\n",
       "      <td>0.0</td>\n",
       "      <td>0.0</td>\n",
       "    </tr>\n",
       "  </tbody>\n",
       "</table>\n",
       "<p>5 rows × 96 columns</p>\n",
       "</div>"
      ],
      "text/plain": [
       "         DIVIDED_SET  SIU_CUST_YN  SEX  AGE  RESI_COST  RESI_TYPE_CODE  \\\n",
       "CUST_ID                                                                  \n",
       "1                  1            0    2   47      21111            20.0   \n",
       "2                  1            0    1   53      40000            20.0   \n",
       "3                  1            0    1   60          0             NaN   \n",
       "4                  1            0    2   64      12861            40.0   \n",
       "5                  1            0    2   54          0             NaN   \n",
       "\n",
       "        FP_CAREER  CUST_RGST    TOTALPREM  MINCRDT           ...            \\\n",
       "CUST_ID                                                      ...             \n",
       "1               N   199910.0  146980441.0      NaN           ...             \n",
       "2               N   199910.0   94600109.0      1.0           ...             \n",
       "3               N   199910.0   18501269.0      NaN           ...             \n",
       "4               Y   199910.0  317223657.0      2.0           ...             \n",
       "5               Y   199910.0   10506072.0      8.0           ...             \n",
       "\n",
       "         MATE_OCCP_GRP_2_사무직 MATE_OCCP_GRP_2_예체능계 종사자  MATE_OCCP_GRP_2_운전직  \\\n",
       "CUST_ID                                                                      \n",
       "1                        0.0                      0.0                  0.0   \n",
       "2                        0.0                      0.0                  0.0   \n",
       "3                        0.0                      0.0                  0.0   \n",
       "4                        0.0                      0.0                  0.0   \n",
       "5                        0.0                      0.0                  0.0   \n",
       "\n",
       "         MATE_OCCP_GRP_2_의료직 종사자  MATE_OCCP_GRP_2_자영업  MATE_OCCP_GRP_2_전문직  \\\n",
       "CUST_ID                                                                      \n",
       "1                            0.0                  0.0                  0.0   \n",
       "2                            0.0                  0.0                  0.0   \n",
       "3                            0.0                  0.0                  0.0   \n",
       "4                            0.0                  0.0                  0.0   \n",
       "5                            0.0                  0.0                  0.0   \n",
       "\n",
       "         MATE_OCCP_GRP_2_종교인/역술인  MATE_OCCP_GRP_2_주부  MATE_OCCP_GRP_2_학생  \\\n",
       "CUST_ID                                                                    \n",
       "1                            0.0                 0.0                 0.0   \n",
       "2                            0.0                 1.0                 0.0   \n",
       "3                            0.0                 0.0                 0.0   \n",
       "4                            0.0                 0.0                 0.0   \n",
       "5                            0.0                 0.0                 0.0   \n",
       "\n",
       "         MATE_OCCP_GRP_2_학자/연구직  \n",
       "CUST_ID                          \n",
       "1                           0.0  \n",
       "2                           0.0  \n",
       "3                           0.0  \n",
       "4                           0.0  \n",
       "5                           0.0  \n",
       "\n",
       "[5 rows x 96 columns]"
      ]
     },
     "execution_count": 13,
     "metadata": {},
     "output_type": "execute_result"
    }
   ],
   "source": [
    "df1 = pd.get_dummies(df, columns=[\"CTPR\",\"OCCP_GRP_1\",\"OCCP_GRP_2\",\"MATE_OCCP_GRP_1\",\"MATE_OCCP_GRP_2\"], drop_first = True)\n",
    "df1.describe()\n",
    "df1.head()"
   ]
  },
  {
   "cell_type": "code",
   "execution_count": 14,
   "metadata": {
    "collapsed": false,
    "scrolled": false
   },
   "outputs": [
    {
     "data": {
      "text/plain": [
       "Index(['DIVIDED_SET', 'SIU_CUST_YN', 'SEX', 'AGE', 'RESI_COST',\n",
       "       'RESI_TYPE_CODE', 'FP_CAREER', 'CUST_RGST', 'TOTALPREM', 'MINCRDT',\n",
       "       'MAXCRDT', 'WEDD_YN', 'CHLD_CNT', 'LTBN_CHLD_AGE', 'MAX_PAYM_YM',\n",
       "       'MAX_PRM', 'CUST_INCM', 'RCBASE_HSHD_INCM', 'JPBASE_HSHD_INCM',\n",
       "       'CTPR_경기', 'CTPR_경남', 'CTPR_경북', 'CTPR_광주', 'CTPR_대구', 'CTPR_대전',\n",
       "       'CTPR_부산', 'CTPR_서울', 'CTPR_세종', 'CTPR_울산', 'CTPR_인천', 'CTPR_전남',\n",
       "       'CTPR_전북', 'CTPR_제주', 'CTPR_충남', 'CTPR_충북', 'OCCP_GRP_1_2.자영업',\n",
       "       'OCCP_GRP_1_3.사무직', 'OCCP_GRP_1_4.전문직', 'OCCP_GRP_1_5.서비스',\n",
       "       'OCCP_GRP_1_6.제조업', 'OCCP_GRP_1_7.1차산업', 'OCCP_GRP_1_8.기타',\n",
       "       'OCCP_GRP_2_2차산업 종사자', 'OCCP_GRP_2_3차산업 종사자', 'OCCP_GRP_2_고소득 전문직',\n",
       "       'OCCP_GRP_2_고소득의료직', 'OCCP_GRP_2_고위 공무원', 'OCCP_GRP_2_공무원',\n",
       "       'OCCP_GRP_2_교사', 'OCCP_GRP_2_교육관련직', 'OCCP_GRP_2_기업/단체 임원',\n",
       "       'OCCP_GRP_2_기타', 'OCCP_GRP_2_단순 노무직', 'OCCP_GRP_2_단순 사무직',\n",
       "       'OCCP_GRP_2_대학교수/강사', 'OCCP_GRP_2_법무직 종사자', 'OCCP_GRP_2_사무직',\n",
       "       'OCCP_GRP_2_예체능계 종사자', 'OCCP_GRP_2_운전직', 'OCCP_GRP_2_의료직 종사자',\n",
       "       'OCCP_GRP_2_자영업', 'OCCP_GRP_2_전문직', 'OCCP_GRP_2_종교인/역술인',\n",
       "       'OCCP_GRP_2_주부', 'OCCP_GRP_2_학생', 'OCCP_GRP_2_학자/연구직',\n",
       "       'MATE_OCCP_GRP_1_2.자영업', 'MATE_OCCP_GRP_1_3.사무직',\n",
       "       'MATE_OCCP_GRP_1_4.전문직', 'MATE_OCCP_GRP_1_5.서비스',\n",
       "       'MATE_OCCP_GRP_1_6.제조업', 'MATE_OCCP_GRP_1_7.1차산업',\n",
       "       'MATE_OCCP_GRP_1_8.기타', 'MATE_OCCP_GRP_2_2차산업 종사자',\n",
       "       'MATE_OCCP_GRP_2_3차산업 종사자', 'MATE_OCCP_GRP_2_고소득 전문직',\n",
       "       'MATE_OCCP_GRP_2_고소득의료직', 'MATE_OCCP_GRP_2_고위 공무원',\n",
       "       'MATE_OCCP_GRP_2_공무원', 'MATE_OCCP_GRP_2_교사', 'MATE_OCCP_GRP_2_교육관련직',\n",
       "       'MATE_OCCP_GRP_2_기업/단체 임원', 'MATE_OCCP_GRP_2_기타',\n",
       "       'MATE_OCCP_GRP_2_단순 노무직', 'MATE_OCCP_GRP_2_단순 사무직',\n",
       "       'MATE_OCCP_GRP_2_대학교수/강사', 'MATE_OCCP_GRP_2_사무직',\n",
       "       'MATE_OCCP_GRP_2_예체능계 종사자', 'MATE_OCCP_GRP_2_운전직',\n",
       "       'MATE_OCCP_GRP_2_의료직 종사자', 'MATE_OCCP_GRP_2_자영업', 'MATE_OCCP_GRP_2_전문직',\n",
       "       'MATE_OCCP_GRP_2_종교인/역술인', 'MATE_OCCP_GRP_2_주부', 'MATE_OCCP_GRP_2_학생',\n",
       "       'MATE_OCCP_GRP_2_학자/연구직'],\n",
       "      dtype='object')"
      ]
     },
     "execution_count": 14,
     "metadata": {},
     "output_type": "execute_result"
    }
   ],
   "source": [
    "df1.columns"
   ]
  },
  {
   "cell_type": "code",
   "execution_count": 17,
   "metadata": {
    "collapsed": false
   },
   "outputs": [
    {
     "data": {
      "text/plain": [
       "MATE_OCCP_GRP_1\n",
       "1.주부      0.073990\n",
       "2.자영업     0.123351\n",
       "3.사무직     0.092691\n",
       "4.전문직     0.073887\n",
       "5.서비스     0.102113\n",
       "6.제조업     0.089251\n",
       "7.1차산업    0.089457\n",
       "8.기타      0.089810\n",
       "Name: SIU_CUST_YN, dtype: float64"
      ]
     },
     "execution_count": 17,
     "metadata": {},
     "output_type": "execute_result"
    }
   ],
   "source": [
    "grouped = df1['SIU_CUST_YN'].groupby(df['MATE_OCCP_GRP_1'])\n",
    "#print(grouped.describe())\n",
    "grouped.mean()"
   ]
  },
  {
   "cell_type": "code",
   "execution_count": 143,
   "metadata": {
    "collapsed": false
   },
   "outputs": [],
   "source": [
    "#names = [\"df_DIVIDED_SET\", \"df_SEX\", \"df_AGE\", \"df_RESI_COST\", \"df_RESI_TYPE_CODE\", \"df_FP_CAREER\", \"df_CUST_RGST\", \"df_CTPR\", \"df_OCCP_GRP_1\", \"df_OCCP_GRP_2\", \"df_TOTALPREM\", \"df_MINCRDT\", \"df_MAXCRDT\", \"df_WEDD_YN\", \"df_MATE_OCCP_GRP_1\", \"df_MATE_OCCP_GRP_2\", \"df_CHLD_CNT\", \"df_LTBN_CHLD_AGE\", \"df_MAX_PAYM_YM\", \"df_MAX_PRM\", \"df_CUST_INCM\", \"df_RCBASE_HSHD_INCM\", \"df_JPBASE_HSHD_INCM\"]\n",
    "#df[:5]\n",
    "#df.dtypes"
   ]
  }
 ],
 "metadata": {
  "anaconda-cloud": {},
  "kernelspec": {
   "display_name": "Python [default]",
   "language": "python",
   "name": "python3"
  },
  "language_info": {
   "codemirror_mode": {
    "name": "ipython",
    "version": 3
   },
   "file_extension": ".py",
   "mimetype": "text/x-python",
   "name": "python",
   "nbconvert_exporter": "python",
   "pygments_lexer": "ipython3",
   "version": "3.5.2"
  }
 },
 "nbformat": 4,
 "nbformat_minor": 1
}
